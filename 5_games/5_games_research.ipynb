{
 "cells": [
  {
   "cell_type": "markdown",
   "id": "2e24fd27",
   "metadata": {},
   "source": [
    "# Закономерности, определяющие успешность компьютерной игры"
   ]
  },
  {
   "cell_type": "markdown",
   "id": "a4dc914d",
   "metadata": {},
   "source": [
    "Сборный проект №1 в рамках курса \"Аналитик данных\" на Практикуме от Яндекса.\n",
    "\n",
    "Для интернет-магазина, который продает по всему миру компьютерные игры, необходимо выявить закономерности, определяющие успешность компьютерной игры. Это позволит сделать ставку на потенциально популярный продукт и спланировать рекламные кампании. Из открытых источников доступны исторические данные о продажах игр, оценки пользователей и экспертов, жанры и платформы (например, Xbox или PlayStation)."
   ]
  },
  {
   "cell_type": "markdown",
   "id": "6ca2ba6b",
   "metadata": {},
   "source": [
    "**Цель исследования** — выявить закономерности в данных, определяющие успешность игры . В дальнейшем, результаты исследования позволят сделать ставку на потенциально популярный продукт и спланировать рекламные кампании."
   ]
  },
  {
   "cell_type": "markdown",
   "id": "dec3adc7",
   "metadata": {},
   "source": [
    "**Исходные данные:**\n",
    "\n",
    "- Name — название игры\n",
    "- Platform — платформа\n",
    "- Year_of_Release — год выпуска\n",
    "- Genre — жанр игры\n",
    "- NA_sales — продажи в Северной Америке (миллионы проданных копий)\n",
    "- EU_sales — продажи в Европе (миллионы проданных копий)\n",
    "- JP_sales — продажи в Японии (миллионы проданных копий)\n",
    "- Other_sales — продажи в других странах (миллионы проданных копий)\n",
    "- Critic_Score — оценка критиков (максимум 100)\n",
    "- User_Score — оценка пользователей (максимум 10)\n",
    "- Rating — рейтинг от организации ESRB (англ. Entertainment Software Rating Board). Эта ассоциация определяет рейтинг компьютерных игр и присваивает им подходящую возрастную категорию.\n"
   ]
  },
  {
   "cell_type": "markdown",
   "id": "e6af5cfe",
   "metadata": {},
   "source": [
    "**Ход исследования:**\n",
    "\n",
    "*Часть1. Изучение общей информации:*\n",
    "\n",
    "* [1. Изученеие файлов с данными, получение общей информации, загрузка библиотек.](#1-bullet)\n",
    "\n",
    "\n",
    "*Часть2. Подготовка данных:*\n",
    "\n",
    "* [1.Замена названия столбцов (приведение к нижнему регистру)](#2-bullet)\n",
    "* [2.Преобразование типов данных](#3-bullet)\n",
    "* [3.Обработка пропусков дубликатов данных](#4-bullet)\n",
    "* [4.Обработка пропусков данных](#5-bullet)\n",
    "* [5.Подсчет суммарных продаж во всех регионах с созданием нового столбца](#6-bullet)\n",
    "\n",
    "\n",
    "*Часть3. Исследовательский анализ данных:*\n",
    "\n",
    "* [1.Исследование количества игр по годам](#7-bullet)\n",
    "* [2.Исследование объема продаж по платформам](#8-bullet)\n",
    "* [3.Отбор данных за актуальный период- определение периода, данные за который помогут  прогноз на 2017 год](#9-bullet)\n",
    "* [4. Исследование глобальных продаж всех игр по платформам](#10-bullet)\n",
    "* [5.Построение графика «ящик с усами» по глобальным продажам игр в разбивке по платформам](#11-bullet)\n",
    "* [6. Исследование влияния отзывов пользователей и критиков на продажи игр для PS4](#12-bullet)\n",
    "* [7.Распределение игр по жанрам](#13-bullet)\n",
    "\n",
    "\n",
    "*Часть4.Портрет пользователя каждого региона:*\n",
    "\n",
    "* [1.Топ-5 платформ в Северной Америке, Европе и Японии](#14-bullet)\n",
    "* [2.Самые популярные жанры (топ-5) в Северной Америке, Европе и Японии](#15-bullet)\n",
    "* [3.Влияние рейтинга ESRB на продажи в Северной Америке, Европе и Японии](#16-bullet)\n",
    "\n",
    "\n",
    "*Часть 5. Проверка гипотез:*\n",
    "* [1.Средние пользовательские рейтинги платформ Xbox One и PC одинаковые](#17-bullet)\n",
    "* [2.Средние пользовательские рейтинги жанров Action и Sports разные](#18-bullet)\n",
    "\n",
    "\n",
    "*Часть 6. Общий вывод*\n",
    "* [1.Общий вывод по исследованию](#19-bullet)"
   ]
  },
  {
   "cell_type": "markdown",
   "id": "0aae630d",
   "metadata": {},
   "source": [
    "# 1. Изучение общей информации"
   ]
  },
  {
   "cell_type": "markdown",
   "id": "112c328b",
   "metadata": {},
   "source": [
    "<a id='1-bullet'></a>"
   ]
  },
  {
   "cell_type": "markdown",
   "id": "2dee954e",
   "metadata": {},
   "source": [
    "## Изученеие файлов с данными, получение общей информации, загрузка библиотек"
   ]
  },
  {
   "cell_type": "markdown",
   "id": "cbbfe4d4",
   "metadata": {},
   "source": [
    "Открываю файл с данными и знакомлюсь с датасетом, чтобы иметь представление, с чем буду работать далее и провести первичный визуальный анализ данных."
   ]
  },
  {
   "cell_type": "code",
   "execution_count": 1,
   "id": "551bffa9",
   "metadata": {},
   "outputs": [],
   "source": [
    "import pandas as pd\n",
    "import numpy as np\n",
    "import matplotlib.pyplot as plt\n",
    "import seaborn as sns\n",
    "import warnings\n",
    "warnings.filterwarnings('ignore')\n",
    "\n",
    "\n",
    "from datetime import datetime\n",
    "from scipy import stats as st"
   ]
  },
  {
   "cell_type": "code",
   "execution_count": 2,
   "id": "c97bba90",
   "metadata": {},
   "outputs": [],
   "source": [
    "try:\n",
    "    data = pd.read_csv('/datasets/games.csv')\n",
    "except:\n",
    "    data = pd.read_csv('https://code.s3.yandex.net/datasets/games.csv')"
   ]
  },
  {
   "cell_type": "code",
   "execution_count": 3,
   "id": "47fea59d",
   "metadata": {},
   "outputs": [
    {
     "data": {
      "text/html": [
       "<div>\n",
       "<style scoped>\n",
       "    .dataframe tbody tr th:only-of-type {\n",
       "        vertical-align: middle;\n",
       "    }\n",
       "\n",
       "    .dataframe tbody tr th {\n",
       "        vertical-align: top;\n",
       "    }\n",
       "\n",
       "    .dataframe thead th {\n",
       "        text-align: right;\n",
       "    }\n",
       "</style>\n",
       "<table border=\"1\" class=\"dataframe\">\n",
       "  <thead>\n",
       "    <tr style=\"text-align: right;\">\n",
       "      <th></th>\n",
       "      <th>Name</th>\n",
       "      <th>Platform</th>\n",
       "      <th>Year_of_Release</th>\n",
       "      <th>Genre</th>\n",
       "      <th>NA_sales</th>\n",
       "      <th>EU_sales</th>\n",
       "      <th>JP_sales</th>\n",
       "      <th>Other_sales</th>\n",
       "      <th>Critic_Score</th>\n",
       "      <th>User_Score</th>\n",
       "      <th>Rating</th>\n",
       "    </tr>\n",
       "  </thead>\n",
       "  <tbody>\n",
       "    <tr>\n",
       "      <th>0</th>\n",
       "      <td>Wii Sports</td>\n",
       "      <td>Wii</td>\n",
       "      <td>2006.0</td>\n",
       "      <td>Sports</td>\n",
       "      <td>41.36</td>\n",
       "      <td>28.96</td>\n",
       "      <td>3.77</td>\n",
       "      <td>8.45</td>\n",
       "      <td>76.0</td>\n",
       "      <td>8</td>\n",
       "      <td>E</td>\n",
       "    </tr>\n",
       "    <tr>\n",
       "      <th>1</th>\n",
       "      <td>Super Mario Bros.</td>\n",
       "      <td>NES</td>\n",
       "      <td>1985.0</td>\n",
       "      <td>Platform</td>\n",
       "      <td>29.08</td>\n",
       "      <td>3.58</td>\n",
       "      <td>6.81</td>\n",
       "      <td>0.77</td>\n",
       "      <td>NaN</td>\n",
       "      <td>NaN</td>\n",
       "      <td>NaN</td>\n",
       "    </tr>\n",
       "    <tr>\n",
       "      <th>2</th>\n",
       "      <td>Mario Kart Wii</td>\n",
       "      <td>Wii</td>\n",
       "      <td>2008.0</td>\n",
       "      <td>Racing</td>\n",
       "      <td>15.68</td>\n",
       "      <td>12.76</td>\n",
       "      <td>3.79</td>\n",
       "      <td>3.29</td>\n",
       "      <td>82.0</td>\n",
       "      <td>8.3</td>\n",
       "      <td>E</td>\n",
       "    </tr>\n",
       "    <tr>\n",
       "      <th>3</th>\n",
       "      <td>Wii Sports Resort</td>\n",
       "      <td>Wii</td>\n",
       "      <td>2009.0</td>\n",
       "      <td>Sports</td>\n",
       "      <td>15.61</td>\n",
       "      <td>10.93</td>\n",
       "      <td>3.28</td>\n",
       "      <td>2.95</td>\n",
       "      <td>80.0</td>\n",
       "      <td>8</td>\n",
       "      <td>E</td>\n",
       "    </tr>\n",
       "    <tr>\n",
       "      <th>4</th>\n",
       "      <td>Pokemon Red/Pokemon Blue</td>\n",
       "      <td>GB</td>\n",
       "      <td>1996.0</td>\n",
       "      <td>Role-Playing</td>\n",
       "      <td>11.27</td>\n",
       "      <td>8.89</td>\n",
       "      <td>10.22</td>\n",
       "      <td>1.00</td>\n",
       "      <td>NaN</td>\n",
       "      <td>NaN</td>\n",
       "      <td>NaN</td>\n",
       "    </tr>\n",
       "  </tbody>\n",
       "</table>\n",
       "</div>"
      ],
      "text/plain": [
       "                       Name Platform  Year_of_Release         Genre  NA_sales  \\\n",
       "0                Wii Sports      Wii           2006.0        Sports     41.36   \n",
       "1         Super Mario Bros.      NES           1985.0      Platform     29.08   \n",
       "2            Mario Kart Wii      Wii           2008.0        Racing     15.68   \n",
       "3         Wii Sports Resort      Wii           2009.0        Sports     15.61   \n",
       "4  Pokemon Red/Pokemon Blue       GB           1996.0  Role-Playing     11.27   \n",
       "\n",
       "   EU_sales  JP_sales  Other_sales  Critic_Score User_Score Rating  \n",
       "0     28.96      3.77         8.45          76.0          8      E  \n",
       "1      3.58      6.81         0.77           NaN        NaN    NaN  \n",
       "2     12.76      3.79         3.29          82.0        8.3      E  \n",
       "3     10.93      3.28         2.95          80.0          8      E  \n",
       "4      8.89     10.22         1.00           NaN        NaN    NaN  "
      ]
     },
     "metadata": {},
     "output_type": "display_data"
    }
   ],
   "source": [
    "display(data.head())"
   ]
  },
  {
   "cell_type": "markdown",
   "id": "277cbe3d",
   "metadata": {},
   "source": [
    "Из выведенной части таблицы видно, что в данных есть пропуски - их необходимо будет заполнить, столбец с годом выпуска не в целочисленных значениях- необходимо будет ззаменить на тип int.\n",
    "\n",
    "На первый взгляд пропуски видны в столбцах с оценкой критиков, пользователей и возрастным ретингом. Так как мы не знаем, как собирались данные, эти пропуски могут следствием неправильного переноса из первоисточника или изначальным отсутсвием рейтинга, например такое может быть у старых игр."
   ]
  },
  {
   "cell_type": "markdown",
   "id": "be4711f7",
   "metadata": {},
   "source": [
    "Выводим общую информацию о датасете:"
   ]
  },
  {
   "cell_type": "code",
   "execution_count": 4,
   "id": "7bccf4ca",
   "metadata": {},
   "outputs": [
    {
     "name": "stdout",
     "output_type": "stream",
     "text": [
      "<class 'pandas.core.frame.DataFrame'>\n",
      "RangeIndex: 16715 entries, 0 to 16714\n",
      "Data columns (total 11 columns):\n",
      " #   Column           Non-Null Count  Dtype  \n",
      "---  ------           --------------  -----  \n",
      " 0   Name             16713 non-null  object \n",
      " 1   Platform         16715 non-null  object \n",
      " 2   Year_of_Release  16446 non-null  float64\n",
      " 3   Genre            16713 non-null  object \n",
      " 4   NA_sales         16715 non-null  float64\n",
      " 5   EU_sales         16715 non-null  float64\n",
      " 6   JP_sales         16715 non-null  float64\n",
      " 7   Other_sales      16715 non-null  float64\n",
      " 8   Critic_Score     8137 non-null   float64\n",
      " 9   User_Score       10014 non-null  object \n",
      " 10  Rating           9949 non-null   object \n",
      "dtypes: float64(6), object(5)\n",
      "memory usage: 1.4+ MB\n"
     ]
    }
   ],
   "source": [
    "data.info()"
   ]
  },
  {
   "cell_type": "markdown",
   "id": "1314f450",
   "metadata": {},
   "source": [
    "Из описания видно, что данные в столбце пользовательсктй рейтинг указаны с типом  object, их необходимо перевести в вещесттвенный тип.\n"
   ]
  },
  {
   "cell_type": "markdown",
   "id": "ed28fb8d",
   "metadata": {},
   "source": [
    "**Вывод**: из первичного осмотра видно, что данные необходимо предобработать:\n",
    "\n",
    "\n",
    "1) Требуется корректировка типов данных:\n",
    "- Year_of_Release - некорректный тип, должен быть целочисленный;\n",
    "- User_Score - некорректный тип, должен быть с плавающей точкой.\n",
    "\n",
    "2) Привести наименование столбцов к нижнему регистру.\n",
    "\n",
    "3) Есть пропуски в данных, необходимо проверить, возможно ли их заполнить."
   ]
  },
  {
   "cell_type": "markdown",
   "id": "1ea3e2c0",
   "metadata": {},
   "source": [
    "## 2. Подготовка данных"
   ]
  },
  {
   "cell_type": "markdown",
   "id": "2f3a094d",
   "metadata": {},
   "source": [
    "<a id='2-bullet'></a>\n",
    "### Замена названия столбцов (приведение к нижнему регистру);"
   ]
  },
  {
   "cell_type": "code",
   "execution_count": 5,
   "id": "92ac6a03",
   "metadata": {},
   "outputs": [
    {
     "data": {
      "text/html": [
       "<div>\n",
       "<style scoped>\n",
       "    .dataframe tbody tr th:only-of-type {\n",
       "        vertical-align: middle;\n",
       "    }\n",
       "\n",
       "    .dataframe tbody tr th {\n",
       "        vertical-align: top;\n",
       "    }\n",
       "\n",
       "    .dataframe thead th {\n",
       "        text-align: right;\n",
       "    }\n",
       "</style>\n",
       "<table border=\"1\" class=\"dataframe\">\n",
       "  <thead>\n",
       "    <tr style=\"text-align: right;\">\n",
       "      <th></th>\n",
       "      <th>name</th>\n",
       "      <th>platform</th>\n",
       "      <th>year_of_release</th>\n",
       "      <th>genre</th>\n",
       "      <th>na_sales</th>\n",
       "      <th>eu_sales</th>\n",
       "      <th>jp_sales</th>\n",
       "      <th>other_sales</th>\n",
       "      <th>critic_score</th>\n",
       "      <th>user_score</th>\n",
       "      <th>rating</th>\n",
       "    </tr>\n",
       "  </thead>\n",
       "  <tbody>\n",
       "    <tr>\n",
       "      <th>0</th>\n",
       "      <td>wii sports</td>\n",
       "      <td>wii</td>\n",
       "      <td>2006.0</td>\n",
       "      <td>Sports</td>\n",
       "      <td>41.36</td>\n",
       "      <td>28.96</td>\n",
       "      <td>3.77</td>\n",
       "      <td>8.45</td>\n",
       "      <td>76.0</td>\n",
       "      <td>8</td>\n",
       "      <td>E</td>\n",
       "    </tr>\n",
       "    <tr>\n",
       "      <th>1</th>\n",
       "      <td>super mario bros.</td>\n",
       "      <td>nes</td>\n",
       "      <td>1985.0</td>\n",
       "      <td>Platform</td>\n",
       "      <td>29.08</td>\n",
       "      <td>3.58</td>\n",
       "      <td>6.81</td>\n",
       "      <td>0.77</td>\n",
       "      <td>NaN</td>\n",
       "      <td>NaN</td>\n",
       "      <td>NaN</td>\n",
       "    </tr>\n",
       "    <tr>\n",
       "      <th>2</th>\n",
       "      <td>mario kart wii</td>\n",
       "      <td>wii</td>\n",
       "      <td>2008.0</td>\n",
       "      <td>Racing</td>\n",
       "      <td>15.68</td>\n",
       "      <td>12.76</td>\n",
       "      <td>3.79</td>\n",
       "      <td>3.29</td>\n",
       "      <td>82.0</td>\n",
       "      <td>8.3</td>\n",
       "      <td>E</td>\n",
       "    </tr>\n",
       "    <tr>\n",
       "      <th>3</th>\n",
       "      <td>wii sports resort</td>\n",
       "      <td>wii</td>\n",
       "      <td>2009.0</td>\n",
       "      <td>Sports</td>\n",
       "      <td>15.61</td>\n",
       "      <td>10.93</td>\n",
       "      <td>3.28</td>\n",
       "      <td>2.95</td>\n",
       "      <td>80.0</td>\n",
       "      <td>8</td>\n",
       "      <td>E</td>\n",
       "    </tr>\n",
       "    <tr>\n",
       "      <th>4</th>\n",
       "      <td>pokemon red/pokemon blue</td>\n",
       "      <td>gb</td>\n",
       "      <td>1996.0</td>\n",
       "      <td>Role-Playing</td>\n",
       "      <td>11.27</td>\n",
       "      <td>8.89</td>\n",
       "      <td>10.22</td>\n",
       "      <td>1.00</td>\n",
       "      <td>NaN</td>\n",
       "      <td>NaN</td>\n",
       "      <td>NaN</td>\n",
       "    </tr>\n",
       "  </tbody>\n",
       "</table>\n",
       "</div>"
      ],
      "text/plain": [
       "                       name platform  year_of_release         genre  na_sales  \\\n",
       "0                wii sports      wii           2006.0        Sports     41.36   \n",
       "1         super mario bros.      nes           1985.0      Platform     29.08   \n",
       "2            mario kart wii      wii           2008.0        Racing     15.68   \n",
       "3         wii sports resort      wii           2009.0        Sports     15.61   \n",
       "4  pokemon red/pokemon blue       gb           1996.0  Role-Playing     11.27   \n",
       "\n",
       "   eu_sales  jp_sales  other_sales  critic_score user_score rating  \n",
       "0     28.96      3.77         8.45          76.0          8      E  \n",
       "1      3.58      6.81         0.77           NaN        NaN    NaN  \n",
       "2     12.76      3.79         3.29          82.0        8.3      E  \n",
       "3     10.93      3.28         2.95          80.0          8      E  \n",
       "4      8.89     10.22         1.00           NaN        NaN    NaN  "
      ]
     },
     "metadata": {},
     "output_type": "display_data"
    }
   ],
   "source": [
    "#приведем к нижнему регистру название столбцов\n",
    "data.columns = data.columns.str.lower()\n",
    "#приведем к нижнему регистру название игр и платформ, чтобы избежать неявные дубликаты\n",
    "data['platform'] = data['platform'].str.lower()\n",
    "data['name'] = data['name'].str.lower()\n",
    "#проверим, прошла ли замена названия столбцов успешно:\n",
    "display(data.head())"
   ]
  },
  {
   "cell_type": "markdown",
   "id": "2532808e",
   "metadata": {},
   "source": [
    "<a id='3-bullet'></a>\n",
    "### Преобразование типов данных"
   ]
  },
  {
   "cell_type": "markdown",
   "id": "907fb90d",
   "metadata": {},
   "source": [
    "Заменим тип данных в необходимых столбцах:\n",
    "- в годе выпуска (с вещественного — на целочисленный)\n",
    "- в оценке пользователей (со строчного — на вещественный)"
   ]
  },
  {
   "cell_type": "markdown",
   "id": "fe1458a4",
   "metadata": {},
   "source": [
    "При попытке привести тип столбца user_score с помощью  метода to_numeric к числовому типу в коде ошибки было выявлено значение \"tbd\". Как было выявлено из сети Интернет данная аббревиатура расшифровыввается как To Be Determined, то есть \"Будет определено\", из этого следует, что это значенние может быть заменено на ноль или -1, чтобы эти данные не учитывать в дальнейшем. Заменим \"tbd\" на -1 и преобразуем тип данных в столбце."
   ]
  },
  {
   "cell_type": "code",
   "execution_count": 6,
   "id": "a26be81c",
   "metadata": {},
   "outputs": [
    {
     "name": "stdout",
     "output_type": "stream",
     "text": [
      "6701\n"
     ]
    },
    {
     "data": {
      "text/plain": [
       "40.09"
      ]
     },
     "execution_count": 6,
     "metadata": {},
     "output_type": "execute_result"
    }
   ],
   "source": [
    "print (data['user_score'].isna().sum())\n",
    "round((data['user_score'].isna().sum()*100)/data.shape[0],2)"
   ]
  },
  {
   "cell_type": "markdown",
   "id": "7eb1d547",
   "metadata": {},
   "source": [
    "Всего в столбце рейтинг пользователей пропущено 40% данных от общей выборки, так как рейтинг не подлежит восстановлению по каким-либо параметрам-заменим пропущенные значения на -1 и заменим тип данных."
   ]
  },
  {
   "cell_type": "code",
   "execution_count": 7,
   "id": "93b2a20c",
   "metadata": {},
   "outputs": [
    {
     "data": {
      "text/plain": [
       "count    16715.000000\n",
       "mean         2.689447\n",
       "std          4.169833\n",
       "min         -1.000000\n",
       "25%         -1.000000\n",
       "50%         -1.000000\n",
       "75%          7.300000\n",
       "max          9.700000\n",
       "Name: user_score, dtype: float64"
      ]
     },
     "execution_count": 7,
     "metadata": {},
     "output_type": "execute_result"
    }
   ],
   "source": [
    "#очистка данных от tbd и nan\n",
    "data.loc[data['user_score']=='tbd','user_score']=-1\n",
    "data['user_score'].fillna('-1',inplace=True)\n",
    "\n",
    "#перевод в тип float\n",
    "data['user_score'] = pd.to_numeric(data['user_score'], errors='raise')\n",
    "data['user_score'].describe()"
   ]
  },
  {
   "cell_type": "markdown",
   "id": "16d5c0ba",
   "metadata": {},
   "source": [
    "Теперь проверим данные с пропусками по годам.Выведем первые 10 строк с пропусками в данных по годам:"
   ]
  },
  {
   "cell_type": "code",
   "execution_count": 8,
   "id": "0d41885d",
   "metadata": {},
   "outputs": [
    {
     "data": {
      "text/html": [
       "<div>\n",
       "<style scoped>\n",
       "    .dataframe tbody tr th:only-of-type {\n",
       "        vertical-align: middle;\n",
       "    }\n",
       "\n",
       "    .dataframe tbody tr th {\n",
       "        vertical-align: top;\n",
       "    }\n",
       "\n",
       "    .dataframe thead th {\n",
       "        text-align: right;\n",
       "    }\n",
       "</style>\n",
       "<table border=\"1\" class=\"dataframe\">\n",
       "  <thead>\n",
       "    <tr style=\"text-align: right;\">\n",
       "      <th></th>\n",
       "      <th>name</th>\n",
       "      <th>platform</th>\n",
       "      <th>year_of_release</th>\n",
       "      <th>genre</th>\n",
       "      <th>na_sales</th>\n",
       "      <th>eu_sales</th>\n",
       "      <th>jp_sales</th>\n",
       "      <th>other_sales</th>\n",
       "      <th>critic_score</th>\n",
       "      <th>user_score</th>\n",
       "      <th>rating</th>\n",
       "    </tr>\n",
       "  </thead>\n",
       "  <tbody>\n",
       "    <tr>\n",
       "      <th>183</th>\n",
       "      <td>madden nfl 2004</td>\n",
       "      <td>ps2</td>\n",
       "      <td>NaN</td>\n",
       "      <td>Sports</td>\n",
       "      <td>4.26</td>\n",
       "      <td>0.26</td>\n",
       "      <td>0.01</td>\n",
       "      <td>0.71</td>\n",
       "      <td>94.0</td>\n",
       "      <td>8.5</td>\n",
       "      <td>E</td>\n",
       "    </tr>\n",
       "    <tr>\n",
       "      <th>377</th>\n",
       "      <td>fifa soccer 2004</td>\n",
       "      <td>ps2</td>\n",
       "      <td>NaN</td>\n",
       "      <td>Sports</td>\n",
       "      <td>0.59</td>\n",
       "      <td>2.36</td>\n",
       "      <td>0.04</td>\n",
       "      <td>0.51</td>\n",
       "      <td>84.0</td>\n",
       "      <td>6.4</td>\n",
       "      <td>E</td>\n",
       "    </tr>\n",
       "    <tr>\n",
       "      <th>456</th>\n",
       "      <td>lego batman: the videogame</td>\n",
       "      <td>wii</td>\n",
       "      <td>NaN</td>\n",
       "      <td>Action</td>\n",
       "      <td>1.80</td>\n",
       "      <td>0.97</td>\n",
       "      <td>0.00</td>\n",
       "      <td>0.29</td>\n",
       "      <td>74.0</td>\n",
       "      <td>7.9</td>\n",
       "      <td>E10+</td>\n",
       "    </tr>\n",
       "    <tr>\n",
       "      <th>475</th>\n",
       "      <td>wwe smackdown vs. raw 2006</td>\n",
       "      <td>ps2</td>\n",
       "      <td>NaN</td>\n",
       "      <td>Fighting</td>\n",
       "      <td>1.57</td>\n",
       "      <td>1.02</td>\n",
       "      <td>0.00</td>\n",
       "      <td>0.41</td>\n",
       "      <td>NaN</td>\n",
       "      <td>-1.0</td>\n",
       "      <td>NaN</td>\n",
       "    </tr>\n",
       "    <tr>\n",
       "      <th>609</th>\n",
       "      <td>space invaders</td>\n",
       "      <td>2600</td>\n",
       "      <td>NaN</td>\n",
       "      <td>Shooter</td>\n",
       "      <td>2.36</td>\n",
       "      <td>0.14</td>\n",
       "      <td>0.00</td>\n",
       "      <td>0.03</td>\n",
       "      <td>NaN</td>\n",
       "      <td>-1.0</td>\n",
       "      <td>NaN</td>\n",
       "    </tr>\n",
       "    <tr>\n",
       "      <th>627</th>\n",
       "      <td>rock band</td>\n",
       "      <td>x360</td>\n",
       "      <td>NaN</td>\n",
       "      <td>Misc</td>\n",
       "      <td>1.93</td>\n",
       "      <td>0.33</td>\n",
       "      <td>0.00</td>\n",
       "      <td>0.21</td>\n",
       "      <td>92.0</td>\n",
       "      <td>8.2</td>\n",
       "      <td>T</td>\n",
       "    </tr>\n",
       "    <tr>\n",
       "      <th>657</th>\n",
       "      <td>frogger's adventures: temple of the frog</td>\n",
       "      <td>gba</td>\n",
       "      <td>NaN</td>\n",
       "      <td>Adventure</td>\n",
       "      <td>2.15</td>\n",
       "      <td>0.18</td>\n",
       "      <td>0.00</td>\n",
       "      <td>0.07</td>\n",
       "      <td>73.0</td>\n",
       "      <td>-1.0</td>\n",
       "      <td>E</td>\n",
       "    </tr>\n",
       "    <tr>\n",
       "      <th>678</th>\n",
       "      <td>lego indiana jones: the original adventures</td>\n",
       "      <td>wii</td>\n",
       "      <td>NaN</td>\n",
       "      <td>Action</td>\n",
       "      <td>1.51</td>\n",
       "      <td>0.61</td>\n",
       "      <td>0.00</td>\n",
       "      <td>0.21</td>\n",
       "      <td>78.0</td>\n",
       "      <td>6.6</td>\n",
       "      <td>E10+</td>\n",
       "    </tr>\n",
       "    <tr>\n",
       "      <th>719</th>\n",
       "      <td>call of duty 3</td>\n",
       "      <td>wii</td>\n",
       "      <td>NaN</td>\n",
       "      <td>Shooter</td>\n",
       "      <td>1.17</td>\n",
       "      <td>0.84</td>\n",
       "      <td>0.00</td>\n",
       "      <td>0.23</td>\n",
       "      <td>69.0</td>\n",
       "      <td>6.7</td>\n",
       "      <td>T</td>\n",
       "    </tr>\n",
       "    <tr>\n",
       "      <th>805</th>\n",
       "      <td>rock band</td>\n",
       "      <td>wii</td>\n",
       "      <td>NaN</td>\n",
       "      <td>Misc</td>\n",
       "      <td>1.33</td>\n",
       "      <td>0.56</td>\n",
       "      <td>0.00</td>\n",
       "      <td>0.20</td>\n",
       "      <td>80.0</td>\n",
       "      <td>6.3</td>\n",
       "      <td>T</td>\n",
       "    </tr>\n",
       "  </tbody>\n",
       "</table>\n",
       "</div>"
      ],
      "text/plain": [
       "                                            name platform  year_of_release  \\\n",
       "183                              madden nfl 2004      ps2              NaN   \n",
       "377                             fifa soccer 2004      ps2              NaN   \n",
       "456                   lego batman: the videogame      wii              NaN   \n",
       "475                   wwe smackdown vs. raw 2006      ps2              NaN   \n",
       "609                               space invaders     2600              NaN   \n",
       "627                                    rock band     x360              NaN   \n",
       "657     frogger's adventures: temple of the frog      gba              NaN   \n",
       "678  lego indiana jones: the original adventures      wii              NaN   \n",
       "719                               call of duty 3      wii              NaN   \n",
       "805                                    rock band      wii              NaN   \n",
       "\n",
       "         genre  na_sales  eu_sales  jp_sales  other_sales  critic_score  \\\n",
       "183     Sports      4.26      0.26      0.01         0.71          94.0   \n",
       "377     Sports      0.59      2.36      0.04         0.51          84.0   \n",
       "456     Action      1.80      0.97      0.00         0.29          74.0   \n",
       "475   Fighting      1.57      1.02      0.00         0.41           NaN   \n",
       "609    Shooter      2.36      0.14      0.00         0.03           NaN   \n",
       "627       Misc      1.93      0.33      0.00         0.21          92.0   \n",
       "657  Adventure      2.15      0.18      0.00         0.07          73.0   \n",
       "678     Action      1.51      0.61      0.00         0.21          78.0   \n",
       "719    Shooter      1.17      0.84      0.00         0.23          69.0   \n",
       "805       Misc      1.33      0.56      0.00         0.20          80.0   \n",
       "\n",
       "     user_score rating  \n",
       "183         8.5      E  \n",
       "377         6.4      E  \n",
       "456         7.9   E10+  \n",
       "475        -1.0    NaN  \n",
       "609        -1.0    NaN  \n",
       "627         8.2      T  \n",
       "657        -1.0      E  \n",
       "678         6.6   E10+  \n",
       "719         6.7      T  \n",
       "805         6.3      T  "
      ]
     },
     "metadata": {},
     "output_type": "display_data"
    }
   ],
   "source": [
    "display(data.loc[data['year_of_release'].isna()].head(10))"
   ]
  },
  {
   "cell_type": "markdown",
   "id": "e6cfbc1b",
   "metadata": {},
   "source": [
    "Как видно из выведенной таблицы в некоторых названиях содержится год выпуска игры. Посмотрим сколько всего игр без даты выпуска."
   ]
  },
  {
   "cell_type": "code",
   "execution_count": 9,
   "id": "a4d7c433",
   "metadata": {},
   "outputs": [
    {
     "data": {
      "text/plain": [
       "269"
      ]
     },
     "execution_count": 9,
     "metadata": {},
     "output_type": "execute_result"
    }
   ],
   "source": [
    "data['year_of_release'].isna().sum()"
   ]
  },
  {
   "cell_type": "markdown",
   "id": "9b023c90",
   "metadata": {},
   "source": [
    "Всего в 269 играх не указан год выпуска, это 1,61% от общей выборки. Восстанавливать данные по данному критерию из названия нецелесообразно"
   ]
  },
  {
   "cell_type": "code",
   "execution_count": 10,
   "id": "a63399ca",
   "metadata": {},
   "outputs": [],
   "source": [
    "no_year=data.loc[data['year_of_release'].isna()]"
   ]
  },
  {
   "cell_type": "code",
   "execution_count": 11,
   "id": "81dd649d",
   "metadata": {},
   "outputs": [
    {
     "data": {
      "text/plain": [
       "1.11"
      ]
     },
     "execution_count": 11,
     "metadata": {},
     "output_type": "execute_result"
    }
   ],
   "source": [
    "no_year['total_sales']=no_year[['na_sales','eu_sales','jp_sales', 'other_sales']].sum(axis='columns')\n",
    "round((no_year['total_sales'].sum()*100)/(data['na_sales']+data['eu_sales']\\\n",
    "                                          +data['jp_sales']+data['other_sales']).sum(),2)"
   ]
  },
  {
   "cell_type": "markdown",
   "id": "594bad32",
   "metadata": {},
   "source": [
    "Так как суммарные продажи по строкам с пропущенным годом выпуска составляют 1,1 процент от всех продаж, считаю, что 269 строк можно удалить."
   ]
  },
  {
   "cell_type": "code",
   "execution_count": 12,
   "id": "7b8fa3e0",
   "metadata": {},
   "outputs": [
    {
     "data": {
      "text/plain": [
       "16715"
      ]
     },
     "execution_count": 12,
     "metadata": {},
     "output_type": "execute_result"
    }
   ],
   "source": [
    "data.shape[0]"
   ]
  },
  {
   "cell_type": "code",
   "execution_count": 13,
   "id": "9f1aca2d",
   "metadata": {},
   "outputs": [],
   "source": [
    "#удаляем данные с отсутсвующим годом выпуска, чтобы заменить тип значений столбца\n",
    "data=data.dropna(subset=['year_of_release'])\n",
    "data['year_of_release']=data['year_of_release'].astype(int)"
   ]
  },
  {
   "cell_type": "code",
   "execution_count": 14,
   "id": "a9086823",
   "metadata": {},
   "outputs": [
    {
     "data": {
      "text/plain": [
       "16446"
      ]
     },
     "execution_count": 14,
     "metadata": {},
     "output_type": "execute_result"
    }
   ],
   "source": [
    "data.shape[0]"
   ]
  },
  {
   "cell_type": "markdown",
   "id": "ebfc4200",
   "metadata": {},
   "source": [
    "<a id='4-bullet'></a>\n",
    "### Обработка пропусков дубликатов данных"
   ]
  },
  {
   "cell_type": "markdown",
   "id": "5aa3a8be",
   "metadata": {},
   "source": [
    "Проверим, есть ли дубликаты в данных."
   ]
  },
  {
   "cell_type": "code",
   "execution_count": 15,
   "id": "c3d24964",
   "metadata": {},
   "outputs": [
    {
     "data": {
      "text/plain": [
       "0"
      ]
     },
     "execution_count": 15,
     "metadata": {},
     "output_type": "execute_result"
    }
   ],
   "source": [
    "data.duplicated().sum()"
   ]
  },
  {
   "cell_type": "markdown",
   "id": "a46ee00a",
   "metadata": {},
   "source": [
    "Явных строк дубликатов нет."
   ]
  },
  {
   "cell_type": "code",
   "execution_count": 16,
   "id": "3fac9409",
   "metadata": {},
   "outputs": [
    {
     "name": "stdout",
     "output_type": "stream",
     "text": [
      "need for speed: most wanted               12\n",
      "lego marvel super heroes                   9\n",
      "ratatouille                                9\n",
      "fifa 14                                    9\n",
      "terraria                                   8\n",
      "                                          ..\n",
      "loving life with hello kitty & friends     1\n",
      "scrabble (others sales)                    1\n",
      "viva pinata: party animals                 1\n",
      "sands of destruction                       1\n",
      "haitaka no psychedelica                    1\n",
      "Name: name, Length: 11426, dtype: int64\n"
     ]
    }
   ],
   "source": [
    "#посмотрим, как часто повторяются названия игр и с чем это может быть связано\n",
    "print(data['name'].value_counts())"
   ]
  },
  {
   "cell_type": "markdown",
   "id": "cc1a35f9",
   "metadata": {},
   "source": [
    "Есть повторяющиеся названия игр, скорее всего данный факт связан с тем, что они выпущены на разных платформах, проверим эту теорию."
   ]
  },
  {
   "cell_type": "code",
   "execution_count": 17,
   "id": "02357126",
   "metadata": {},
   "outputs": [
    {
     "data": {
      "text/html": [
       "<div>\n",
       "<style scoped>\n",
       "    .dataframe tbody tr th:only-of-type {\n",
       "        vertical-align: middle;\n",
       "    }\n",
       "\n",
       "    .dataframe tbody tr th {\n",
       "        vertical-align: top;\n",
       "    }\n",
       "\n",
       "    .dataframe thead th {\n",
       "        text-align: right;\n",
       "    }\n",
       "</style>\n",
       "<table border=\"1\" class=\"dataframe\">\n",
       "  <thead>\n",
       "    <tr style=\"text-align: right;\">\n",
       "      <th></th>\n",
       "      <th>platform</th>\n",
       "    </tr>\n",
       "    <tr>\n",
       "      <th>name</th>\n",
       "      <th></th>\n",
       "    </tr>\n",
       "  </thead>\n",
       "  <tbody>\n",
       "    <tr>\n",
       "      <th>need for speed: most wanted</th>\n",
       "      <td>12</td>\n",
       "    </tr>\n",
       "    <tr>\n",
       "      <th>ratatouille</th>\n",
       "      <td>9</td>\n",
       "    </tr>\n",
       "    <tr>\n",
       "      <th>lego marvel super heroes</th>\n",
       "      <td>9</td>\n",
       "    </tr>\n",
       "    <tr>\n",
       "      <th>fifa 14</th>\n",
       "      <td>9</td>\n",
       "    </tr>\n",
       "    <tr>\n",
       "      <th>madden nfl 07</th>\n",
       "      <td>8</td>\n",
       "    </tr>\n",
       "    <tr>\n",
       "      <th>...</th>\n",
       "      <td>...</td>\n",
       "    </tr>\n",
       "    <tr>\n",
       "      <th>mario &amp; sonic at the olympic games</th>\n",
       "      <td>2</td>\n",
       "    </tr>\n",
       "    <tr>\n",
       "      <th>corpse party: blood covered - repeated fear</th>\n",
       "      <td>2</td>\n",
       "    </tr>\n",
       "    <tr>\n",
       "      <th>xiaolin showdown</th>\n",
       "      <td>2</td>\n",
       "    </tr>\n",
       "    <tr>\n",
       "      <th>tmnt: mutant melee</th>\n",
       "      <td>2</td>\n",
       "    </tr>\n",
       "    <tr>\n",
       "      <th>thrillville</th>\n",
       "      <td>2</td>\n",
       "    </tr>\n",
       "  </tbody>\n",
       "</table>\n",
       "<p>2748 rows × 1 columns</p>\n",
       "</div>"
      ],
      "text/plain": [
       "                                             platform\n",
       "name                                                 \n",
       "need for speed: most wanted                        12\n",
       "ratatouille                                         9\n",
       "lego marvel super heroes                            9\n",
       "fifa 14                                             9\n",
       "madden nfl 07                                       8\n",
       "...                                               ...\n",
       "mario & sonic at the olympic games                  2\n",
       "corpse party: blood covered - repeated fear         2\n",
       "xiaolin showdown                                    2\n",
       "tmnt: mutant melee                                  2\n",
       "thrillville                                         2\n",
       "\n",
       "[2748 rows x 1 columns]"
      ]
     },
     "execution_count": 17,
     "metadata": {},
     "output_type": "execute_result"
    }
   ],
   "source": [
    "#Выведем сводную таблицу- название игр и количество платформ, на которых они выложены\n",
    "games_repeated=data.pivot_table(index=['name'],values=['platform'], aggfunc='count')\\\n",
    ".sort_values(by='platform', ascending=False)\n",
    "games_repeated[games_repeated['platform'] > 1]"
   ]
  },
  {
   "cell_type": "markdown",
   "id": "604ccf55",
   "metadata": {},
   "source": [
    " Как видно, при повторяющихся названиях платформы у игр разные, возьмем для подробного рассмотрения игру, которая повторяется 12 раз-\"need for speed: most wanted\"."
   ]
  },
  {
   "cell_type": "code",
   "execution_count": 18,
   "id": "3110c0fc",
   "metadata": {},
   "outputs": [
    {
     "data": {
      "text/html": [
       "<div>\n",
       "<style scoped>\n",
       "    .dataframe tbody tr th:only-of-type {\n",
       "        vertical-align: middle;\n",
       "    }\n",
       "\n",
       "    .dataframe tbody tr th {\n",
       "        vertical-align: top;\n",
       "    }\n",
       "\n",
       "    .dataframe thead th {\n",
       "        text-align: right;\n",
       "    }\n",
       "</style>\n",
       "<table border=\"1\" class=\"dataframe\">\n",
       "  <thead>\n",
       "    <tr style=\"text-align: right;\">\n",
       "      <th></th>\n",
       "      <th>name</th>\n",
       "      <th>platform</th>\n",
       "      <th>year_of_release</th>\n",
       "      <th>genre</th>\n",
       "      <th>na_sales</th>\n",
       "      <th>eu_sales</th>\n",
       "      <th>jp_sales</th>\n",
       "      <th>other_sales</th>\n",
       "      <th>critic_score</th>\n",
       "      <th>user_score</th>\n",
       "      <th>rating</th>\n",
       "    </tr>\n",
       "  </thead>\n",
       "  <tbody>\n",
       "    <tr>\n",
       "      <th>253</th>\n",
       "      <td>need for speed: most wanted</td>\n",
       "      <td>ps2</td>\n",
       "      <td>2005</td>\n",
       "      <td>Racing</td>\n",
       "      <td>2.03</td>\n",
       "      <td>1.79</td>\n",
       "      <td>0.08</td>\n",
       "      <td>0.47</td>\n",
       "      <td>82.0</td>\n",
       "      <td>9.1</td>\n",
       "      <td>T</td>\n",
       "    </tr>\n",
       "    <tr>\n",
       "      <th>523</th>\n",
       "      <td>need for speed: most wanted</td>\n",
       "      <td>ps3</td>\n",
       "      <td>2012</td>\n",
       "      <td>Racing</td>\n",
       "      <td>0.71</td>\n",
       "      <td>1.46</td>\n",
       "      <td>0.06</td>\n",
       "      <td>0.58</td>\n",
       "      <td>NaN</td>\n",
       "      <td>-1.0</td>\n",
       "      <td>NaN</td>\n",
       "    </tr>\n",
       "    <tr>\n",
       "      <th>1190</th>\n",
       "      <td>need for speed: most wanted</td>\n",
       "      <td>x360</td>\n",
       "      <td>2012</td>\n",
       "      <td>Racing</td>\n",
       "      <td>0.62</td>\n",
       "      <td>0.78</td>\n",
       "      <td>0.01</td>\n",
       "      <td>0.15</td>\n",
       "      <td>83.0</td>\n",
       "      <td>8.5</td>\n",
       "      <td>T</td>\n",
       "    </tr>\n",
       "    <tr>\n",
       "      <th>1591</th>\n",
       "      <td>need for speed: most wanted</td>\n",
       "      <td>x360</td>\n",
       "      <td>2005</td>\n",
       "      <td>Racing</td>\n",
       "      <td>1.00</td>\n",
       "      <td>0.13</td>\n",
       "      <td>0.02</td>\n",
       "      <td>0.10</td>\n",
       "      <td>83.0</td>\n",
       "      <td>8.5</td>\n",
       "      <td>T</td>\n",
       "    </tr>\n",
       "    <tr>\n",
       "      <th>1998</th>\n",
       "      <td>need for speed: most wanted</td>\n",
       "      <td>xb</td>\n",
       "      <td>2005</td>\n",
       "      <td>Racing</td>\n",
       "      <td>0.53</td>\n",
       "      <td>0.46</td>\n",
       "      <td>0.00</td>\n",
       "      <td>0.05</td>\n",
       "      <td>83.0</td>\n",
       "      <td>8.8</td>\n",
       "      <td>T</td>\n",
       "    </tr>\n",
       "    <tr>\n",
       "      <th>2048</th>\n",
       "      <td>need for speed: most wanted</td>\n",
       "      <td>psv</td>\n",
       "      <td>2012</td>\n",
       "      <td>Racing</td>\n",
       "      <td>0.33</td>\n",
       "      <td>0.45</td>\n",
       "      <td>0.01</td>\n",
       "      <td>0.22</td>\n",
       "      <td>NaN</td>\n",
       "      <td>-1.0</td>\n",
       "      <td>NaN</td>\n",
       "    </tr>\n",
       "    <tr>\n",
       "      <th>3581</th>\n",
       "      <td>need for speed: most wanted</td>\n",
       "      <td>gc</td>\n",
       "      <td>2005</td>\n",
       "      <td>Racing</td>\n",
       "      <td>0.43</td>\n",
       "      <td>0.11</td>\n",
       "      <td>0.00</td>\n",
       "      <td>0.02</td>\n",
       "      <td>80.0</td>\n",
       "      <td>9.1</td>\n",
       "      <td>T</td>\n",
       "    </tr>\n",
       "    <tr>\n",
       "      <th>5972</th>\n",
       "      <td>need for speed: most wanted</td>\n",
       "      <td>pc</td>\n",
       "      <td>2005</td>\n",
       "      <td>Racing</td>\n",
       "      <td>0.02</td>\n",
       "      <td>0.23</td>\n",
       "      <td>0.00</td>\n",
       "      <td>0.04</td>\n",
       "      <td>82.0</td>\n",
       "      <td>8.5</td>\n",
       "      <td>T</td>\n",
       "    </tr>\n",
       "    <tr>\n",
       "      <th>6273</th>\n",
       "      <td>need for speed: most wanted</td>\n",
       "      <td>wiiu</td>\n",
       "      <td>2013</td>\n",
       "      <td>Racing</td>\n",
       "      <td>0.13</td>\n",
       "      <td>0.12</td>\n",
       "      <td>0.00</td>\n",
       "      <td>0.02</td>\n",
       "      <td>NaN</td>\n",
       "      <td>-1.0</td>\n",
       "      <td>NaN</td>\n",
       "    </tr>\n",
       "    <tr>\n",
       "      <th>6410</th>\n",
       "      <td>need for speed: most wanted</td>\n",
       "      <td>ds</td>\n",
       "      <td>2005</td>\n",
       "      <td>Racing</td>\n",
       "      <td>0.24</td>\n",
       "      <td>0.01</td>\n",
       "      <td>0.00</td>\n",
       "      <td>0.02</td>\n",
       "      <td>45.0</td>\n",
       "      <td>6.1</td>\n",
       "      <td>E</td>\n",
       "    </tr>\n",
       "    <tr>\n",
       "      <th>6473</th>\n",
       "      <td>need for speed: most wanted</td>\n",
       "      <td>gba</td>\n",
       "      <td>2005</td>\n",
       "      <td>Racing</td>\n",
       "      <td>0.19</td>\n",
       "      <td>0.07</td>\n",
       "      <td>0.00</td>\n",
       "      <td>0.00</td>\n",
       "      <td>NaN</td>\n",
       "      <td>8.3</td>\n",
       "      <td>E</td>\n",
       "    </tr>\n",
       "    <tr>\n",
       "      <th>11715</th>\n",
       "      <td>need for speed: most wanted</td>\n",
       "      <td>pc</td>\n",
       "      <td>2012</td>\n",
       "      <td>Racing</td>\n",
       "      <td>0.00</td>\n",
       "      <td>0.06</td>\n",
       "      <td>0.00</td>\n",
       "      <td>0.02</td>\n",
       "      <td>82.0</td>\n",
       "      <td>8.5</td>\n",
       "      <td>T</td>\n",
       "    </tr>\n",
       "  </tbody>\n",
       "</table>\n",
       "</div>"
      ],
      "text/plain": [
       "                              name platform  year_of_release   genre  \\\n",
       "253    need for speed: most wanted      ps2             2005  Racing   \n",
       "523    need for speed: most wanted      ps3             2012  Racing   \n",
       "1190   need for speed: most wanted     x360             2012  Racing   \n",
       "1591   need for speed: most wanted     x360             2005  Racing   \n",
       "1998   need for speed: most wanted       xb             2005  Racing   \n",
       "2048   need for speed: most wanted      psv             2012  Racing   \n",
       "3581   need for speed: most wanted       gc             2005  Racing   \n",
       "5972   need for speed: most wanted       pc             2005  Racing   \n",
       "6273   need for speed: most wanted     wiiu             2013  Racing   \n",
       "6410   need for speed: most wanted       ds             2005  Racing   \n",
       "6473   need for speed: most wanted      gba             2005  Racing   \n",
       "11715  need for speed: most wanted       pc             2012  Racing   \n",
       "\n",
       "       na_sales  eu_sales  jp_sales  other_sales  critic_score  user_score  \\\n",
       "253        2.03      1.79      0.08         0.47          82.0         9.1   \n",
       "523        0.71      1.46      0.06         0.58           NaN        -1.0   \n",
       "1190       0.62      0.78      0.01         0.15          83.0         8.5   \n",
       "1591       1.00      0.13      0.02         0.10          83.0         8.5   \n",
       "1998       0.53      0.46      0.00         0.05          83.0         8.8   \n",
       "2048       0.33      0.45      0.01         0.22           NaN        -1.0   \n",
       "3581       0.43      0.11      0.00         0.02          80.0         9.1   \n",
       "5972       0.02      0.23      0.00         0.04          82.0         8.5   \n",
       "6273       0.13      0.12      0.00         0.02           NaN        -1.0   \n",
       "6410       0.24      0.01      0.00         0.02          45.0         6.1   \n",
       "6473       0.19      0.07      0.00         0.00           NaN         8.3   \n",
       "11715      0.00      0.06      0.00         0.02          82.0         8.5   \n",
       "\n",
       "      rating  \n",
       "253        T  \n",
       "523      NaN  \n",
       "1190       T  \n",
       "1591       T  \n",
       "1998       T  \n",
       "2048     NaN  \n",
       "3581       T  \n",
       "5972       T  \n",
       "6273     NaN  \n",
       "6410       E  \n",
       "6473       E  \n",
       "11715      T  "
      ]
     },
     "execution_count": 18,
     "metadata": {},
     "output_type": "execute_result"
    }
   ],
   "source": [
    "data.loc[data['name'] == 'need for speed: most wanted']"
   ]
  },
  {
   "cell_type": "markdown",
   "id": "4abc21e4",
   "metadata": {},
   "source": [
    "Дубли в наименовании обоснованы тем, что представляют разные реализации одной игры для разных платформ c разными годами реализации, поэтому делаем вывод6 что такие дубликаты мы удалять не будем, так как для кадой платформы идт свои уникальные показатели."
   ]
  },
  {
   "cell_type": "markdown",
   "id": "26629ec3",
   "metadata": {},
   "source": [
    "<a id='5-bullet'></a>\n",
    "### Обработка пропусков данных"
   ]
  },
  {
   "cell_type": "markdown",
   "id": "133ffafd",
   "metadata": {},
   "source": [
    "Узнаем количество пропущенных значений в данных и процент от общей выборки."
   ]
  },
  {
   "cell_type": "code",
   "execution_count": 19,
   "id": "1010129d",
   "metadata": {},
   "outputs": [
    {
     "data": {
      "text/plain": [
       "name                  2\n",
       "platform              0\n",
       "year_of_release       0\n",
       "genre                 2\n",
       "na_sales              0\n",
       "eu_sales              0\n",
       "jp_sales              0\n",
       "other_sales           0\n",
       "critic_score       8463\n",
       "user_score            0\n",
       "rating             6678\n",
       "dtype: int64"
      ]
     },
     "execution_count": 19,
     "metadata": {},
     "output_type": "execute_result"
    }
   ],
   "source": [
    "data.isna().sum()"
   ]
  },
  {
   "cell_type": "code",
   "execution_count": 20,
   "id": "f21a2fd9",
   "metadata": {},
   "outputs": [
    {
     "data": {
      "text/plain": [
       "name                0.01\n",
       "platform            0.00\n",
       "year_of_release     0.00\n",
       "genre               0.01\n",
       "na_sales            0.00\n",
       "eu_sales            0.00\n",
       "jp_sales            0.00\n",
       "other_sales         0.00\n",
       "critic_score       51.46\n",
       "user_score          0.00\n",
       "rating             40.61\n",
       "dtype: float64"
      ]
     },
     "execution_count": 20,
     "metadata": {},
     "output_type": "execute_result"
    }
   ],
   "source": [
    "round((data.isna().sum()*100)/len(data),2)"
   ]
  },
  {
   "cell_type": "markdown",
   "id": "d616e87d",
   "metadata": {},
   "source": [
    "Пропущено 2 названия игры, возможно, при заполнении данных, возникли сложности с переводом названия игр, поэтому их оставили пустыми. Пропуски составляют 0.01 процент от общей выборки, значит эти строки можно удалить.\n",
    "\n",
    "Также пропущены 2 значения столбца жанры. возможно, это те же самые строки, где нет названия игр. процент пропуска также сотавляет 0.01%, что является статистически незначимой величиной. удаляем строки с этими пропусками.\n",
    "\n",
    "В оценке критиков пропущено 8578 строк с данными, это 51,46% от всей выборки, удалить данные значенеия невозможно, так как это приведет к чрезвычайному искажению данных.Заполним пропуски на 0.\n",
    "\n",
    "Пропущено 40,61% данных с рейтингом ESRB.воостановить данне не получится, на как рейтинг на разных прлощадках может быть разным.\n",
    "\n",
    "Ранее были заполнены пропуски по рейтингу пользователей на ноль."
   ]
  },
  {
   "cell_type": "code",
   "execution_count": 21,
   "id": "3df109a9",
   "metadata": {},
   "outputs": [
    {
     "data": {
      "text/html": [
       "<div>\n",
       "<style scoped>\n",
       "    .dataframe tbody tr th:only-of-type {\n",
       "        vertical-align: middle;\n",
       "    }\n",
       "\n",
       "    .dataframe tbody tr th {\n",
       "        vertical-align: top;\n",
       "    }\n",
       "\n",
       "    .dataframe thead th {\n",
       "        text-align: right;\n",
       "    }\n",
       "</style>\n",
       "<table border=\"1\" class=\"dataframe\">\n",
       "  <thead>\n",
       "    <tr style=\"text-align: right;\">\n",
       "      <th></th>\n",
       "      <th>name</th>\n",
       "      <th>platform</th>\n",
       "      <th>year_of_release</th>\n",
       "      <th>genre</th>\n",
       "      <th>na_sales</th>\n",
       "      <th>eu_sales</th>\n",
       "      <th>jp_sales</th>\n",
       "      <th>other_sales</th>\n",
       "      <th>critic_score</th>\n",
       "      <th>user_score</th>\n",
       "      <th>rating</th>\n",
       "    </tr>\n",
       "  </thead>\n",
       "  <tbody>\n",
       "    <tr>\n",
       "      <th>659</th>\n",
       "      <td>NaN</td>\n",
       "      <td>gen</td>\n",
       "      <td>1993</td>\n",
       "      <td>NaN</td>\n",
       "      <td>1.78</td>\n",
       "      <td>0.53</td>\n",
       "      <td>0.00</td>\n",
       "      <td>0.08</td>\n",
       "      <td>NaN</td>\n",
       "      <td>-1.0</td>\n",
       "      <td>NaN</td>\n",
       "    </tr>\n",
       "    <tr>\n",
       "      <th>14244</th>\n",
       "      <td>NaN</td>\n",
       "      <td>gen</td>\n",
       "      <td>1993</td>\n",
       "      <td>NaN</td>\n",
       "      <td>0.00</td>\n",
       "      <td>0.00</td>\n",
       "      <td>0.03</td>\n",
       "      <td>0.00</td>\n",
       "      <td>NaN</td>\n",
       "      <td>-1.0</td>\n",
       "      <td>NaN</td>\n",
       "    </tr>\n",
       "  </tbody>\n",
       "</table>\n",
       "</div>"
      ],
      "text/plain": [
       "      name platform  year_of_release genre  na_sales  eu_sales  jp_sales  \\\n",
       "659    NaN      gen             1993   NaN      1.78      0.53      0.00   \n",
       "14244  NaN      gen             1993   NaN      0.00      0.00      0.03   \n",
       "\n",
       "       other_sales  critic_score  user_score rating  \n",
       "659           0.08           NaN        -1.0    NaN  \n",
       "14244         0.00           NaN        -1.0    NaN  "
      ]
     },
     "metadata": {},
     "output_type": "display_data"
    }
   ],
   "source": [
    "# посмотрим на строки с пропущенными названиями, те же ли это строки, где не указан жанр:\n",
    "display(data.loc[data['name'].isna()])"
   ]
  },
  {
   "cell_type": "markdown",
   "id": "136c9563",
   "metadata": {},
   "source": [
    "Как видно из выведенной таблицы строки с пропущенными названиями и жанрами- одни и те же строки, а значит жанр восстановить не получится, удаляем эти строки."
   ]
  },
  {
   "cell_type": "code",
   "execution_count": 22,
   "id": "1b292e2e",
   "metadata": {},
   "outputs": [
    {
     "data": {
      "text/plain": [
       "name                  0\n",
       "platform              0\n",
       "year_of_release       0\n",
       "genre                 0\n",
       "na_sales              0\n",
       "eu_sales              0\n",
       "jp_sales              0\n",
       "other_sales           0\n",
       "critic_score       8461\n",
       "user_score            0\n",
       "rating             6676\n",
       "dtype: int64"
      ]
     },
     "execution_count": 22,
     "metadata": {},
     "output_type": "execute_result"
    }
   ],
   "source": [
    "data=data.dropna(subset=['name'])\n",
    "#  проверяем, удалились ли строки корректно\n",
    "data.isna().sum()"
   ]
  },
  {
   "cell_type": "markdown",
   "id": "6caf0ed1",
   "metadata": {},
   "source": [
    "Пропущены значения оценок критиков и рейтингов ESRB. Поскольку точно заменить пропущенные значения не представляется возможным, заменим пропущенные значения на -1 и \"no_rating\"(так как у столбца \"рейтинг\" строковые значения)"
   ]
  },
  {
   "cell_type": "code",
   "execution_count": 23,
   "id": "bea918d9",
   "metadata": {},
   "outputs": [
    {
     "data": {
      "text/plain": [
       "name               0\n",
       "platform           0\n",
       "year_of_release    0\n",
       "genre              0\n",
       "na_sales           0\n",
       "eu_sales           0\n",
       "jp_sales           0\n",
       "other_sales        0\n",
       "critic_score       0\n",
       "user_score         0\n",
       "rating             0\n",
       "dtype: int64"
      ]
     },
     "execution_count": 23,
     "metadata": {},
     "output_type": "execute_result"
    }
   ],
   "source": [
    "data['critic_score'].fillna('-1',inplace=True)\n",
    "data['critic_score'] = pd.to_numeric(data['critic_score'], errors='raise')\n",
    "data['rating'].fillna('no_rating',inplace=True)\n",
    "#проверим все ли пропуски заполнены\n",
    "data.isna().sum()"
   ]
  },
  {
   "cell_type": "code",
   "execution_count": 24,
   "id": "a081f2b7",
   "metadata": {},
   "outputs": [
    {
     "name": "stdout",
     "output_type": "stream",
     "text": [
      "<class 'pandas.core.frame.DataFrame'>\n",
      "Int64Index: 16444 entries, 0 to 16714\n",
      "Data columns (total 11 columns):\n",
      " #   Column           Non-Null Count  Dtype  \n",
      "---  ------           --------------  -----  \n",
      " 0   name             16444 non-null  object \n",
      " 1   platform         16444 non-null  object \n",
      " 2   year_of_release  16444 non-null  int64  \n",
      " 3   genre            16444 non-null  object \n",
      " 4   na_sales         16444 non-null  float64\n",
      " 5   eu_sales         16444 non-null  float64\n",
      " 6   jp_sales         16444 non-null  float64\n",
      " 7   other_sales      16444 non-null  float64\n",
      " 8   critic_score     16444 non-null  float64\n",
      " 9   user_score       16444 non-null  float64\n",
      " 10  rating           16444 non-null  object \n",
      "dtypes: float64(6), int64(1), object(4)\n",
      "memory usage: 1.5+ MB\n"
     ]
    }
   ],
   "source": [
    " data.info()"
   ]
  },
  {
   "cell_type": "markdown",
   "id": "affee279",
   "metadata": {},
   "source": [
    "<a id='6-bullet'></a>\n",
    "### Подсчет суммарных продаж во всех регионах с созданием нового столбца"
   ]
  },
  {
   "cell_type": "code",
   "execution_count": 25,
   "id": "91c51483",
   "metadata": {},
   "outputs": [
    {
     "data": {
      "text/html": [
       "<div>\n",
       "<style scoped>\n",
       "    .dataframe tbody tr th:only-of-type {\n",
       "        vertical-align: middle;\n",
       "    }\n",
       "\n",
       "    .dataframe tbody tr th {\n",
       "        vertical-align: top;\n",
       "    }\n",
       "\n",
       "    .dataframe thead th {\n",
       "        text-align: right;\n",
       "    }\n",
       "</style>\n",
       "<table border=\"1\" class=\"dataframe\">\n",
       "  <thead>\n",
       "    <tr style=\"text-align: right;\">\n",
       "      <th></th>\n",
       "      <th>name</th>\n",
       "      <th>platform</th>\n",
       "      <th>year_of_release</th>\n",
       "      <th>genre</th>\n",
       "      <th>na_sales</th>\n",
       "      <th>eu_sales</th>\n",
       "      <th>jp_sales</th>\n",
       "      <th>other_sales</th>\n",
       "      <th>critic_score</th>\n",
       "      <th>user_score</th>\n",
       "      <th>rating</th>\n",
       "      <th>total_sales</th>\n",
       "    </tr>\n",
       "  </thead>\n",
       "  <tbody>\n",
       "    <tr>\n",
       "      <th>0</th>\n",
       "      <td>wii sports</td>\n",
       "      <td>wii</td>\n",
       "      <td>2006</td>\n",
       "      <td>Sports</td>\n",
       "      <td>41.36</td>\n",
       "      <td>28.96</td>\n",
       "      <td>3.77</td>\n",
       "      <td>8.45</td>\n",
       "      <td>76.0</td>\n",
       "      <td>8.0</td>\n",
       "      <td>E</td>\n",
       "      <td>82.54</td>\n",
       "    </tr>\n",
       "    <tr>\n",
       "      <th>1</th>\n",
       "      <td>super mario bros.</td>\n",
       "      <td>nes</td>\n",
       "      <td>1985</td>\n",
       "      <td>Platform</td>\n",
       "      <td>29.08</td>\n",
       "      <td>3.58</td>\n",
       "      <td>6.81</td>\n",
       "      <td>0.77</td>\n",
       "      <td>-1.0</td>\n",
       "      <td>-1.0</td>\n",
       "      <td>no_rating</td>\n",
       "      <td>40.24</td>\n",
       "    </tr>\n",
       "    <tr>\n",
       "      <th>2</th>\n",
       "      <td>mario kart wii</td>\n",
       "      <td>wii</td>\n",
       "      <td>2008</td>\n",
       "      <td>Racing</td>\n",
       "      <td>15.68</td>\n",
       "      <td>12.76</td>\n",
       "      <td>3.79</td>\n",
       "      <td>3.29</td>\n",
       "      <td>82.0</td>\n",
       "      <td>8.3</td>\n",
       "      <td>E</td>\n",
       "      <td>35.52</td>\n",
       "    </tr>\n",
       "    <tr>\n",
       "      <th>3</th>\n",
       "      <td>wii sports resort</td>\n",
       "      <td>wii</td>\n",
       "      <td>2009</td>\n",
       "      <td>Sports</td>\n",
       "      <td>15.61</td>\n",
       "      <td>10.93</td>\n",
       "      <td>3.28</td>\n",
       "      <td>2.95</td>\n",
       "      <td>80.0</td>\n",
       "      <td>8.0</td>\n",
       "      <td>E</td>\n",
       "      <td>32.77</td>\n",
       "    </tr>\n",
       "    <tr>\n",
       "      <th>4</th>\n",
       "      <td>pokemon red/pokemon blue</td>\n",
       "      <td>gb</td>\n",
       "      <td>1996</td>\n",
       "      <td>Role-Playing</td>\n",
       "      <td>11.27</td>\n",
       "      <td>8.89</td>\n",
       "      <td>10.22</td>\n",
       "      <td>1.00</td>\n",
       "      <td>-1.0</td>\n",
       "      <td>-1.0</td>\n",
       "      <td>no_rating</td>\n",
       "      <td>31.38</td>\n",
       "    </tr>\n",
       "  </tbody>\n",
       "</table>\n",
       "</div>"
      ],
      "text/plain": [
       "                       name platform  year_of_release         genre  na_sales  \\\n",
       "0                wii sports      wii             2006        Sports     41.36   \n",
       "1         super mario bros.      nes             1985      Platform     29.08   \n",
       "2            mario kart wii      wii             2008        Racing     15.68   \n",
       "3         wii sports resort      wii             2009        Sports     15.61   \n",
       "4  pokemon red/pokemon blue       gb             1996  Role-Playing     11.27   \n",
       "\n",
       "   eu_sales  jp_sales  other_sales  critic_score  user_score     rating  \\\n",
       "0     28.96      3.77         8.45          76.0         8.0          E   \n",
       "1      3.58      6.81         0.77          -1.0        -1.0  no_rating   \n",
       "2     12.76      3.79         3.29          82.0         8.3          E   \n",
       "3     10.93      3.28         2.95          80.0         8.0          E   \n",
       "4      8.89     10.22         1.00          -1.0        -1.0  no_rating   \n",
       "\n",
       "   total_sales  \n",
       "0        82.54  \n",
       "1        40.24  \n",
       "2        35.52  \n",
       "3        32.77  \n",
       "4        31.38  "
      ]
     },
     "metadata": {},
     "output_type": "display_data"
    }
   ],
   "source": [
    "data['total_sales']=data['na_sales']+data['eu_sales']+data['jp_sales']+data['other_sales']\n",
    "display(data.head())"
   ]
  },
  {
   "cell_type": "markdown",
   "id": "fd40e01b",
   "metadata": {},
   "source": [
    "**ВЫВОД:**\n",
    "\n",
    "В части предобработки данных было сделано следующее:\n",
    "- приведены названия столбцов к нижнему регистру\n",
    "- замена типов данных в годах выпуска и в оценке пользователей: в годе выпуска (с вещественного — на целочисленный), в оценке пользователей (со строчного — на вещественный)\n",
    "- пропуски в годах выпуска игр были удалены в связи с небольшим количеством таких данны.\n",
    "- в оценке пользователей пропуски были заменены на -1\n",
    "- строки с пропуском названий игр были удаленны, это оказались те же строки, где пропущен жанр. \n",
    "- пропуски в данных оценки критиков и рейтинге ESRB были промаркированы -1 ввиду того, что точным образом их обработать нельзя на данном этапе\n",
    "- родсчитаны суммарные продажи по всем регионам и выведены в новый столбец \"total_sales\""
   ]
  },
  {
   "cell_type": "markdown",
   "id": "f603db57",
   "metadata": {},
   "source": [
    "## Шаг 3. Исследовательский анализ данных"
   ]
  },
  {
   "cell_type": "markdown",
   "id": "a52d9447",
   "metadata": {},
   "source": [
    "<a id='7-bullet'></a>\n",
    "### Исследование количества игр по годам"
   ]
  },
  {
   "cell_type": "code",
   "execution_count": 26,
   "id": "49fa150e",
   "metadata": {},
   "outputs": [
    {
     "data": {
      "image/png": "[encoded data removed]",
      "text/plain": [
       "<Figure size 1500x600 with 1 Axes>"
      ]
     },
     "metadata": {},
     "output_type": "display_data"
    }
   ],
   "source": [
    "(data.pivot_table(index='year_of_release', values='total_sales',aggfunc='count')\\\n",
    " .plot(kind='bar',figsize=(15, 6)))\n",
    "plt.title('Количества игр по годам')\n",
    "plt.xlabel('год выпуска')\n",
    "plt.ylabel('количество игр')\n",
    "plt.show()"
   ]
  },
  {
   "cell_type": "markdown",
   "id": "f6a359af",
   "metadata": {},
   "source": [
    "Судя по графику, игровая индустрия активно начала развиваться после 1994 года, поэтому данные до 1994 года могут быть не интересны для настоящего анализа. Наибольшее количество игр выпущено в 2008-2009 годах, далее наблюдается заметное снижение, объемы выпускаемых игр вышли на уровень ниже объемов 2003-2004 годов.\n",
    "Такое снижение можно объяснить появлением мобильных игр и мобильных платформ."
   ]
  },
  {
   "cell_type": "code",
   "execution_count": 27,
   "id": "34d68403",
   "metadata": {},
   "outputs": [
    {
     "data": {
      "text/plain": [
       "year_of_release\n",
       "1980       9\n",
       "1981      46\n",
       "1982      36\n",
       "1983      17\n",
       "1984      14\n",
       "1985      14\n",
       "1986      21\n",
       "1987      16\n",
       "1988      15\n",
       "1989      17\n",
       "1990      16\n",
       "1991      40\n",
       "1992      41\n",
       "1993      59\n",
       "1994     117\n",
       "1995     215\n",
       "1996     258\n",
       "1997     282\n",
       "1998     364\n",
       "1999     326\n",
       "2000     325\n",
       "2001     428\n",
       "2002     631\n",
       "2003     546\n",
       "2004     550\n",
       "2005     657\n",
       "2006     773\n",
       "2007     884\n",
       "2008    1039\n",
       "2009    1001\n",
       "2010     900\n",
       "2011     779\n",
       "2012     446\n",
       "2013     335\n",
       "2014     319\n",
       "2015     362\n",
       "2016     297\n",
       "Name: name, dtype: int64"
      ]
     },
     "execution_count": 27,
     "metadata": {},
     "output_type": "execute_result"
    }
   ],
   "source": [
    "games_unique=data.drop_duplicates(subset=['name','year_of_release'],keep='first')\n",
    "games_unique.groupby('year_of_release')['name'].count()"
   ]
  },
  {
   "cell_type": "code",
   "execution_count": 28,
   "id": "338dfe02",
   "metadata": {},
   "outputs": [
    {
     "data": {
      "image/png": "[encoded data removed]",
      "text/plain": [
       "<Figure size 1500x600 with 1 Axes>"
      ]
     },
     "metadata": {},
     "output_type": "display_data"
    }
   ],
   "source": [
    "# построим график выпуска по очищенным данным\n",
    "(games_unique.pivot_table(index='year_of_release', values='name',aggfunc='count')\\\n",
    " .plot(kind='bar',figsize=(15, 6)))\n",
    "plt.title('Количества игр по годам')\n",
    "plt.xlabel('год выпуска')\n",
    "plt.ylabel('количество игр')\n",
    "plt.show()"
   ]
  },
  {
   "cell_type": "markdown",
   "id": "222a879b",
   "metadata": {},
   "source": [
    "Как видно из графика, с 1994 года идет рост выпуска игр, пик пришелся на 2008-2009 год, график по \"чистому\" выпуску игр идентичен по виду  графику выпуска игр по продажам в разбивке по годам."
   ]
  },
  {
   "cell_type": "markdown",
   "id": "3d5f1fab",
   "metadata": {},
   "source": [
    "<a id='8-bullet'></a>\n",
    "### Исследование объема продаж по платформам"
   ]
  },
  {
   "cell_type": "markdown",
   "id": "d276ff0d",
   "metadata": {},
   "source": [
    "Рассмотрим объемы продаж игр по платформам в распределении по годам."
   ]
  },
  {
   "cell_type": "code",
   "execution_count": 29,
   "id": "ee8e375f",
   "metadata": {
    "scrolled": false
   },
   "outputs": [
    {
     "data": {
      "text/plain": [
       "<Axes: xlabel='year_of_release', ylabel='platform'>"
      ]
     },
     "execution_count": 29,
     "metadata": {},
     "output_type": "execute_result"
    },
    {
     "data": {
      "image/png": "[encoded data removed]",
      "text/plain": [
       "<Figure size 640x480 with 1 Axes>"
      ]
     },
     "metadata": {},
     "output_type": "display_data"
    }
   ],
   "source": [
    "sns.scatterplot(x=data['year_of_release'], y=data['platform'])"
   ]
  },
  {
   "cell_type": "markdown",
   "id": "97aae5f6",
   "metadata": {},
   "source": [
    "Из графика выше видно, что активность платформ по годам сильно различается. Многие платформы устарели, например, платформа 2600 была только до 1990, GEN- до 1994, DC- до 2002 и т.д.соответственно изменилось время и факторы успеха должны были измениться."
   ]
  },
  {
   "cell_type": "markdown",
   "id": "7879a7e8",
   "metadata": {},
   "source": [
    "Выберем платформы с наибольшими суммарными продажами и построим распределение по годам."
   ]
  },
  {
   "cell_type": "code",
   "execution_count": 30,
   "id": "d82833ca",
   "metadata": {},
   "outputs": [
    {
     "data": {
      "text/html": [
       "<div>\n",
       "<style scoped>\n",
       "    .dataframe tbody tr th:only-of-type {\n",
       "        vertical-align: middle;\n",
       "    }\n",
       "\n",
       "    .dataframe tbody tr th {\n",
       "        vertical-align: top;\n",
       "    }\n",
       "\n",
       "    .dataframe thead th {\n",
       "        text-align: right;\n",
       "    }\n",
       "</style>\n",
       "<table border=\"1\" class=\"dataframe\">\n",
       "  <thead>\n",
       "    <tr style=\"text-align: right;\">\n",
       "      <th></th>\n",
       "      <th>total_sales</th>\n",
       "    </tr>\n",
       "    <tr>\n",
       "      <th>platform</th>\n",
       "      <th></th>\n",
       "    </tr>\n",
       "  </thead>\n",
       "  <tbody>\n",
       "    <tr>\n",
       "      <th>ps2</th>\n",
       "      <td>1233.56</td>\n",
       "    </tr>\n",
       "    <tr>\n",
       "      <th>x360</th>\n",
       "      <td>961.24</td>\n",
       "    </tr>\n",
       "    <tr>\n",
       "      <th>ps3</th>\n",
       "      <td>931.34</td>\n",
       "    </tr>\n",
       "    <tr>\n",
       "      <th>wii</th>\n",
       "      <td>891.18</td>\n",
       "    </tr>\n",
       "    <tr>\n",
       "      <th>ds</th>\n",
       "      <td>802.78</td>\n",
       "    </tr>\n",
       "    <tr>\n",
       "      <th>ps</th>\n",
       "      <td>727.58</td>\n",
       "    </tr>\n",
       "    <tr>\n",
       "      <th>ps4</th>\n",
       "      <td>314.14</td>\n",
       "    </tr>\n",
       "    <tr>\n",
       "      <th>gba</th>\n",
       "      <td>312.88</td>\n",
       "    </tr>\n",
       "    <tr>\n",
       "      <th>psp</th>\n",
       "      <td>289.53</td>\n",
       "    </tr>\n",
       "    <tr>\n",
       "      <th>3ds</th>\n",
       "      <td>257.81</td>\n",
       "    </tr>\n",
       "  </tbody>\n",
       "</table>\n",
       "</div>"
      ],
      "text/plain": [
       "          total_sales\n",
       "platform             \n",
       "ps2           1233.56\n",
       "x360           961.24\n",
       "ps3            931.34\n",
       "wii            891.18\n",
       "ds             802.78\n",
       "ps             727.58\n",
       "ps4            314.14\n",
       "gba            312.88\n",
       "psp            289.53\n",
       "3ds            257.81"
      ]
     },
     "execution_count": 30,
     "metadata": {},
     "output_type": "execute_result"
    }
   ],
   "source": [
    "#Выберем платформы с наибольшими суммарными продажами и построим распределение по годам.\n",
    "top10 = data.pivot_table(index='platform', values='total_sales', aggfunc='sum')\\\n",
    ".sort_values('total_sales', ascending=False).head(10)\n",
    "top10"
   ]
  },
  {
   "cell_type": "markdown",
   "id": "60e62b5f",
   "metadata": {},
   "source": [
    "Видно, что самые популярные игровые платформы за весь период это PS2, X360, PS3, WII, DS, PS.\n",
    "Из первых 10 платформ по объемам продаж 5 мест занимают разные версии PS.\n",
    "\n",
    "Далее, рассмотрим распределение продаж по каждой из топ 10 платформ по годам после 1994 года.\n",
    "\n",
    "Сначала найдем объем продаж для каждой платформы по годам."
   ]
  },
  {
   "cell_type": "code",
   "execution_count": 31,
   "id": "789aebbf",
   "metadata": {},
   "outputs": [
    {
     "data": {
      "text/html": [
       "<div>\n",
       "<style scoped>\n",
       "    .dataframe tbody tr th:only-of-type {\n",
       "        vertical-align: middle;\n",
       "    }\n",
       "\n",
       "    .dataframe tbody tr th {\n",
       "        vertical-align: top;\n",
       "    }\n",
       "\n",
       "    .dataframe thead th {\n",
       "        text-align: right;\n",
       "    }\n",
       "</style>\n",
       "<table border=\"1\" class=\"dataframe\">\n",
       "  <thead>\n",
       "    <tr style=\"text-align: right;\">\n",
       "      <th>platform</th>\n",
       "      <th>3ds</th>\n",
       "      <th>ds</th>\n",
       "      <th>gba</th>\n",
       "      <th>ps</th>\n",
       "      <th>ps2</th>\n",
       "      <th>ps3</th>\n",
       "      <th>ps4</th>\n",
       "      <th>psp</th>\n",
       "      <th>wii</th>\n",
       "      <th>x360</th>\n",
       "    </tr>\n",
       "    <tr>\n",
       "      <th>year_of_release</th>\n",
       "      <th></th>\n",
       "      <th></th>\n",
       "      <th></th>\n",
       "      <th></th>\n",
       "      <th></th>\n",
       "      <th></th>\n",
       "      <th></th>\n",
       "      <th></th>\n",
       "      <th></th>\n",
       "      <th></th>\n",
       "    </tr>\n",
       "  </thead>\n",
       "  <tbody>\n",
       "    <tr>\n",
       "      <th>1994</th>\n",
       "      <td>0.00</td>\n",
       "      <td>0.00</td>\n",
       "      <td>0.00</td>\n",
       "      <td>6.03</td>\n",
       "      <td>0.00</td>\n",
       "      <td>0.00</td>\n",
       "      <td>0.00</td>\n",
       "      <td>0.00</td>\n",
       "      <td>0.00</td>\n",
       "      <td>0.00</td>\n",
       "    </tr>\n",
       "    <tr>\n",
       "      <th>1995</th>\n",
       "      <td>0.00</td>\n",
       "      <td>0.00</td>\n",
       "      <td>0.00</td>\n",
       "      <td>35.96</td>\n",
       "      <td>0.00</td>\n",
       "      <td>0.00</td>\n",
       "      <td>0.00</td>\n",
       "      <td>0.00</td>\n",
       "      <td>0.00</td>\n",
       "      <td>0.00</td>\n",
       "    </tr>\n",
       "    <tr>\n",
       "      <th>1996</th>\n",
       "      <td>0.00</td>\n",
       "      <td>0.00</td>\n",
       "      <td>0.00</td>\n",
       "      <td>94.70</td>\n",
       "      <td>0.00</td>\n",
       "      <td>0.00</td>\n",
       "      <td>0.00</td>\n",
       "      <td>0.00</td>\n",
       "      <td>0.00</td>\n",
       "      <td>0.00</td>\n",
       "    </tr>\n",
       "    <tr>\n",
       "      <th>1997</th>\n",
       "      <td>0.00</td>\n",
       "      <td>0.00</td>\n",
       "      <td>0.00</td>\n",
       "      <td>136.17</td>\n",
       "      <td>0.00</td>\n",
       "      <td>0.00</td>\n",
       "      <td>0.00</td>\n",
       "      <td>0.00</td>\n",
       "      <td>0.00</td>\n",
       "      <td>0.00</td>\n",
       "    </tr>\n",
       "    <tr>\n",
       "      <th>1998</th>\n",
       "      <td>0.00</td>\n",
       "      <td>0.00</td>\n",
       "      <td>0.00</td>\n",
       "      <td>169.49</td>\n",
       "      <td>0.00</td>\n",
       "      <td>0.00</td>\n",
       "      <td>0.00</td>\n",
       "      <td>0.00</td>\n",
       "      <td>0.00</td>\n",
       "      <td>0.00</td>\n",
       "    </tr>\n",
       "    <tr>\n",
       "      <th>1999</th>\n",
       "      <td>0.00</td>\n",
       "      <td>0.00</td>\n",
       "      <td>0.00</td>\n",
       "      <td>144.53</td>\n",
       "      <td>0.00</td>\n",
       "      <td>0.00</td>\n",
       "      <td>0.00</td>\n",
       "      <td>0.00</td>\n",
       "      <td>0.00</td>\n",
       "      <td>0.00</td>\n",
       "    </tr>\n",
       "    <tr>\n",
       "      <th>2000</th>\n",
       "      <td>0.00</td>\n",
       "      <td>0.00</td>\n",
       "      <td>0.07</td>\n",
       "      <td>96.37</td>\n",
       "      <td>39.17</td>\n",
       "      <td>0.00</td>\n",
       "      <td>0.00</td>\n",
       "      <td>0.00</td>\n",
       "      <td>0.00</td>\n",
       "      <td>0.00</td>\n",
       "    </tr>\n",
       "    <tr>\n",
       "      <th>2001</th>\n",
       "      <td>0.00</td>\n",
       "      <td>0.00</td>\n",
       "      <td>61.53</td>\n",
       "      <td>35.59</td>\n",
       "      <td>166.43</td>\n",
       "      <td>0.00</td>\n",
       "      <td>0.00</td>\n",
       "      <td>0.00</td>\n",
       "      <td>0.00</td>\n",
       "      <td>0.00</td>\n",
       "    </tr>\n",
       "    <tr>\n",
       "      <th>2002</th>\n",
       "      <td>0.00</td>\n",
       "      <td>0.00</td>\n",
       "      <td>74.16</td>\n",
       "      <td>6.67</td>\n",
       "      <td>205.38</td>\n",
       "      <td>0.00</td>\n",
       "      <td>0.00</td>\n",
       "      <td>0.00</td>\n",
       "      <td>0.00</td>\n",
       "      <td>0.00</td>\n",
       "    </tr>\n",
       "    <tr>\n",
       "      <th>2003</th>\n",
       "      <td>0.00</td>\n",
       "      <td>0.00</td>\n",
       "      <td>56.67</td>\n",
       "      <td>2.07</td>\n",
       "      <td>184.31</td>\n",
       "      <td>0.00</td>\n",
       "      <td>0.00</td>\n",
       "      <td>0.00</td>\n",
       "      <td>0.00</td>\n",
       "      <td>0.00</td>\n",
       "    </tr>\n",
       "    <tr>\n",
       "      <th>2004</th>\n",
       "      <td>0.00</td>\n",
       "      <td>17.27</td>\n",
       "      <td>77.91</td>\n",
       "      <td>0.00</td>\n",
       "      <td>211.81</td>\n",
       "      <td>0.00</td>\n",
       "      <td>0.00</td>\n",
       "      <td>7.06</td>\n",
       "      <td>0.00</td>\n",
       "      <td>0.00</td>\n",
       "    </tr>\n",
       "    <tr>\n",
       "      <th>2005</th>\n",
       "      <td>0.00</td>\n",
       "      <td>130.14</td>\n",
       "      <td>33.86</td>\n",
       "      <td>0.00</td>\n",
       "      <td>160.66</td>\n",
       "      <td>0.00</td>\n",
       "      <td>0.00</td>\n",
       "      <td>43.84</td>\n",
       "      <td>0.00</td>\n",
       "      <td>8.25</td>\n",
       "    </tr>\n",
       "    <tr>\n",
       "      <th>2006</th>\n",
       "      <td>0.00</td>\n",
       "      <td>119.81</td>\n",
       "      <td>5.28</td>\n",
       "      <td>0.00</td>\n",
       "      <td>103.42</td>\n",
       "      <td>20.96</td>\n",
       "      <td>0.00</td>\n",
       "      <td>55.32</td>\n",
       "      <td>137.15</td>\n",
       "      <td>51.62</td>\n",
       "    </tr>\n",
       "    <tr>\n",
       "      <th>2007</th>\n",
       "      <td>0.00</td>\n",
       "      <td>146.94</td>\n",
       "      <td>3.40</td>\n",
       "      <td>0.00</td>\n",
       "      <td>75.99</td>\n",
       "      <td>73.19</td>\n",
       "      <td>0.00</td>\n",
       "      <td>46.93</td>\n",
       "      <td>152.77</td>\n",
       "      <td>95.41</td>\n",
       "    </tr>\n",
       "    <tr>\n",
       "      <th>2008</th>\n",
       "      <td>0.00</td>\n",
       "      <td>145.31</td>\n",
       "      <td>0.00</td>\n",
       "      <td>0.00</td>\n",
       "      <td>53.90</td>\n",
       "      <td>118.52</td>\n",
       "      <td>0.00</td>\n",
       "      <td>34.55</td>\n",
       "      <td>171.32</td>\n",
       "      <td>135.26</td>\n",
       "    </tr>\n",
       "    <tr>\n",
       "      <th>2009</th>\n",
       "      <td>0.00</td>\n",
       "      <td>119.54</td>\n",
       "      <td>0.00</td>\n",
       "      <td>0.00</td>\n",
       "      <td>26.40</td>\n",
       "      <td>130.93</td>\n",
       "      <td>0.00</td>\n",
       "      <td>37.78</td>\n",
       "      <td>206.97</td>\n",
       "      <td>120.29</td>\n",
       "    </tr>\n",
       "    <tr>\n",
       "      <th>2010</th>\n",
       "      <td>0.00</td>\n",
       "      <td>85.02</td>\n",
       "      <td>0.00</td>\n",
       "      <td>0.00</td>\n",
       "      <td>5.64</td>\n",
       "      <td>142.17</td>\n",
       "      <td>0.00</td>\n",
       "      <td>35.04</td>\n",
       "      <td>127.95</td>\n",
       "      <td>170.03</td>\n",
       "    </tr>\n",
       "    <tr>\n",
       "      <th>2011</th>\n",
       "      <td>63.20</td>\n",
       "      <td>26.18</td>\n",
       "      <td>0.00</td>\n",
       "      <td>0.00</td>\n",
       "      <td>0.45</td>\n",
       "      <td>156.78</td>\n",
       "      <td>0.00</td>\n",
       "      <td>17.82</td>\n",
       "      <td>59.65</td>\n",
       "      <td>143.84</td>\n",
       "    </tr>\n",
       "    <tr>\n",
       "      <th>2012</th>\n",
       "      <td>51.36</td>\n",
       "      <td>11.01</td>\n",
       "      <td>0.00</td>\n",
       "      <td>0.00</td>\n",
       "      <td>0.00</td>\n",
       "      <td>107.36</td>\n",
       "      <td>0.00</td>\n",
       "      <td>7.69</td>\n",
       "      <td>21.71</td>\n",
       "      <td>99.74</td>\n",
       "    </tr>\n",
       "    <tr>\n",
       "      <th>2013</th>\n",
       "      <td>56.57</td>\n",
       "      <td>1.54</td>\n",
       "      <td>0.00</td>\n",
       "      <td>0.00</td>\n",
       "      <td>0.00</td>\n",
       "      <td>113.25</td>\n",
       "      <td>25.99</td>\n",
       "      <td>3.14</td>\n",
       "      <td>8.59</td>\n",
       "      <td>88.58</td>\n",
       "    </tr>\n",
       "    <tr>\n",
       "      <th>2014</th>\n",
       "      <td>43.76</td>\n",
       "      <td>0.00</td>\n",
       "      <td>0.00</td>\n",
       "      <td>0.00</td>\n",
       "      <td>0.00</td>\n",
       "      <td>47.76</td>\n",
       "      <td>100.00</td>\n",
       "      <td>0.24</td>\n",
       "      <td>3.75</td>\n",
       "      <td>34.74</td>\n",
       "    </tr>\n",
       "    <tr>\n",
       "      <th>2015</th>\n",
       "      <td>27.78</td>\n",
       "      <td>0.00</td>\n",
       "      <td>0.00</td>\n",
       "      <td>0.00</td>\n",
       "      <td>0.00</td>\n",
       "      <td>16.82</td>\n",
       "      <td>118.90</td>\n",
       "      <td>0.12</td>\n",
       "      <td>1.14</td>\n",
       "      <td>11.96</td>\n",
       "    </tr>\n",
       "    <tr>\n",
       "      <th>2016</th>\n",
       "      <td>15.14</td>\n",
       "      <td>0.00</td>\n",
       "      <td>0.00</td>\n",
       "      <td>0.00</td>\n",
       "      <td>0.00</td>\n",
       "      <td>3.60</td>\n",
       "      <td>69.25</td>\n",
       "      <td>0.00</td>\n",
       "      <td>0.18</td>\n",
       "      <td>1.52</td>\n",
       "    </tr>\n",
       "  </tbody>\n",
       "</table>\n",
       "</div>"
      ],
      "text/plain": [
       "platform           3ds      ds    gba      ps     ps2     ps3     ps4    psp  \\\n",
       "year_of_release                                                                \n",
       "1994              0.00    0.00   0.00    6.03    0.00    0.00    0.00   0.00   \n",
       "1995              0.00    0.00   0.00   35.96    0.00    0.00    0.00   0.00   \n",
       "1996              0.00    0.00   0.00   94.70    0.00    0.00    0.00   0.00   \n",
       "1997              0.00    0.00   0.00  136.17    0.00    0.00    0.00   0.00   \n",
       "1998              0.00    0.00   0.00  169.49    0.00    0.00    0.00   0.00   \n",
       "1999              0.00    0.00   0.00  144.53    0.00    0.00    0.00   0.00   \n",
       "2000              0.00    0.00   0.07   96.37   39.17    0.00    0.00   0.00   \n",
       "2001              0.00    0.00  61.53   35.59  166.43    0.00    0.00   0.00   \n",
       "2002              0.00    0.00  74.16    6.67  205.38    0.00    0.00   0.00   \n",
       "2003              0.00    0.00  56.67    2.07  184.31    0.00    0.00   0.00   \n",
       "2004              0.00   17.27  77.91    0.00  211.81    0.00    0.00   7.06   \n",
       "2005              0.00  130.14  33.86    0.00  160.66    0.00    0.00  43.84   \n",
       "2006              0.00  119.81   5.28    0.00  103.42   20.96    0.00  55.32   \n",
       "2007              0.00  146.94   3.40    0.00   75.99   73.19    0.00  46.93   \n",
       "2008              0.00  145.31   0.00    0.00   53.90  118.52    0.00  34.55   \n",
       "2009              0.00  119.54   0.00    0.00   26.40  130.93    0.00  37.78   \n",
       "2010              0.00   85.02   0.00    0.00    5.64  142.17    0.00  35.04   \n",
       "2011             63.20   26.18   0.00    0.00    0.45  156.78    0.00  17.82   \n",
       "2012             51.36   11.01   0.00    0.00    0.00  107.36    0.00   7.69   \n",
       "2013             56.57    1.54   0.00    0.00    0.00  113.25   25.99   3.14   \n",
       "2014             43.76    0.00   0.00    0.00    0.00   47.76  100.00   0.24   \n",
       "2015             27.78    0.00   0.00    0.00    0.00   16.82  118.90   0.12   \n",
       "2016             15.14    0.00   0.00    0.00    0.00    3.60   69.25   0.00   \n",
       "\n",
       "platform            wii    x360  \n",
       "year_of_release                  \n",
       "1994               0.00    0.00  \n",
       "1995               0.00    0.00  \n",
       "1996               0.00    0.00  \n",
       "1997               0.00    0.00  \n",
       "1998               0.00    0.00  \n",
       "1999               0.00    0.00  \n",
       "2000               0.00    0.00  \n",
       "2001               0.00    0.00  \n",
       "2002               0.00    0.00  \n",
       "2003               0.00    0.00  \n",
       "2004               0.00    0.00  \n",
       "2005               0.00    8.25  \n",
       "2006             137.15   51.62  \n",
       "2007             152.77   95.41  \n",
       "2008             171.32  135.26  \n",
       "2009             206.97  120.29  \n",
       "2010             127.95  170.03  \n",
       "2011              59.65  143.84  \n",
       "2012              21.71   99.74  \n",
       "2013               8.59   88.58  \n",
       "2014               3.75   34.74  \n",
       "2015               1.14   11.96  \n",
       "2016               0.18    1.52  "
      ]
     },
     "execution_count": 31,
     "metadata": {},
     "output_type": "execute_result"
    }
   ],
   "source": [
    "timeseries = data.pivot_table(index='year_of_release', columns='platform', values='total_sales', aggfunc='sum')\n",
    "timeseries.fillna(0, inplace=True)\n",
    "\n",
    "#теперь выделим данные после 1994 года в датасет timeseries_actual\n",
    "for platform in timeseries.columns:\n",
    "    if platform not in top10.index:\n",
    "        timeseries.drop(platform, axis=1, inplace=True)\n",
    "        \n",
    "timeseries_actual = timeseries[timeseries.index >= 1994]\n",
    "timeseries_actual"
   ]
  },
  {
   "cell_type": "code",
   "execution_count": 32,
   "id": "a3f71b55",
   "metadata": {},
   "outputs": [
    {
     "data": {
      "image/png": "[encoded data removed]",
      "text/plain": [
       "<Figure size 1500x600 with 1 Axes>"
      ]
     },
     "metadata": {},
     "output_type": "display_data"
    }
   ],
   "source": [
    "timeseries_actual.plot( kind='bar', figsize=(15, 6), stacked=True)\n",
    "plt.title('Объем продаж по годам топ 10 платформ')\n",
    "plt.xlabel('год выпуска')\n",
    "plt.ylabel('объем продаж')\n",
    "plt.show()"
   ]
  },
  {
   "cell_type": "markdown",
   "id": "c7b024c1",
   "metadata": {},
   "source": [
    "На графике видно, что из топ 10 платформ до 1999 на рынке присутствовала только PS.с 2000 года на ее смену выпустили PS2, которая далее ее вытеснила,в свою очередь  PS3 появилась в 2006 году и вплоть до 2016 года просуществовала. Платформа 3 DS пришла на смену DS в 2011 году. \n",
    "Из графка видна закономерность- существует определенный жизненный цикл у игровых платформ."
   ]
  },
  {
   "cell_type": "markdown",
   "id": "17d954ec",
   "metadata": {},
   "source": [
    "Найдем среднюю продолжительность жизни игровой платформы. Сначала создадим сводную таблицу, где соберем все платформы и количество лет, в тесение которых они выпускали игры."
   ]
  },
  {
   "cell_type": "code",
   "execution_count": 33,
   "id": "3b7c5e49",
   "metadata": {},
   "outputs": [
    {
     "data": {
      "text/html": [
       "<div>\n",
       "<style scoped>\n",
       "    .dataframe tbody tr th:only-of-type {\n",
       "        vertical-align: middle;\n",
       "    }\n",
       "\n",
       "    .dataframe tbody tr th {\n",
       "        vertical-align: top;\n",
       "    }\n",
       "\n",
       "    .dataframe thead th {\n",
       "        text-align: right;\n",
       "    }\n",
       "</style>\n",
       "<table border=\"1\" class=\"dataframe\">\n",
       "  <thead>\n",
       "    <tr style=\"text-align: right;\">\n",
       "      <th></th>\n",
       "      <th>year_of_release</th>\n",
       "    </tr>\n",
       "    <tr>\n",
       "      <th>platform</th>\n",
       "      <th></th>\n",
       "    </tr>\n",
       "  </thead>\n",
       "  <tbody>\n",
       "    <tr>\n",
       "      <th>pc</th>\n",
       "      <td>26</td>\n",
       "    </tr>\n",
       "    <tr>\n",
       "      <th>gb</th>\n",
       "      <td>13</td>\n",
       "    </tr>\n",
       "    <tr>\n",
       "      <th>nes</th>\n",
       "      <td>12</td>\n",
       "    </tr>\n",
       "    <tr>\n",
       "      <th>x360</th>\n",
       "      <td>12</td>\n",
       "    </tr>\n",
       "    <tr>\n",
       "      <th>psp</th>\n",
       "      <td>12</td>\n",
       "    </tr>\n",
       "    <tr>\n",
       "      <th>ps2</th>\n",
       "      <td>12</td>\n",
       "    </tr>\n",
       "    <tr>\n",
       "      <th>wii</th>\n",
       "      <td>11</td>\n",
       "    </tr>\n",
       "    <tr>\n",
       "      <th>ds</th>\n",
       "      <td>11</td>\n",
       "    </tr>\n",
       "    <tr>\n",
       "      <th>ps3</th>\n",
       "      <td>11</td>\n",
       "    </tr>\n",
       "    <tr>\n",
       "      <th>2600</th>\n",
       "      <td>10</td>\n",
       "    </tr>\n",
       "    <tr>\n",
       "      <th>snes</th>\n",
       "      <td>10</td>\n",
       "    </tr>\n",
       "    <tr>\n",
       "      <th>ps</th>\n",
       "      <td>10</td>\n",
       "    </tr>\n",
       "    <tr>\n",
       "      <th>xb</th>\n",
       "      <td>9</td>\n",
       "    </tr>\n",
       "    <tr>\n",
       "      <th>gba</th>\n",
       "      <td>8</td>\n",
       "    </tr>\n",
       "    <tr>\n",
       "      <th>dc</th>\n",
       "      <td>7</td>\n",
       "    </tr>\n",
       "    <tr>\n",
       "      <th>gc</th>\n",
       "      <td>7</td>\n",
       "    </tr>\n",
       "    <tr>\n",
       "      <th>n64</th>\n",
       "      <td>7</td>\n",
       "    </tr>\n",
       "    <tr>\n",
       "      <th>sat</th>\n",
       "      <td>6</td>\n",
       "    </tr>\n",
       "    <tr>\n",
       "      <th>3ds</th>\n",
       "      <td>6</td>\n",
       "    </tr>\n",
       "    <tr>\n",
       "      <th>psv</th>\n",
       "      <td>6</td>\n",
       "    </tr>\n",
       "    <tr>\n",
       "      <th>wiiu</th>\n",
       "      <td>5</td>\n",
       "    </tr>\n",
       "    <tr>\n",
       "      <th>gen</th>\n",
       "      <td>5</td>\n",
       "    </tr>\n",
       "    <tr>\n",
       "      <th>ng</th>\n",
       "      <td>4</td>\n",
       "    </tr>\n",
       "    <tr>\n",
       "      <th>ps4</th>\n",
       "      <td>4</td>\n",
       "    </tr>\n",
       "    <tr>\n",
       "      <th>xone</th>\n",
       "      <td>4</td>\n",
       "    </tr>\n",
       "    <tr>\n",
       "      <th>ws</th>\n",
       "      <td>3</td>\n",
       "    </tr>\n",
       "    <tr>\n",
       "      <th>scd</th>\n",
       "      <td>2</td>\n",
       "    </tr>\n",
       "    <tr>\n",
       "      <th>3do</th>\n",
       "      <td>2</td>\n",
       "    </tr>\n",
       "    <tr>\n",
       "      <th>tg16</th>\n",
       "      <td>1</td>\n",
       "    </tr>\n",
       "    <tr>\n",
       "      <th>gg</th>\n",
       "      <td>1</td>\n",
       "    </tr>\n",
       "    <tr>\n",
       "      <th>pcfx</th>\n",
       "      <td>1</td>\n",
       "    </tr>\n",
       "  </tbody>\n",
       "</table>\n",
       "</div>"
      ],
      "text/plain": [
       "          year_of_release\n",
       "platform                 \n",
       "pc                     26\n",
       "gb                     13\n",
       "nes                    12\n",
       "x360                   12\n",
       "psp                    12\n",
       "ps2                    12\n",
       "wii                    11\n",
       "ds                     11\n",
       "ps3                    11\n",
       "2600                   10\n",
       "snes                   10\n",
       "ps                     10\n",
       "xb                      9\n",
       "gba                     8\n",
       "dc                      7\n",
       "gc                      7\n",
       "n64                     7\n",
       "sat                     6\n",
       "3ds                     6\n",
       "psv                     6\n",
       "wiiu                    5\n",
       "gen                     5\n",
       "ng                      4\n",
       "ps4                     4\n",
       "xone                    4\n",
       "ws                      3\n",
       "scd                     2\n",
       "3do                     2\n",
       "tg16                    1\n",
       "gg                      1\n",
       "pcfx                    1"
      ]
     },
     "execution_count": 33,
     "metadata": {},
     "output_type": "execute_result"
    }
   ],
   "source": [
    "temp = (data.loc[:,['year_of_release', 'platform']]\n",
    "        .drop_duplicates()\n",
    "        .pivot_table(index=['platform'], values='year_of_release', aggfunc='count')\n",
    "        .sort_values('year_of_release', ascending=False)\n",
    "       )\n",
    "temp"
   ]
  },
  {
   "cell_type": "markdown",
   "id": "631fe7fb",
   "metadata": {},
   "source": [
    "Видно, что срок выпуска игр варьируется от 1 года до 26 лет. Выведем информацию по данным и возьмем медианное значение, которое не будет подвержено сильным выбросам."
   ]
  },
  {
   "cell_type": "code",
   "execution_count": 34,
   "id": "07aec085",
   "metadata": {},
   "outputs": [
    {
     "data": {
      "text/html": [
       "<div>\n",
       "<style scoped>\n",
       "    .dataframe tbody tr th:only-of-type {\n",
       "        vertical-align: middle;\n",
       "    }\n",
       "\n",
       "    .dataframe tbody tr th {\n",
       "        vertical-align: top;\n",
       "    }\n",
       "\n",
       "    .dataframe thead th {\n",
       "        text-align: right;\n",
       "    }\n",
       "</style>\n",
       "<table border=\"1\" class=\"dataframe\">\n",
       "  <thead>\n",
       "    <tr style=\"text-align: right;\">\n",
       "      <th></th>\n",
       "      <th>year_of_release</th>\n",
       "    </tr>\n",
       "  </thead>\n",
       "  <tbody>\n",
       "    <tr>\n",
       "      <th>count</th>\n",
       "      <td>31.000000</td>\n",
       "    </tr>\n",
       "    <tr>\n",
       "      <th>mean</th>\n",
       "      <td>7.677419</td>\n",
       "    </tr>\n",
       "    <tr>\n",
       "      <th>std</th>\n",
       "      <td>5.081910</td>\n",
       "    </tr>\n",
       "    <tr>\n",
       "      <th>min</th>\n",
       "      <td>1.000000</td>\n",
       "    </tr>\n",
       "    <tr>\n",
       "      <th>25%</th>\n",
       "      <td>4.000000</td>\n",
       "    </tr>\n",
       "    <tr>\n",
       "      <th>50%</th>\n",
       "      <td>7.000000</td>\n",
       "    </tr>\n",
       "    <tr>\n",
       "      <th>75%</th>\n",
       "      <td>11.000000</td>\n",
       "    </tr>\n",
       "    <tr>\n",
       "      <th>max</th>\n",
       "      <td>26.000000</td>\n",
       "    </tr>\n",
       "  </tbody>\n",
       "</table>\n",
       "</div>"
      ],
      "text/plain": [
       "       year_of_release\n",
       "count        31.000000\n",
       "mean          7.677419\n",
       "std           5.081910\n",
       "min           1.000000\n",
       "25%           4.000000\n",
       "50%           7.000000\n",
       "75%          11.000000\n",
       "max          26.000000"
      ]
     },
     "execution_count": 34,
     "metadata": {},
     "output_type": "execute_result"
    }
   ],
   "source": [
    "temp.describe()"
   ]
  },
  {
   "cell_type": "markdown",
   "id": "4f36d8de",
   "metadata": {},
   "source": [
    "В данном случае среднее и медиана не сильно различаются, можно сказать, что в среднем срок жизни платформы составляет 7-8 лет."
   ]
  },
  {
   "cell_type": "markdown",
   "id": "0837eb59",
   "metadata": {},
   "source": [
    "<a id='9-bullet'></a>\n",
    "### Отбор данных за актуальный период- определение периода, данные за который помогут  прогноз на 2017 год"
   ]
  },
  {
   "cell_type": "markdown",
   "id": "822e1c01",
   "metadata": {},
   "source": [
    "Из графика объема продаж по годам отчетливо виден ниспадающий тренд, начавшийся в 2013 году, можно предположить, что от количественных показателей продаж компании перешли к качетсвенным- не продавать как можно больше, а как можно лучше.с 2013 года Доля PS4 на рынке растет и имеет тренд к увеличению влияния на рынок, доля х360 к 2016 году снижается, как и 3 DS.\n",
    "\n",
    "Таким образом считаю корректным взять для прогноза на 2017 года период с 2013-2016 годы."
   ]
  },
  {
   "cell_type": "markdown",
   "id": "e1d184ed",
   "metadata": {},
   "source": [
    "Сделаем выборку из данных за период 2013-2016 годы."
   ]
  },
  {
   "cell_type": "code",
   "execution_count": 35,
   "id": "c6144b02",
   "metadata": {},
   "outputs": [
    {
     "data": {
      "image/png": "[encoded data removed]",
      "text/plain": [
       "<Figure size 1500x600 with 1 Axes>"
      ]
     },
     "metadata": {},
     "output_type": "display_data"
    }
   ],
   "source": [
    "timeseries_actual = timeseries_actual.query('year_of_release >= 2013')\n",
    "timeseries_actual.plot( kind='bar', figsize=(15, 6), stacked=True)\n",
    "plt.title('Объем продаж по годам')\n",
    "plt.xlabel('год выпуска')\n",
    "plt.ylabel('объем продаж')\n",
    "plt.show()"
   ]
  },
  {
   "cell_type": "markdown",
   "id": "8892e2a9",
   "metadata": {},
   "source": [
    "\n",
    "Как было сказано выше, в 2016 году активно влияет на рынок платформа PS4, тогда как лидеры по продажам 2013 года: PS3 и X360, — к 2015-2016 г. уже исчерпали свой коммерческий ресурс."
   ]
  },
  {
   "cell_type": "markdown",
   "id": "12aa0d0d",
   "metadata": {},
   "source": [
    "<a id='10-bullet'></a>\n",
    "### Исследование глобальных продаж всех игр по платформам"
   ]
  },
  {
   "cell_type": "code",
   "execution_count": 36,
   "id": "21217ec8",
   "metadata": {},
   "outputs": [],
   "source": [
    "actual_data = data.query('year_of_release >= 2013')"
   ]
  },
  {
   "cell_type": "code",
   "execution_count": 37,
   "id": "926945f7",
   "metadata": {},
   "outputs": [
    {
     "data": {
      "text/html": [
       "<div>\n",
       "<style scoped>\n",
       "    .dataframe tbody tr th:only-of-type {\n",
       "        vertical-align: middle;\n",
       "    }\n",
       "\n",
       "    .dataframe tbody tr th {\n",
       "        vertical-align: top;\n",
       "    }\n",
       "\n",
       "    .dataframe thead th {\n",
       "        text-align: right;\n",
       "    }\n",
       "</style>\n",
       "<table border=\"1\" class=\"dataframe\">\n",
       "  <thead>\n",
       "    <tr style=\"text-align: right;\">\n",
       "      <th></th>\n",
       "      <th>total_sales</th>\n",
       "    </tr>\n",
       "    <tr>\n",
       "      <th>platform</th>\n",
       "      <th></th>\n",
       "    </tr>\n",
       "  </thead>\n",
       "  <tbody>\n",
       "    <tr>\n",
       "      <th>ps4</th>\n",
       "      <td>314.14</td>\n",
       "    </tr>\n",
       "    <tr>\n",
       "      <th>ps3</th>\n",
       "      <td>181.43</td>\n",
       "    </tr>\n",
       "    <tr>\n",
       "      <th>xone</th>\n",
       "      <td>159.32</td>\n",
       "    </tr>\n",
       "    <tr>\n",
       "      <th>3ds</th>\n",
       "      <td>143.25</td>\n",
       "    </tr>\n",
       "    <tr>\n",
       "      <th>x360</th>\n",
       "      <td>136.80</td>\n",
       "    </tr>\n",
       "    <tr>\n",
       "      <th>wiiu</th>\n",
       "      <td>64.63</td>\n",
       "    </tr>\n",
       "    <tr>\n",
       "      <th>pc</th>\n",
       "      <td>39.43</td>\n",
       "    </tr>\n",
       "    <tr>\n",
       "      <th>psv</th>\n",
       "      <td>32.99</td>\n",
       "    </tr>\n",
       "    <tr>\n",
       "      <th>wii</th>\n",
       "      <td>13.66</td>\n",
       "    </tr>\n",
       "    <tr>\n",
       "      <th>psp</th>\n",
       "      <td>3.50</td>\n",
       "    </tr>\n",
       "    <tr>\n",
       "      <th>ds</th>\n",
       "      <td>1.54</td>\n",
       "    </tr>\n",
       "  </tbody>\n",
       "</table>\n",
       "</div>"
      ],
      "text/plain": [
       "          total_sales\n",
       "platform             \n",
       "ps4            314.14\n",
       "ps3            181.43\n",
       "xone           159.32\n",
       "3ds            143.25\n",
       "x360           136.80\n",
       "wiiu            64.63\n",
       "pc              39.43\n",
       "psv             32.99\n",
       "wii             13.66\n",
       "psp              3.50\n",
       "ds               1.54"
      ]
     },
     "execution_count": 37,
     "metadata": {},
     "output_type": "execute_result"
    }
   ],
   "source": [
    "actual_data.pivot_table(index='platform', values='total_sales', aggfunc='sum')\\\n",
    ".sort_values('total_sales', ascending=False)"
   ]
  },
  {
   "cell_type": "markdown",
   "id": "e15064ad",
   "metadata": {},
   "source": [
    "<a id='11-bullet'></a>\n",
    "### Построение графика «ящик с усами» по глобальным продажам игр в разбивке по платформам"
   ]
  },
  {
   "cell_type": "code",
   "execution_count": 38,
   "id": "245cdf6e",
   "metadata": {},
   "outputs": [
    {
     "data": {
      "image/png": "[encoded data removed]",
      "text/plain": [
       "<Figure size 1500x1000 with 1 Axes>"
      ]
     },
     "metadata": {},
     "output_type": "display_data"
    }
   ],
   "source": [
    "plt.figure(figsize=(15, 10))\n",
    "sns.boxplot(data=actual_data, x='platform', y='total_sales')\n",
    "__ = plt.ylim(0, 3)"
   ]
  },
  {
   "cell_type": "markdown",
   "id": "94666d01",
   "metadata": {},
   "source": [
    "Из первого ящика с усами видно, что \"ящики\" видны плохо и делать точные выводы и сравнения -затруднительно, зато видно, что у полвовины платформ имеются серьезные выбросы по значениям.\n",
    "Изменим масштаб ящика с усами, чтобы расммотреть значения медиан."
   ]
  },
  {
   "cell_type": "code",
   "execution_count": 39,
   "id": "ba92b340",
   "metadata": {},
   "outputs": [
    {
     "data": {
      "image/png": "[encoded data removed]",
      "text/plain": [
       "<Figure size 1500x1000 with 1 Axes>"
      ]
     },
     "metadata": {},
     "output_type": "display_data"
    }
   ],
   "source": [
    "plt.figure(figsize=(15, 10))\n",
    "sns.boxplot(data=actual_data, x='platform', y='total_sales')\n",
    "__ = plt.ylim(0, 0.9)"
   ]
  },
  {
   "cell_type": "code",
   "execution_count": 40,
   "id": "a9d0addc",
   "metadata": {},
   "outputs": [
    {
     "data": {
      "text/html": [
       "<div>\n",
       "<style scoped>\n",
       "    .dataframe tbody tr th:only-of-type {\n",
       "        vertical-align: middle;\n",
       "    }\n",
       "\n",
       "    .dataframe tbody tr th {\n",
       "        vertical-align: top;\n",
       "    }\n",
       "\n",
       "    .dataframe thead th {\n",
       "        text-align: right;\n",
       "    }\n",
       "</style>\n",
       "<table border=\"1\" class=\"dataframe\">\n",
       "  <thead>\n",
       "    <tr style=\"text-align: right;\">\n",
       "      <th></th>\n",
       "      <th>count</th>\n",
       "      <th>mean</th>\n",
       "      <th>std</th>\n",
       "      <th>min</th>\n",
       "      <th>25%</th>\n",
       "      <th>50%</th>\n",
       "      <th>75%</th>\n",
       "      <th>max</th>\n",
       "    </tr>\n",
       "    <tr>\n",
       "      <th>platform</th>\n",
       "      <th></th>\n",
       "      <th></th>\n",
       "      <th></th>\n",
       "      <th></th>\n",
       "      <th></th>\n",
       "      <th></th>\n",
       "      <th></th>\n",
       "      <th></th>\n",
       "    </tr>\n",
       "  </thead>\n",
       "  <tbody>\n",
       "    <tr>\n",
       "      <th>x360</th>\n",
       "      <td>186.0</td>\n",
       "      <td>0.735484</td>\n",
       "      <td>1.663275</td>\n",
       "      <td>0.01</td>\n",
       "      <td>0.0800</td>\n",
       "      <td>0.265</td>\n",
       "      <td>0.7950</td>\n",
       "      <td>16.27</td>\n",
       "    </tr>\n",
       "    <tr>\n",
       "      <th>xone</th>\n",
       "      <td>247.0</td>\n",
       "      <td>0.645020</td>\n",
       "      <td>1.036139</td>\n",
       "      <td>0.01</td>\n",
       "      <td>0.0600</td>\n",
       "      <td>0.220</td>\n",
       "      <td>0.6850</td>\n",
       "      <td>7.39</td>\n",
       "    </tr>\n",
       "    <tr>\n",
       "      <th>ps4</th>\n",
       "      <td>392.0</td>\n",
       "      <td>0.801378</td>\n",
       "      <td>1.609456</td>\n",
       "      <td>0.01</td>\n",
       "      <td>0.0600</td>\n",
       "      <td>0.200</td>\n",
       "      <td>0.7300</td>\n",
       "      <td>14.63</td>\n",
       "    </tr>\n",
       "    <tr>\n",
       "      <th>wiiu</th>\n",
       "      <td>115.0</td>\n",
       "      <td>0.562000</td>\n",
       "      <td>1.038778</td>\n",
       "      <td>0.01</td>\n",
       "      <td>0.0600</td>\n",
       "      <td>0.200</td>\n",
       "      <td>0.5950</td>\n",
       "      <td>7.09</td>\n",
       "    </tr>\n",
       "    <tr>\n",
       "      <th>wii</th>\n",
       "      <td>23.0</td>\n",
       "      <td>0.593913</td>\n",
       "      <td>0.915432</td>\n",
       "      <td>0.01</td>\n",
       "      <td>0.0450</td>\n",
       "      <td>0.180</td>\n",
       "      <td>0.7550</td>\n",
       "      <td>3.58</td>\n",
       "    </tr>\n",
       "    <tr>\n",
       "      <th>ds</th>\n",
       "      <td>8.0</td>\n",
       "      <td>0.192500</td>\n",
       "      <td>0.172026</td>\n",
       "      <td>0.03</td>\n",
       "      <td>0.0675</td>\n",
       "      <td>0.150</td>\n",
       "      <td>0.2525</td>\n",
       "      <td>0.51</td>\n",
       "    </tr>\n",
       "    <tr>\n",
       "      <th>ps3</th>\n",
       "      <td>345.0</td>\n",
       "      <td>0.525884</td>\n",
       "      <td>1.451939</td>\n",
       "      <td>0.01</td>\n",
       "      <td>0.0400</td>\n",
       "      <td>0.150</td>\n",
       "      <td>0.5100</td>\n",
       "      <td>21.05</td>\n",
       "    </tr>\n",
       "    <tr>\n",
       "      <th>3ds</th>\n",
       "      <td>303.0</td>\n",
       "      <td>0.472772</td>\n",
       "      <td>1.381347</td>\n",
       "      <td>0.01</td>\n",
       "      <td>0.0400</td>\n",
       "      <td>0.090</td>\n",
       "      <td>0.2800</td>\n",
       "      <td>14.60</td>\n",
       "    </tr>\n",
       "    <tr>\n",
       "      <th>pc</th>\n",
       "      <td>189.0</td>\n",
       "      <td>0.208624</td>\n",
       "      <td>0.352304</td>\n",
       "      <td>0.01</td>\n",
       "      <td>0.0300</td>\n",
       "      <td>0.080</td>\n",
       "      <td>0.2300</td>\n",
       "      <td>3.05</td>\n",
       "    </tr>\n",
       "    <tr>\n",
       "      <th>psv</th>\n",
       "      <td>358.0</td>\n",
       "      <td>0.092151</td>\n",
       "      <td>0.153816</td>\n",
       "      <td>0.01</td>\n",
       "      <td>0.0200</td>\n",
       "      <td>0.040</td>\n",
       "      <td>0.1100</td>\n",
       "      <td>1.96</td>\n",
       "    </tr>\n",
       "    <tr>\n",
       "      <th>psp</th>\n",
       "      <td>67.0</td>\n",
       "      <td>0.052239</td>\n",
       "      <td>0.059768</td>\n",
       "      <td>0.01</td>\n",
       "      <td>0.0150</td>\n",
       "      <td>0.020</td>\n",
       "      <td>0.0700</td>\n",
       "      <td>0.24</td>\n",
       "    </tr>\n",
       "  </tbody>\n",
       "</table>\n",
       "</div>"
      ],
      "text/plain": [
       "          count      mean       std   min     25%    50%     75%    max\n",
       "platform                                                               \n",
       "x360      186.0  0.735484  1.663275  0.01  0.0800  0.265  0.7950  16.27\n",
       "xone      247.0  0.645020  1.036139  0.01  0.0600  0.220  0.6850   7.39\n",
       "ps4       392.0  0.801378  1.609456  0.01  0.0600  0.200  0.7300  14.63\n",
       "wiiu      115.0  0.562000  1.038778  0.01  0.0600  0.200  0.5950   7.09\n",
       "wii        23.0  0.593913  0.915432  0.01  0.0450  0.180  0.7550   3.58\n",
       "ds          8.0  0.192500  0.172026  0.03  0.0675  0.150  0.2525   0.51\n",
       "ps3       345.0  0.525884  1.451939  0.01  0.0400  0.150  0.5100  21.05\n",
       "3ds       303.0  0.472772  1.381347  0.01  0.0400  0.090  0.2800  14.60\n",
       "pc        189.0  0.208624  0.352304  0.01  0.0300  0.080  0.2300   3.05\n",
       "psv       358.0  0.092151  0.153816  0.01  0.0200  0.040  0.1100   1.96\n",
       "psp        67.0  0.052239  0.059768  0.01  0.0150  0.020  0.0700   0.24"
      ]
     },
     "execution_count": 40,
     "metadata": {},
     "output_type": "execute_result"
    }
   ],
   "source": [
    "actual_data.groupby('platform')['total_sales'].describe().sort_values('50%', ascending=False)"
   ]
  },
  {
   "cell_type": "markdown",
   "id": "0e92acb0",
   "metadata": {},
   "source": [
    "- Исходя из графиков видно, что медиана  у всех платформ расположена на разных уровнях.\n",
    "- Самые высокие медианные продажи у X360,XOne6, Wiiu и PS4, затем  Wii,PS3, DS, PC и 3DS,PSVи PSP на последнем месте.\n",
    "- Положение Xbox One и PlayStation 4 можно объяснить тем, что данные приставки позднее остальных вышли на рынки. Часть стран увидела их в конце 2013, часть только во второй половине 2014.\n",
    "- ПК на данном промежутке времени отошли на второй план, уступив место приставкам."
   ]
  },
  {
   "cell_type": "markdown",
   "id": "2e2dba80",
   "metadata": {},
   "source": [
    " <a id='12-bullet'></a>\n",
    " ### Влияние отзывов пользователей и критиков на продажи игр для PS4"
   ]
  },
  {
   "cell_type": "markdown",
   "id": "a6032f0a",
   "metadata": {},
   "source": [
    "Рассмотрим влияние отзывов пользователей и критиков на продажи игр на примере платформы PS4 - лидера по продажам в период 2013-2016 г."
   ]
  },
  {
   "cell_type": "code",
   "execution_count": 41,
   "id": "5ed0cfa1",
   "metadata": {},
   "outputs": [
    {
     "data": {
      "text/html": [
       "<div>\n",
       "<style scoped>\n",
       "    .dataframe tbody tr th:only-of-type {\n",
       "        vertical-align: middle;\n",
       "    }\n",
       "\n",
       "    .dataframe tbody tr th {\n",
       "        vertical-align: top;\n",
       "    }\n",
       "\n",
       "    .dataframe thead th {\n",
       "        text-align: right;\n",
       "    }\n",
       "</style>\n",
       "<table border=\"1\" class=\"dataframe\">\n",
       "  <thead>\n",
       "    <tr style=\"text-align: right;\">\n",
       "      <th></th>\n",
       "      <th>name</th>\n",
       "      <th>platform</th>\n",
       "      <th>year_of_release</th>\n",
       "      <th>genre</th>\n",
       "      <th>na_sales</th>\n",
       "      <th>eu_sales</th>\n",
       "      <th>jp_sales</th>\n",
       "      <th>other_sales</th>\n",
       "      <th>critic_score</th>\n",
       "      <th>user_score</th>\n",
       "      <th>rating</th>\n",
       "      <th>total_sales</th>\n",
       "    </tr>\n",
       "  </thead>\n",
       "  <tbody>\n",
       "    <tr>\n",
       "      <th>42</th>\n",
       "      <td>grand theft auto v</td>\n",
       "      <td>ps4</td>\n",
       "      <td>2014</td>\n",
       "      <td>Action</td>\n",
       "      <td>3.96</td>\n",
       "      <td>6.31</td>\n",
       "      <td>0.38</td>\n",
       "      <td>1.97</td>\n",
       "      <td>97.0</td>\n",
       "      <td>8.3</td>\n",
       "      <td>M</td>\n",
       "      <td>12.62</td>\n",
       "    </tr>\n",
       "    <tr>\n",
       "      <th>77</th>\n",
       "      <td>fifa 16</td>\n",
       "      <td>ps4</td>\n",
       "      <td>2015</td>\n",
       "      <td>Sports</td>\n",
       "      <td>1.12</td>\n",
       "      <td>6.12</td>\n",
       "      <td>0.06</td>\n",
       "      <td>1.28</td>\n",
       "      <td>82.0</td>\n",
       "      <td>4.3</td>\n",
       "      <td>E</td>\n",
       "      <td>8.58</td>\n",
       "    </tr>\n",
       "    <tr>\n",
       "      <th>92</th>\n",
       "      <td>call of duty: advanced warfare</td>\n",
       "      <td>ps4</td>\n",
       "      <td>2014</td>\n",
       "      <td>Shooter</td>\n",
       "      <td>2.81</td>\n",
       "      <td>3.48</td>\n",
       "      <td>0.14</td>\n",
       "      <td>1.23</td>\n",
       "      <td>83.0</td>\n",
       "      <td>5.7</td>\n",
       "      <td>M</td>\n",
       "      <td>7.66</td>\n",
       "    </tr>\n",
       "    <tr>\n",
       "      <th>94</th>\n",
       "      <td>fifa 17</td>\n",
       "      <td>ps4</td>\n",
       "      <td>2016</td>\n",
       "      <td>Sports</td>\n",
       "      <td>0.66</td>\n",
       "      <td>5.75</td>\n",
       "      <td>0.08</td>\n",
       "      <td>1.11</td>\n",
       "      <td>85.0</td>\n",
       "      <td>5.0</td>\n",
       "      <td>E</td>\n",
       "      <td>7.60</td>\n",
       "    </tr>\n",
       "    <tr>\n",
       "      <th>105</th>\n",
       "      <td>fallout 4</td>\n",
       "      <td>ps4</td>\n",
       "      <td>2015</td>\n",
       "      <td>Role-Playing</td>\n",
       "      <td>2.53</td>\n",
       "      <td>3.27</td>\n",
       "      <td>0.24</td>\n",
       "      <td>1.13</td>\n",
       "      <td>87.0</td>\n",
       "      <td>6.5</td>\n",
       "      <td>M</td>\n",
       "      <td>7.17</td>\n",
       "    </tr>\n",
       "  </tbody>\n",
       "</table>\n",
       "</div>"
      ],
      "text/plain": [
       "                               name platform  year_of_release         genre  \\\n",
       "42               grand theft auto v      ps4             2014        Action   \n",
       "77                          fifa 16      ps4             2015        Sports   \n",
       "92   call of duty: advanced warfare      ps4             2014       Shooter   \n",
       "94                          fifa 17      ps4             2016        Sports   \n",
       "105                       fallout 4      ps4             2015  Role-Playing   \n",
       "\n",
       "     na_sales  eu_sales  jp_sales  other_sales  critic_score  user_score  \\\n",
       "42       3.96      6.31      0.38         1.97          97.0         8.3   \n",
       "77       1.12      6.12      0.06         1.28          82.0         4.3   \n",
       "92       2.81      3.48      0.14         1.23          83.0         5.7   \n",
       "94       0.66      5.75      0.08         1.11          85.0         5.0   \n",
       "105      2.53      3.27      0.24         1.13          87.0         6.5   \n",
       "\n",
       "    rating  total_sales  \n",
       "42       M        12.62  \n",
       "77       E         8.58  \n",
       "92       M         7.66  \n",
       "94       E         7.60  \n",
       "105      M         7.17  "
      ]
     },
     "metadata": {},
     "output_type": "display_data"
    }
   ],
   "source": [
    "actual_data = data.query('year_of_release >= 2013')\n",
    "#так как изначально пропуски в рейтинге критиков и пользователей мы заменяли на -1 исключим теперь их из рассмотрения\n",
    "ps4 = actual_data.query('platform == \"ps4\" and (user_score != -1) and (critic_score != -1)')\n",
    "display(ps4.head())"
   ]
  },
  {
   "cell_type": "code",
   "execution_count": 42,
   "id": "bea98e5a",
   "metadata": {},
   "outputs": [
    {
     "data": {
      "image/png": "[encoded data removed]",
      "text/plain": [
       "<Figure size 900x600 with 1 Axes>"
      ]
     },
     "metadata": {},
     "output_type": "display_data"
    },
    {
     "name": "stdout",
     "output_type": "stream",
     "text": [
      "Корреляция продаж и отзывов пользователей: -0.034 \n",
      "\n"
     ]
    }
   ],
   "source": [
    "# Зависимость продаж от отзывов пользователей\n",
    "(ps4.pivot_table(index='user_score', values='total_sales').plot(style='o', figsize=(9, 6)))\n",
    "plt.title('Зависимость продаж от отзывов пользователей')\n",
    "plt.xlabel('отзывы пользователей')\n",
    "plt.ylabel('Объем продаж')\n",
    "plt.show()\n",
    "print('Корреляция продаж и отзывов пользователей:',round((ps4['total_sales'].corr(data['user_score'])),3)\\\n",
    "      ,'\\n')"
   ]
  },
  {
   "cell_type": "code",
   "execution_count": 43,
   "id": "0777acea",
   "metadata": {},
   "outputs": [
    {
     "data": {
      "image/png": "[encoded data removed]",
      "text/plain": [
       "<Figure size 900x600 with 1 Axes>"
      ]
     },
     "metadata": {},
     "output_type": "display_data"
    },
    {
     "name": "stdout",
     "output_type": "stream",
     "text": [
      "Корреляция продаж и отзывов критиков: 0.406 \n",
      "\n"
     ]
    }
   ],
   "source": [
    "# Зависимость продаж от отзывов критиков\n",
    "(ps4.pivot_table(index='critic_score', values='total_sales').plot(style='o', figsize=(9, 6)))\n",
    "plt.title('Зависимость продаж от отзывов критиков')\n",
    "plt.xlabel('отзывы критиков')\n",
    "plt.ylabel('Объем продаж')\n",
    "plt.show()\n",
    "print('Корреляция продаж и отзывов критиков:',round((ps4['total_sales'].corr(data['critic_score'])),3),'\\n')"
   ]
  },
  {
   "cell_type": "markdown",
   "id": "67990dd8",
   "metadata": {},
   "source": [
    "Оценки критиков демонстрируют прямую, средне-слабую корреляцию с \"цифрами\" продаж. Оценки пользователей корреляции с продажами не имеют. Коэффициенты корреляции 0,406 и -0,034  соответственно."
   ]
  },
  {
   "cell_type": "markdown",
   "id": "0a8f0a6d",
   "metadata": {},
   "source": [
    "Проверим, не отличается ли эта зависимость на других платформах:"
   ]
  },
  {
   "cell_type": "code",
   "execution_count": 44,
   "id": "552c1f2d",
   "metadata": {},
   "outputs": [
    {
     "name": "stdout",
     "output_type": "stream",
     "text": [
      "Корреляция продаж и отзывов пользователей: -0.006 \n",
      "\n",
      "Корреляция продаж и отзывов критиков: 0.35 \n",
      "\n"
     ]
    }
   ],
   "source": [
    "x360 = actual_data.query('platform == \"x360\" and (user_score != -1) and (critic_score != -1)')\n",
    "print('Корреляция продаж и отзывов пользователей:',round((x360['total_sales'].corr(data['user_score'])),3),'\\n')\n",
    "print('Корреляция продаж и отзывов критиков:',round((x360['total_sales'].corr(data['critic_score'])),3),'\\n')"
   ]
  },
  {
   "cell_type": "code",
   "execution_count": 45,
   "id": "0145d3e4",
   "metadata": {},
   "outputs": [
    {
     "name": "stdout",
     "output_type": "stream",
     "text": [
      "Корреляция продаж и отзывов пользователей: -0.094 \n",
      "\n",
      "Корреляция продаж и отзывов критиков: 0.41 \n",
      "\n"
     ]
    }
   ],
   "source": [
    "xone = actual_data.query('platform == \"xone\" and (user_score != -1) and (critic_score != -1)')\n",
    "print('Корреляция продаж и отзывов пользователей:',round((xone['total_sales'].corr(data['user_score'])),3),'\\n')\n",
    "print('Корреляция продаж и отзывов критиков:',round((xone['total_sales'].corr(data['critic_score'])),3),'\\n')"
   ]
  },
  {
   "cell_type": "code",
   "execution_count": 46,
   "id": "8bc71c78",
   "metadata": {},
   "outputs": [
    {
     "name": "stdout",
     "output_type": "stream",
     "text": [
      "Корреляция продаж и отзывов пользователей: -0.094 \n",
      "\n",
      "Корреляция продаж и отзывов критиков: 0.41 \n",
      "\n"
     ]
    }
   ],
   "source": [
    "xone = actual_data.query('platform == \"xone\" and (user_score != -1) and (critic_score != -1)')\n",
    "print('Корреляция продаж и отзывов пользователей:',round((xone['total_sales'].corr(data['user_score'])),3),'\\n')\n",
    "print('Корреляция продаж и отзывов критиков:',round((xone['total_sales'].corr(data['critic_score'])),3),'\\n')"
   ]
  },
  {
   "cell_type": "code",
   "execution_count": 47,
   "id": "d5e6a1d5",
   "metadata": {},
   "outputs": [
    {
     "name": "stdout",
     "output_type": "stream",
     "text": [
      "Корреляция продаж и отзывов пользователей: 0.023 \n",
      "\n",
      "Корреляция продаж и отзывов критиков: 0.334 \n",
      "\n"
     ]
    }
   ],
   "source": [
    "ps3 = actual_data.query('platform == \"ps3\" and (user_score != -1) and (critic_score != -1)')\n",
    "print('Корреляция продаж и отзывов пользователей:',round((ps3['total_sales'].corr(data['user_score'])),3),'\\n')\n",
    "print('Корреляция продаж и отзывов критиков:',round((ps3['total_sales'].corr(data['critic_score'])),3),'\\n')"
   ]
  },
  {
   "cell_type": "markdown",
   "id": "c8b8cf05",
   "metadata": {},
   "source": [
    "**Вывод**:  Для большинства  платформ можно говорить о средне выраженной линейной зависимости между отзывами критиков и продажами, в то время как линейной зависимсоти между продажами и  отзывами пользователей не выявлено."
   ]
  },
  {
   "cell_type": "markdown",
   "id": "328508d6",
   "metadata": {},
   "source": [
    "<a id='13-bullet'></a>\n",
    "### Распределение игр по жанрам:"
   ]
  },
  {
   "cell_type": "code",
   "execution_count": 48,
   "id": "1148607e",
   "metadata": {},
   "outputs": [
    {
     "data": {
      "text/html": [
       "<div>\n",
       "<style scoped>\n",
       "    .dataframe tbody tr th:only-of-type {\n",
       "        vertical-align: middle;\n",
       "    }\n",
       "\n",
       "    .dataframe tbody tr th {\n",
       "        vertical-align: top;\n",
       "    }\n",
       "\n",
       "    .dataframe thead th {\n",
       "        text-align: right;\n",
       "    }\n",
       "</style>\n",
       "<table border=\"1\" class=\"dataframe\">\n",
       "  <thead>\n",
       "    <tr style=\"text-align: right;\">\n",
       "      <th></th>\n",
       "      <th>total_sales</th>\n",
       "      <th>ratio</th>\n",
       "    </tr>\n",
       "    <tr>\n",
       "      <th>genre</th>\n",
       "      <th></th>\n",
       "      <th></th>\n",
       "    </tr>\n",
       "  </thead>\n",
       "  <tbody>\n",
       "    <tr>\n",
       "      <th>Action</th>\n",
       "      <td>321.87</td>\n",
       "      <td>29.51</td>\n",
       "    </tr>\n",
       "    <tr>\n",
       "      <th>Shooter</th>\n",
       "      <td>232.98</td>\n",
       "      <td>21.36</td>\n",
       "    </tr>\n",
       "    <tr>\n",
       "      <th>Sports</th>\n",
       "      <td>150.65</td>\n",
       "      <td>13.81</td>\n",
       "    </tr>\n",
       "    <tr>\n",
       "      <th>Role-Playing</th>\n",
       "      <td>145.89</td>\n",
       "      <td>13.38</td>\n",
       "    </tr>\n",
       "    <tr>\n",
       "      <th>Misc</th>\n",
       "      <td>62.82</td>\n",
       "      <td>5.76</td>\n",
       "    </tr>\n",
       "    <tr>\n",
       "      <th>Platform</th>\n",
       "      <td>42.63</td>\n",
       "      <td>3.91</td>\n",
       "    </tr>\n",
       "    <tr>\n",
       "      <th>Racing</th>\n",
       "      <td>39.89</td>\n",
       "      <td>3.66</td>\n",
       "    </tr>\n",
       "    <tr>\n",
       "      <th>Fighting</th>\n",
       "      <td>35.31</td>\n",
       "      <td>3.24</td>\n",
       "    </tr>\n",
       "    <tr>\n",
       "      <th>Adventure</th>\n",
       "      <td>23.64</td>\n",
       "      <td>2.17</td>\n",
       "    </tr>\n",
       "    <tr>\n",
       "      <th>Simulation</th>\n",
       "      <td>21.76</td>\n",
       "      <td>2.00</td>\n",
       "    </tr>\n",
       "    <tr>\n",
       "      <th>Strategy</th>\n",
       "      <td>10.08</td>\n",
       "      <td>0.92</td>\n",
       "    </tr>\n",
       "    <tr>\n",
       "      <th>Puzzle</th>\n",
       "      <td>3.17</td>\n",
       "      <td>0.29</td>\n",
       "    </tr>\n",
       "  </tbody>\n",
       "</table>\n",
       "</div>"
      ],
      "text/plain": [
       "              total_sales  ratio\n",
       "genre                           \n",
       "Action             321.87  29.51\n",
       "Shooter            232.98  21.36\n",
       "Sports             150.65  13.81\n",
       "Role-Playing       145.89  13.38\n",
       "Misc                62.82   5.76\n",
       "Platform            42.63   3.91\n",
       "Racing              39.89   3.66\n",
       "Fighting            35.31   3.24\n",
       "Adventure           23.64   2.17\n",
       "Simulation          21.76   2.00\n",
       "Strategy            10.08   0.92\n",
       "Puzzle               3.17   0.29"
      ]
     },
     "execution_count": 48,
     "metadata": {},
     "output_type": "execute_result"
    }
   ],
   "source": [
    "genre_sales = actual_data.pivot_table(index='genre', values='total_sales', aggfunc='sum')\n",
    "genre_sales['ratio'] = round(genre_sales['total_sales'] / genre_sales['total_sales'].sum()*100, 2)\n",
    "genre_sales.sort_values('total_sales', ascending=False)"
   ]
  },
  {
   "cell_type": "code",
   "execution_count": 49,
   "id": "04af3d76",
   "metadata": {},
   "outputs": [
    {
     "data": {
      "image/png": "[encoded data removed]",
      "text/plain": [
       "<Figure size 1020x600 with 1 Axes>"
      ]
     },
     "metadata": {},
     "output_type": "display_data"
    }
   ],
   "source": [
    "sns.catplot(x='genre', y='total_sales', kind=\"box\", data=actual_data,height=6, aspect=1.7)\n",
    "_ = plt.ylim(0, 3)"
   ]
  },
  {
   "cell_type": "code",
   "execution_count": 50,
   "id": "02b0a05c",
   "metadata": {},
   "outputs": [
    {
     "data": {
      "text/html": [
       "<div>\n",
       "<style scoped>\n",
       "    .dataframe tbody tr th:only-of-type {\n",
       "        vertical-align: middle;\n",
       "    }\n",
       "\n",
       "    .dataframe tbody tr th {\n",
       "        vertical-align: top;\n",
       "    }\n",
       "\n",
       "    .dataframe thead th {\n",
       "        text-align: right;\n",
       "    }\n",
       "</style>\n",
       "<table border=\"1\" class=\"dataframe\">\n",
       "  <thead>\n",
       "    <tr style=\"text-align: right;\">\n",
       "      <th></th>\n",
       "      <th>count</th>\n",
       "      <th>mean</th>\n",
       "      <th>std</th>\n",
       "      <th>min</th>\n",
       "      <th>25%</th>\n",
       "      <th>50%</th>\n",
       "      <th>75%</th>\n",
       "      <th>max</th>\n",
       "    </tr>\n",
       "    <tr>\n",
       "      <th>genre</th>\n",
       "      <th></th>\n",
       "      <th></th>\n",
       "      <th></th>\n",
       "      <th></th>\n",
       "      <th></th>\n",
       "      <th></th>\n",
       "      <th></th>\n",
       "      <th></th>\n",
       "    </tr>\n",
       "  </thead>\n",
       "  <tbody>\n",
       "    <tr>\n",
       "      <th>Shooter</th>\n",
       "      <td>187.0</td>\n",
       "      <td>1.245882</td>\n",
       "      <td>2.014107</td>\n",
       "      <td>0.01</td>\n",
       "      <td>0.14</td>\n",
       "      <td>0.450</td>\n",
       "      <td>1.4250</td>\n",
       "      <td>14.63</td>\n",
       "    </tr>\n",
       "    <tr>\n",
       "      <th>Sports</th>\n",
       "      <td>214.0</td>\n",
       "      <td>0.703972</td>\n",
       "      <td>1.219237</td>\n",
       "      <td>0.01</td>\n",
       "      <td>0.07</td>\n",
       "      <td>0.240</td>\n",
       "      <td>0.7650</td>\n",
       "      <td>8.58</td>\n",
       "    </tr>\n",
       "    <tr>\n",
       "      <th>Platform</th>\n",
       "      <td>74.0</td>\n",
       "      <td>0.576081</td>\n",
       "      <td>0.806808</td>\n",
       "      <td>0.01</td>\n",
       "      <td>0.09</td>\n",
       "      <td>0.225</td>\n",
       "      <td>0.6275</td>\n",
       "      <td>4.32</td>\n",
       "    </tr>\n",
       "    <tr>\n",
       "      <th>Role-Playing</th>\n",
       "      <td>292.0</td>\n",
       "      <td>0.499623</td>\n",
       "      <td>1.353164</td>\n",
       "      <td>0.01</td>\n",
       "      <td>0.06</td>\n",
       "      <td>0.125</td>\n",
       "      <td>0.3825</td>\n",
       "      <td>14.60</td>\n",
       "    </tr>\n",
       "    <tr>\n",
       "      <th>Fighting</th>\n",
       "      <td>80.0</td>\n",
       "      <td>0.441375</td>\n",
       "      <td>1.048883</td>\n",
       "      <td>0.01</td>\n",
       "      <td>0.06</td>\n",
       "      <td>0.125</td>\n",
       "      <td>0.3225</td>\n",
       "      <td>7.55</td>\n",
       "    </tr>\n",
       "    <tr>\n",
       "      <th>Racing</th>\n",
       "      <td>85.0</td>\n",
       "      <td>0.469294</td>\n",
       "      <td>0.964101</td>\n",
       "      <td>0.01</td>\n",
       "      <td>0.05</td>\n",
       "      <td>0.120</td>\n",
       "      <td>0.3800</td>\n",
       "      <td>7.09</td>\n",
       "    </tr>\n",
       "    <tr>\n",
       "      <th>Action</th>\n",
       "      <td>766.0</td>\n",
       "      <td>0.420196</td>\n",
       "      <td>1.253909</td>\n",
       "      <td>0.01</td>\n",
       "      <td>0.03</td>\n",
       "      <td>0.110</td>\n",
       "      <td>0.3375</td>\n",
       "      <td>21.05</td>\n",
       "    </tr>\n",
       "    <tr>\n",
       "      <th>Simulation</th>\n",
       "      <td>62.0</td>\n",
       "      <td>0.350968</td>\n",
       "      <td>0.849163</td>\n",
       "      <td>0.01</td>\n",
       "      <td>0.03</td>\n",
       "      <td>0.100</td>\n",
       "      <td>0.2950</td>\n",
       "      <td>5.22</td>\n",
       "    </tr>\n",
       "    <tr>\n",
       "      <th>Misc</th>\n",
       "      <td>155.0</td>\n",
       "      <td>0.405290</td>\n",
       "      <td>1.007985</td>\n",
       "      <td>0.01</td>\n",
       "      <td>0.03</td>\n",
       "      <td>0.100</td>\n",
       "      <td>0.3300</td>\n",
       "      <td>9.18</td>\n",
       "    </tr>\n",
       "    <tr>\n",
       "      <th>Strategy</th>\n",
       "      <td>56.0</td>\n",
       "      <td>0.180000</td>\n",
       "      <td>0.279441</td>\n",
       "      <td>0.01</td>\n",
       "      <td>0.04</td>\n",
       "      <td>0.080</td>\n",
       "      <td>0.2325</td>\n",
       "      <td>1.67</td>\n",
       "    </tr>\n",
       "    <tr>\n",
       "      <th>Puzzle</th>\n",
       "      <td>17.0</td>\n",
       "      <td>0.186471</td>\n",
       "      <td>0.325172</td>\n",
       "      <td>0.01</td>\n",
       "      <td>0.02</td>\n",
       "      <td>0.060</td>\n",
       "      <td>0.1100</td>\n",
       "      <td>1.19</td>\n",
       "    </tr>\n",
       "    <tr>\n",
       "      <th>Adventure</th>\n",
       "      <td>245.0</td>\n",
       "      <td>0.096490</td>\n",
       "      <td>0.216445</td>\n",
       "      <td>0.01</td>\n",
       "      <td>0.02</td>\n",
       "      <td>0.030</td>\n",
       "      <td>0.0700</td>\n",
       "      <td>1.66</td>\n",
       "    </tr>\n",
       "  </tbody>\n",
       "</table>\n",
       "</div>"
      ],
      "text/plain": [
       "              count      mean       std   min   25%    50%     75%    max\n",
       "genre                                                                    \n",
       "Shooter       187.0  1.245882  2.014107  0.01  0.14  0.450  1.4250  14.63\n",
       "Sports        214.0  0.703972  1.219237  0.01  0.07  0.240  0.7650   8.58\n",
       "Platform       74.0  0.576081  0.806808  0.01  0.09  0.225  0.6275   4.32\n",
       "Role-Playing  292.0  0.499623  1.353164  0.01  0.06  0.125  0.3825  14.60\n",
       "Fighting       80.0  0.441375  1.048883  0.01  0.06  0.125  0.3225   7.55\n",
       "Racing         85.0  0.469294  0.964101  0.01  0.05  0.120  0.3800   7.09\n",
       "Action        766.0  0.420196  1.253909  0.01  0.03  0.110  0.3375  21.05\n",
       "Simulation     62.0  0.350968  0.849163  0.01  0.03  0.100  0.2950   5.22\n",
       "Misc          155.0  0.405290  1.007985  0.01  0.03  0.100  0.3300   9.18\n",
       "Strategy       56.0  0.180000  0.279441  0.01  0.04  0.080  0.2325   1.67\n",
       "Puzzle         17.0  0.186471  0.325172  0.01  0.02  0.060  0.1100   1.19\n",
       "Adventure     245.0  0.096490  0.216445  0.01  0.02  0.030  0.0700   1.66"
      ]
     },
     "execution_count": 50,
     "metadata": {},
     "output_type": "execute_result"
    }
   ],
   "source": [
    "actual_data.groupby('genre')['total_sales'].describe().sort_values('50%', ascending=False)"
   ]
  },
  {
   "cell_type": "markdown",
   "id": "1eda6e15",
   "metadata": {},
   "source": [
    "Как мы видим, shooter по средним продажам лидирует по сравнению с остальными жанрами игр, а action, напротив, по этому критерию отстает, однако, является в целом популярным жанром из-за наибольшего объема продаж. Приключенческие игры и игры-головоломки (puzzle), как правило, не пользуются большой популярностью: их абсолютные и средние продажи одни из самых низких среди всех жанров."
   ]
  },
  {
   "cell_type": "markdown",
   "id": "8f8c9829",
   "metadata": {},
   "source": [
    "**Вывод по исследовательскому анализу данных:**\n",
    "\n",
    "1) Количество игр на игровые приставки и компьютеры начало расти с большой скоростью с 90х годов до 2008 года. С 2008 года, после того как массово начали создавать мобильные приложения и мобильные игры, произошел резкий спад разработок игр на игровые платформы.\n",
    "\n",
    "2) Самые популярные игровые платформы за весь период : Sony PlayStation 2(PS2), Xbox 360(X360), Sony Playstation 3(PS3), Nintendo WII(WII), Nintendo DS(DS), Sony Playstation( PS).\n",
    "\n",
    "3) Средняя жизнь игровой платформы составляет 7-8 лет.\n",
    "\n",
    "4) Больше всего было продано игр на Sony Playstation и Xbox 360.\n",
    "\n",
    "5) У анализируемых нами платформ наблюдается взаимосвязь между продажами и оценками критиков. Пользовательские же оценки почти не играют значимой роли. Это значит, что для людей мнение критиков важнее мнения других пользователей.\n",
    "\n",
    "6) Самый популярный жанр c 2013 года: 'Action'-наибольший объем продаж, самые низкие продажи у 'Puzzle'."
   ]
  },
  {
   "cell_type": "markdown",
   "id": "ed02041f",
   "metadata": {},
   "source": [
    "## Шаг 4 Портрет пользователя каждого региона¶"
   ]
  },
  {
   "cell_type": "markdown",
   "id": "60d3307b",
   "metadata": {},
   "source": [
    "<a id='14-bullet'></a>\n",
    "### Топ-5 платформ в Северной Америке, Европе и Японии:"
   ]
  },
  {
   "cell_type": "code",
   "execution_count": 51,
   "id": "3dfa7e70",
   "metadata": {},
   "outputs": [
    {
     "data": {
      "text/html": [
       "<div>\n",
       "<style scoped>\n",
       "    .dataframe tbody tr th:only-of-type {\n",
       "        vertical-align: middle;\n",
       "    }\n",
       "\n",
       "    .dataframe tbody tr th {\n",
       "        vertical-align: top;\n",
       "    }\n",
       "\n",
       "    .dataframe thead th {\n",
       "        text-align: right;\n",
       "    }\n",
       "</style>\n",
       "<table border=\"1\" class=\"dataframe\">\n",
       "  <thead>\n",
       "    <tr style=\"text-align: right;\">\n",
       "      <th></th>\n",
       "      <th>na_sales</th>\n",
       "      <th>ratio</th>\n",
       "    </tr>\n",
       "    <tr>\n",
       "      <th>platform</th>\n",
       "      <th></th>\n",
       "      <th></th>\n",
       "    </tr>\n",
       "  </thead>\n",
       "  <tbody>\n",
       "    <tr>\n",
       "      <th>ps4</th>\n",
       "      <td>108.74</td>\n",
       "      <td>28.23</td>\n",
       "    </tr>\n",
       "    <tr>\n",
       "      <th>xone</th>\n",
       "      <td>93.12</td>\n",
       "      <td>24.17</td>\n",
       "    </tr>\n",
       "    <tr>\n",
       "      <th>x360</th>\n",
       "      <td>81.66</td>\n",
       "      <td>21.20</td>\n",
       "    </tr>\n",
       "    <tr>\n",
       "      <th>ps3</th>\n",
       "      <td>63.50</td>\n",
       "      <td>16.48</td>\n",
       "    </tr>\n",
       "    <tr>\n",
       "      <th>3ds</th>\n",
       "      <td>38.20</td>\n",
       "      <td>9.92</td>\n",
       "    </tr>\n",
       "  </tbody>\n",
       "</table>\n",
       "</div>"
      ],
      "text/plain": [
       "          na_sales  ratio\n",
       "platform                 \n",
       "ps4         108.74  28.23\n",
       "xone         93.12  24.17\n",
       "x360         81.66  21.20\n",
       "ps3          63.50  16.48\n",
       "3ds          38.20   9.92"
      ]
     },
     "execution_count": 51,
     "metadata": {},
     "output_type": "execute_result"
    }
   ],
   "source": [
    "na_platform=actual_data.pivot_table(index='platform', values='na_sales', aggfunc='sum').sort_values('na_sales', ascending=False).head()\n",
    "na_platform['ratio'] = round(na_platform['na_sales'] / na_platform['na_sales'].sum()*100, 2)\n",
    "na_platform"
   ]
  },
  {
   "cell_type": "code",
   "execution_count": 52,
   "id": "c32bf50b",
   "metadata": {},
   "outputs": [
    {
     "data": {
      "image/png": "[encoded data removed]",
      "text/plain": [
       "<Figure size 1500x500 with 1 Axes>"
      ]
     },
     "metadata": {},
     "output_type": "display_data"
    }
   ],
   "source": [
    "actual_data.pivot_table(index = 'platform', values = 'na_sales', aggfunc = 'sum').sort_values(by='na_sales',ascending=False).plot(kind = 'bar', figsize=(15,5))\n",
    "plt.title('Продажи по платформам в Северной Америке')\n",
    "plt.xlabel('Платформа')\n",
    "plt.ylabel('Объем продаж')\n",
    "plt.show()"
   ]
  },
  {
   "cell_type": "markdown",
   "id": "eb6bf703",
   "metadata": {},
   "source": [
    "Пользователи Северной Америки больше всего предпочитают PS4,далее идет Xone и X360-американские консоли."
   ]
  },
  {
   "cell_type": "code",
   "execution_count": 53,
   "id": "1d70f83b",
   "metadata": {},
   "outputs": [
    {
     "data": {
      "text/html": [
       "<div>\n",
       "<style scoped>\n",
       "    .dataframe tbody tr th:only-of-type {\n",
       "        vertical-align: middle;\n",
       "    }\n",
       "\n",
       "    .dataframe tbody tr th {\n",
       "        vertical-align: top;\n",
       "    }\n",
       "\n",
       "    .dataframe thead th {\n",
       "        text-align: right;\n",
       "    }\n",
       "</style>\n",
       "<table border=\"1\" class=\"dataframe\">\n",
       "  <thead>\n",
       "    <tr style=\"text-align: right;\">\n",
       "      <th></th>\n",
       "      <th>eu_sales</th>\n",
       "      <th>ratio</th>\n",
       "    </tr>\n",
       "    <tr>\n",
       "      <th>platform</th>\n",
       "      <th></th>\n",
       "      <th></th>\n",
       "    </tr>\n",
       "  </thead>\n",
       "  <tbody>\n",
       "    <tr>\n",
       "      <th>ps4</th>\n",
       "      <td>141.09</td>\n",
       "      <td>42.25</td>\n",
       "    </tr>\n",
       "    <tr>\n",
       "      <th>ps3</th>\n",
       "      <td>67.81</td>\n",
       "      <td>20.30</td>\n",
       "    </tr>\n",
       "    <tr>\n",
       "      <th>xone</th>\n",
       "      <td>51.59</td>\n",
       "      <td>15.45</td>\n",
       "    </tr>\n",
       "    <tr>\n",
       "      <th>x360</th>\n",
       "      <td>42.52</td>\n",
       "      <td>12.73</td>\n",
       "    </tr>\n",
       "    <tr>\n",
       "      <th>3ds</th>\n",
       "      <td>30.96</td>\n",
       "      <td>9.27</td>\n",
       "    </tr>\n",
       "  </tbody>\n",
       "</table>\n",
       "</div>"
      ],
      "text/plain": [
       "          eu_sales  ratio\n",
       "platform                 \n",
       "ps4         141.09  42.25\n",
       "ps3          67.81  20.30\n",
       "xone         51.59  15.45\n",
       "x360         42.52  12.73\n",
       "3ds          30.96   9.27"
      ]
     },
     "execution_count": 53,
     "metadata": {},
     "output_type": "execute_result"
    }
   ],
   "source": [
    "eu_platform=actual_data.pivot_table(index='platform', values='eu_sales', aggfunc='sum').sort_values('eu_sales', ascending=False).head()\n",
    "eu_platform['ratio'] = round(eu_platform['eu_sales'] / eu_platform['eu_sales'].sum()*100, 2)\n",
    "eu_platform"
   ]
  },
  {
   "cell_type": "code",
   "execution_count": 54,
   "id": "c7e20d0e",
   "metadata": {},
   "outputs": [
    {
     "data": {
      "image/png": "[encoded data removed]",
      "text/plain": [
       "<Figure size 1500x500 with 1 Axes>"
      ]
     },
     "metadata": {},
     "output_type": "display_data"
    }
   ],
   "source": [
    "actual_data.pivot_table(index = 'platform', values = 'eu_sales', aggfunc = 'sum').sort_values(by='eu_sales',ascending=False).plot(kind = 'bar', figsize=(15,5))\n",
    "plt.title('Продажи по платформам в Европе')\n",
    "plt.xlabel('Платформа')\n",
    "plt.ylabel('Объем продаж')\n",
    "plt.show()"
   ]
  },
  {
   "cell_type": "markdown",
   "id": "853391d1",
   "metadata": {},
   "source": [
    "Пользователи Европы с 2013 года  больше всего предпочитают Японские  PS4 и PS3,далее идет Xone и X360-американские консоли."
   ]
  },
  {
   "cell_type": "code",
   "execution_count": 55,
   "id": "71f14634",
   "metadata": {},
   "outputs": [
    {
     "data": {
      "text/html": [
       "<div>\n",
       "<style scoped>\n",
       "    .dataframe tbody tr th:only-of-type {\n",
       "        vertical-align: middle;\n",
       "    }\n",
       "\n",
       "    .dataframe tbody tr th {\n",
       "        vertical-align: top;\n",
       "    }\n",
       "\n",
       "    .dataframe thead th {\n",
       "        text-align: right;\n",
       "    }\n",
       "</style>\n",
       "<table border=\"1\" class=\"dataframe\">\n",
       "  <thead>\n",
       "    <tr style=\"text-align: right;\">\n",
       "      <th></th>\n",
       "      <th>jp_sales</th>\n",
       "      <th>ratio</th>\n",
       "    </tr>\n",
       "    <tr>\n",
       "      <th>platform</th>\n",
       "      <th></th>\n",
       "      <th></th>\n",
       "    </tr>\n",
       "  </thead>\n",
       "  <tbody>\n",
       "    <tr>\n",
       "      <th>3ds</th>\n",
       "      <td>67.81</td>\n",
       "      <td>49.64</td>\n",
       "    </tr>\n",
       "    <tr>\n",
       "      <th>ps3</th>\n",
       "      <td>23.35</td>\n",
       "      <td>17.09</td>\n",
       "    </tr>\n",
       "    <tr>\n",
       "      <th>psv</th>\n",
       "      <td>18.59</td>\n",
       "      <td>13.61</td>\n",
       "    </tr>\n",
       "    <tr>\n",
       "      <th>ps4</th>\n",
       "      <td>15.96</td>\n",
       "      <td>11.68</td>\n",
       "    </tr>\n",
       "    <tr>\n",
       "      <th>wiiu</th>\n",
       "      <td>10.88</td>\n",
       "      <td>7.97</td>\n",
       "    </tr>\n",
       "  </tbody>\n",
       "</table>\n",
       "</div>"
      ],
      "text/plain": [
       "          jp_sales  ratio\n",
       "platform                 \n",
       "3ds          67.81  49.64\n",
       "ps3          23.35  17.09\n",
       "psv          18.59  13.61\n",
       "ps4          15.96  11.68\n",
       "wiiu         10.88   7.97"
      ]
     },
     "execution_count": 55,
     "metadata": {},
     "output_type": "execute_result"
    }
   ],
   "source": [
    "jp_platform=actual_data.pivot_table(index='platform', values='jp_sales', aggfunc='sum').sort_values('jp_sales', ascending=False).head()\n",
    "jp_platform['ratio'] = round(jp_platform['jp_sales'] / jp_platform['jp_sales'].sum()*100, 2)\n",
    "jp_platform"
   ]
  },
  {
   "cell_type": "code",
   "execution_count": 56,
   "id": "18fefe0d",
   "metadata": {},
   "outputs": [
    {
     "data": {
      "image/png": "[encoded data removed]",
      "text/plain": [
       "<Figure size 1500x500 with 1 Axes>"
      ]
     },
     "metadata": {},
     "output_type": "display_data"
    }
   ],
   "source": [
    "actual_data.pivot_table(index = 'platform', values = 'jp_sales', aggfunc = 'sum').sort_values(by='jp_sales',ascending=False).plot(kind = 'bar', figsize=(15,5))\n",
    "plt.title('Продажи по платформам в Японии')\n",
    "plt.xlabel('Платформа')\n",
    "plt.ylabel('Объем продаж')\n",
    "plt.show()"
   ]
  },
  {
   "cell_type": "markdown",
   "id": "8d865bbc",
   "metadata": {},
   "source": [
    "Пользователи Японии предпочитают с большим отрывом от остальных ( почти 50: рынка) портативные игровые системы- 3DS, это объясняется тем, что японцы очень технологически развитая нация с большой плотностью населения, квартиры маленькие, мобильность высокая, покупатели хотят играть на тех устройствах, которые легко взять с собой или не занимают много места."
   ]
  },
  {
   "cell_type": "markdown",
   "id": "db36498d",
   "metadata": {},
   "source": [
    "<a id='15-bullet'></a>\n",
    "### Самые популярные жанры (топ-5) в Северной Америке, Европе и Японии:"
   ]
  },
  {
   "cell_type": "code",
   "execution_count": 57,
   "id": "84be9550",
   "metadata": {},
   "outputs": [
    {
     "data": {
      "text/html": [
       "<div>\n",
       "<style scoped>\n",
       "    .dataframe tbody tr th:only-of-type {\n",
       "        vertical-align: middle;\n",
       "    }\n",
       "\n",
       "    .dataframe tbody tr th {\n",
       "        vertical-align: top;\n",
       "    }\n",
       "\n",
       "    .dataframe thead th {\n",
       "        text-align: right;\n",
       "    }\n",
       "</style>\n",
       "<table border=\"1\" class=\"dataframe\">\n",
       "  <thead>\n",
       "    <tr style=\"text-align: right;\">\n",
       "      <th></th>\n",
       "      <th>na_sales</th>\n",
       "      <th>ratio</th>\n",
       "    </tr>\n",
       "    <tr>\n",
       "      <th>genre</th>\n",
       "      <th></th>\n",
       "      <th></th>\n",
       "    </tr>\n",
       "  </thead>\n",
       "  <tbody>\n",
       "    <tr>\n",
       "      <th>Action</th>\n",
       "      <td>126.05</td>\n",
       "      <td>33.62</td>\n",
       "    </tr>\n",
       "    <tr>\n",
       "      <th>Shooter</th>\n",
       "      <td>109.74</td>\n",
       "      <td>29.27</td>\n",
       "    </tr>\n",
       "    <tr>\n",
       "      <th>Sports</th>\n",
       "      <td>65.27</td>\n",
       "      <td>17.41</td>\n",
       "    </tr>\n",
       "    <tr>\n",
       "      <th>Role-Playing</th>\n",
       "      <td>46.40</td>\n",
       "      <td>12.37</td>\n",
       "    </tr>\n",
       "    <tr>\n",
       "      <th>Misc</th>\n",
       "      <td>27.49</td>\n",
       "      <td>7.33</td>\n",
       "    </tr>\n",
       "  </tbody>\n",
       "</table>\n",
       "</div>"
      ],
      "text/plain": [
       "              na_sales  ratio\n",
       "genre                        \n",
       "Action          126.05  33.62\n",
       "Shooter         109.74  29.27\n",
       "Sports           65.27  17.41\n",
       "Role-Playing     46.40  12.37\n",
       "Misc             27.49   7.33"
      ]
     },
     "execution_count": 57,
     "metadata": {},
     "output_type": "execute_result"
    },
    {
     "data": {
      "image/png": "[encoded data removed]",
      "text/plain": [
       "<Figure size 1200x800 with 1 Axes>"
      ]
     },
     "metadata": {},
     "output_type": "display_data"
    }
   ],
   "source": [
    "na_genre=actual_data.pivot_table(index='genre', values='na_sales', aggfunc='sum').sort_values('na_sales', ascending=False).head()\n",
    "na_genre['ratio'] = round(na_genre['na_sales'] / na_genre['na_sales'].sum()*100, 2)\n",
    "na_genre.plot(kind='pie',figsize=(12,8), y='na_sales', autopct='%1.0f%%')\n",
    "plt.legend(loc='upper left')\n",
    "na_genre"
   ]
  },
  {
   "cell_type": "code",
   "execution_count": 58,
   "id": "3eba488e",
   "metadata": {},
   "outputs": [
    {
     "data": {
      "text/html": [
       "<div>\n",
       "<style scoped>\n",
       "    .dataframe tbody tr th:only-of-type {\n",
       "        vertical-align: middle;\n",
       "    }\n",
       "\n",
       "    .dataframe tbody tr th {\n",
       "        vertical-align: top;\n",
       "    }\n",
       "\n",
       "    .dataframe thead th {\n",
       "        text-align: right;\n",
       "    }\n",
       "</style>\n",
       "<table border=\"1\" class=\"dataframe\">\n",
       "  <thead>\n",
       "    <tr style=\"text-align: right;\">\n",
       "      <th></th>\n",
       "      <th>eu_sales</th>\n",
       "      <th>ratio</th>\n",
       "    </tr>\n",
       "    <tr>\n",
       "      <th>genre</th>\n",
       "      <th></th>\n",
       "      <th></th>\n",
       "    </tr>\n",
       "  </thead>\n",
       "  <tbody>\n",
       "    <tr>\n",
       "      <th>Action</th>\n",
       "      <td>118.13</td>\n",
       "      <td>36.50</td>\n",
       "    </tr>\n",
       "    <tr>\n",
       "      <th>Shooter</th>\n",
       "      <td>87.86</td>\n",
       "      <td>27.14</td>\n",
       "    </tr>\n",
       "    <tr>\n",
       "      <th>Sports</th>\n",
       "      <td>60.52</td>\n",
       "      <td>18.70</td>\n",
       "    </tr>\n",
       "    <tr>\n",
       "      <th>Role-Playing</th>\n",
       "      <td>36.97</td>\n",
       "      <td>11.42</td>\n",
       "    </tr>\n",
       "    <tr>\n",
       "      <th>Racing</th>\n",
       "      <td>20.19</td>\n",
       "      <td>6.24</td>\n",
       "    </tr>\n",
       "  </tbody>\n",
       "</table>\n",
       "</div>"
      ],
      "text/plain": [
       "              eu_sales  ratio\n",
       "genre                        \n",
       "Action          118.13  36.50\n",
       "Shooter          87.86  27.14\n",
       "Sports           60.52  18.70\n",
       "Role-Playing     36.97  11.42\n",
       "Racing           20.19   6.24"
      ]
     },
     "execution_count": 58,
     "metadata": {},
     "output_type": "execute_result"
    },
    {
     "data": {
      "image/png": "[encoded data removed]",
      "text/plain": [
       "<Figure size 1200x800 with 1 Axes>"
      ]
     },
     "metadata": {},
     "output_type": "display_data"
    }
   ],
   "source": [
    "eu_genre=actual_data.pivot_table(index='genre', values='eu_sales', aggfunc='sum').sort_values('eu_sales', ascending=False).head()\n",
    "eu_genre['ratio'] = round(eu_genre['eu_sales'] / eu_genre['eu_sales'].sum()*100, 2)\n",
    "eu_genre.plot(kind='pie',figsize=(12,8), y='eu_sales', autopct='%1.0f%%')\n",
    "eu_genre"
   ]
  },
  {
   "cell_type": "code",
   "execution_count": 59,
   "id": "3aa83d9a",
   "metadata": {},
   "outputs": [
    {
     "data": {
      "text/html": [
       "<div>\n",
       "<style scoped>\n",
       "    .dataframe tbody tr th:only-of-type {\n",
       "        vertical-align: middle;\n",
       "    }\n",
       "\n",
       "    .dataframe tbody tr th {\n",
       "        vertical-align: top;\n",
       "    }\n",
       "\n",
       "    .dataframe thead th {\n",
       "        text-align: right;\n",
       "    }\n",
       "</style>\n",
       "<table border=\"1\" class=\"dataframe\">\n",
       "  <thead>\n",
       "    <tr style=\"text-align: right;\">\n",
       "      <th></th>\n",
       "      <th>jp_sales</th>\n",
       "      <th>ratio</th>\n",
       "    </tr>\n",
       "    <tr>\n",
       "      <th>genre</th>\n",
       "      <th></th>\n",
       "      <th></th>\n",
       "    </tr>\n",
       "  </thead>\n",
       "  <tbody>\n",
       "    <tr>\n",
       "      <th>Role-Playing</th>\n",
       "      <td>51.04</td>\n",
       "      <td>44.39</td>\n",
       "    </tr>\n",
       "    <tr>\n",
       "      <th>Action</th>\n",
       "      <td>40.49</td>\n",
       "      <td>35.21</td>\n",
       "    </tr>\n",
       "    <tr>\n",
       "      <th>Misc</th>\n",
       "      <td>9.20</td>\n",
       "      <td>8.00</td>\n",
       "    </tr>\n",
       "    <tr>\n",
       "      <th>Fighting</th>\n",
       "      <td>7.65</td>\n",
       "      <td>6.65</td>\n",
       "    </tr>\n",
       "    <tr>\n",
       "      <th>Shooter</th>\n",
       "      <td>6.61</td>\n",
       "      <td>5.75</td>\n",
       "    </tr>\n",
       "  </tbody>\n",
       "</table>\n",
       "</div>"
      ],
      "text/plain": [
       "              jp_sales  ratio\n",
       "genre                        \n",
       "Role-Playing     51.04  44.39\n",
       "Action           40.49  35.21\n",
       "Misc              9.20   8.00\n",
       "Fighting          7.65   6.65\n",
       "Shooter           6.61   5.75"
      ]
     },
     "execution_count": 59,
     "metadata": {},
     "output_type": "execute_result"
    },
    {
     "data": {
      "image/png": "[encoded data removed]",
      "text/plain": [
       "<Figure size 1200x800 with 1 Axes>"
      ]
     },
     "metadata": {},
     "output_type": "display_data"
    }
   ],
   "source": [
    "jp_genre=actual_data.pivot_table(index='genre', values='jp_sales', aggfunc='sum').sort_values('jp_sales', ascending=False).head()\n",
    "jp_genre['ratio'] = round(jp_genre['jp_sales'] / jp_genre['jp_sales'].sum()*100, 2)\n",
    "jp_genre.plot(kind='pie',figsize=(12,8), y='jp_sales', autopct='%1.0f%%')\n",
    "jp_genre"
   ]
  },
  {
   "cell_type": "markdown",
   "id": "8f6e8390",
   "metadata": {},
   "source": [
    "**Вывод**\n",
    "\n",
    "Пользователи Европы и Северной Америки играют в целом в одни и те же консоли и игровая индустрия больше развита в домашнем уюте, поэтому популярны жанры - Action, Sports, Shooter. В японии преобладают пользователи с портативными консолями, в которые можно играть не только дома, поэтому они предпочитают жанр - Role-Playing и Action и редко играют в игры с жанром - shooter.\n"
   ]
  },
  {
   "cell_type": "markdown",
   "id": "d424c540",
   "metadata": {},
   "source": [
    "<a id='16-bullet'></a>\n",
    "### Влияние рейтинга ESRB на продажи в Северной Америке, Европе и Японии:"
   ]
  },
  {
   "cell_type": "markdown",
   "id": "2aac4e6b",
   "metadata": {},
   "source": [
    "Выведем на экран все хначения рейтингов:"
   ]
  },
  {
   "cell_type": "code",
   "execution_count": 60,
   "id": "0d416aaf",
   "metadata": {},
   "outputs": [
    {
     "data": {
      "text/plain": [
       "array(['M', 'no_rating', 'E', 'T', 'E10+'], dtype=object)"
      ]
     },
     "execution_count": 60,
     "metadata": {},
     "output_type": "execute_result"
    }
   ],
   "source": [
    "actual_data['rating'].unique()"
   ]
  },
  {
   "cell_type": "markdown",
   "id": "66bcca02",
   "metadata": {},
   "source": [
    "Рейтинги ESRB (https://www.esrb.org/ratings-guide/):\n",
    "- **E** - от 6 лет\n",
    "- **E10+** - от 10 лет\n",
    "- **T** - от 13 лет\n",
    "- **M** - от 17 лет"
   ]
  },
  {
   "cell_type": "code",
   "execution_count": 62,
   "id": "cb49468e",
   "metadata": {},
   "outputs": [
    {
     "name": "stdout",
     "output_type": "stream",
     "text": [
      "           na_sales  ratio\n",
      "rating                    \n",
      "M            165.21  37.74\n",
      "no_rating     89.42  20.43\n",
      "E             79.05  18.06\n",
      "E10+          54.24  12.39\n",
      "T             49.79  11.38\n",
      "           eu_sales  ratio\n",
      "rating                    \n",
      "M            145.32  37.05\n",
      "E             83.36  21.25\n",
      "no_rating     78.91  20.12\n",
      "E10+          42.69  10.88\n",
      "T             41.95  10.70\n",
      "           jp_sales  ratio\n",
      "rating                    \n",
      "no_rating     85.05  60.41\n",
      "T             20.59  14.63\n",
      "E             15.14  10.75\n",
      "M             14.11  10.02\n",
      "E10+           5.89   4.18\n"
     ]
    }
   ],
   "source": [
    "for column in ['na_sales', 'eu_sales', 'jp_sales']:\n",
    "    region = (actual_data.\n",
    "              pivot_table(index='rating', values=column, aggfunc='sum').\n",
    "              sort_values(column, ascending=False)\n",
    "             )\n",
    "    region['ratio'] = round(region[column] / region[column].sum()*100, 2)\n",
    "    print(region)"
   ]
  },
  {
   "cell_type": "markdown",
   "id": "4d488999",
   "metadata": {},
   "source": [
    "Европа и Северная Америка отличаются по популярности рейтингов: на Западе популярностью пользуются игры для лиц старше 17 лет, тогда как в Японии первое место по продажам принадлежит играм без рейтинга. \n",
    "Такое предпочтение может быть следствием различия менталитетов и, в частоности, приверженности покупателей японской системе оценки (CERO — японская рейтинговая организация)."
   ]
  },
  {
   "cell_type": "markdown",
   "id": "fb1a6458",
   "metadata": {},
   "source": [
    "## Шаг 5 Проверка гипотез"
   ]
  },
  {
   "cell_type": "markdown",
   "id": "5b090ecf",
   "metadata": {},
   "source": [
    "<a id='17-bullet'></a>\n",
    "### Проверим гипотезу, что пользовательские рейтинги платформ Xbox One и PC одинаковые."
   ]
  },
  {
   "cell_type": "markdown",
   "id": "f5736397",
   "metadata": {},
   "source": [
    "Тогда  гопотеза Н0-средние пользовательские рейтинги платформ Xbox One и PC равны,\n",
    "\n",
    "Н1-средние пользовательские рейтинги платформ Xbox One и PC различаются\n",
    "\n",
    "Выберу уровень значимости равный 5%.\n",
    "\n",
    "Эта гипотеза является двусторонней. Соответственно альтернативная гипотеза обратна ей. Для проверки использованы данные из двух выборок (оценок пользователей по каждой из платформ Xbox One и PC). Для оценки использован метод ttest_ind() который рассчитывает вероятность совпадения средних значений p-value. Дисперсии выборок не равны, поэтому параметр равной дисперсии equal_var == False"
   ]
  },
  {
   "cell_type": "code",
   "execution_count": 63,
   "id": "c875fa51",
   "metadata": {},
   "outputs": [
    {
     "name": "stdout",
     "output_type": "stream",
     "text": [
      "p-значение: 0.14759594013430466\n",
      "Не получилось отвергнуть нулевую гипотезу\n"
     ]
    }
   ],
   "source": [
    "# убираем значения, которые были пропусками\n",
    "actual_data = actual_data[actual_data['user_score'] != -1]\n",
    "# Выделяем выборку по двум платформам\n",
    "actual_data_xbox=actual_data[actual_data['platform'] == 'xone']\n",
    "actual_data_pc=actual_data[actual_data['platform'] == 'pc']\n",
    "# критический уровень статистической значимости\n",
    "alpha = 0.05\n",
    "# если p-value окажется меньше него - отвергнем гипотезу\n",
    "results = st.ttest_ind(actual_data_xbox['user_score'],actual_data_pc['user_score']\\\n",
    "                       ,equal_var=False)\n",
    "print('p-значение:', results.pvalue)\n",
    "if (results.pvalue < alpha):\n",
    "    print('Отвергаем нулевую гипотезу')\n",
    "else:\n",
    "    print('Не получилось отвергнуть нулевую гипотезу')"
   ]
  },
  {
   "cell_type": "code",
   "execution_count": 64,
   "id": "e31e008b",
   "metadata": {},
   "outputs": [
    {
     "data": {
      "text/html": [
       "<div>\n",
       "<style scoped>\n",
       "    .dataframe tbody tr th:only-of-type {\n",
       "        vertical-align: middle;\n",
       "    }\n",
       "\n",
       "    .dataframe tbody tr th {\n",
       "        vertical-align: top;\n",
       "    }\n",
       "\n",
       "    .dataframe thead th {\n",
       "        text-align: right;\n",
       "    }\n",
       "</style>\n",
       "<table border=\"1\" class=\"dataframe\">\n",
       "  <thead>\n",
       "    <tr style=\"text-align: right;\">\n",
       "      <th></th>\n",
       "      <th>user_score</th>\n",
       "    </tr>\n",
       "    <tr>\n",
       "      <th>platform</th>\n",
       "      <th></th>\n",
       "    </tr>\n",
       "  </thead>\n",
       "  <tbody>\n",
       "    <tr>\n",
       "      <th>pc</th>\n",
       "      <td>6.8</td>\n",
       "    </tr>\n",
       "    <tr>\n",
       "      <th>xone</th>\n",
       "      <td>6.8</td>\n",
       "    </tr>\n",
       "  </tbody>\n",
       "</table>\n",
       "</div>"
      ],
      "text/plain": [
       "          user_score\n",
       "platform            \n",
       "pc               6.8\n",
       "xone             6.8"
      ]
     },
     "execution_count": 64,
     "metadata": {},
     "output_type": "execute_result"
    }
   ],
   "source": [
    "xone_pc = actual_data.query('platform == \"xone\" or platform == \"pc\"')\n",
    "xone_pc.pivot_table(index='platform', values='user_score', aggfunc='median')"
   ]
  },
  {
   "cell_type": "markdown",
   "id": "18f800ad",
   "metadata": {},
   "source": [
    "Статистический тест показал, что **гипотезу о равенстве среднего пользовательского рейтинга для XOne и PC не получилось отвергнуть**. Если бы мы утверждали, что средние рейтинги для этих платформ различаются, мы бы допустили ошибку с вероятностью 15%."
   ]
  },
  {
   "cell_type": "markdown",
   "id": "577cc810",
   "metadata": {},
   "source": [
    "<a id='18-bullet'></a>\n",
    "### Проверим гипотезу, что пользовательские рейтинги жанров Action (англ. «действие», экшен-игры) и Sports (англ. «спортивные соревнования») разные."
   ]
  },
  {
   "cell_type": "markdown",
   "id": "fa969113",
   "metadata": {},
   "source": [
    "Тогда  гопотеза Н0-пользовательские рейтинги жанров Action (англ. «действие», экшен-игры) и Sports (англ. «спортивные соревнования») равны.\n",
    "\n",
    "Н1-пользовательские рейтинги жанров Action (англ. «действие», экшен-игры) и Sports (англ. «спортивные соревнования») различаются\n",
    "\n",
    "Выберу уровень значимости равный 5%.\n",
    "\n",
    "Для оценки использован метод ttest_ind() который рассчитывает вероятность совпадения средних значений p-value. Дисперсии выборок не равны, поэтому параметр равной дисперсии equal_var == False"
   ]
  },
  {
   "cell_type": "code",
   "execution_count": 65,
   "id": "141da6ea",
   "metadata": {},
   "outputs": [
    {
     "name": "stdout",
     "output_type": "stream",
     "text": [
      "p-значение: 1.4460039700704315e-20\n",
      "Отвергаем нулевую гипотезу\n"
     ]
    }
   ],
   "source": [
    "actual_data = actual_data[actual_data['user_score'] != -1]\n",
    "# Выделяем выборку по двум жанрам\n",
    "actual_data_action=actual_data[actual_data['genre'] == 'Action']\n",
    "actual_data_sports=actual_data[actual_data['genre'] == 'Sports']\n",
    "# критический уровень статистической значимости\n",
    "alpha = 0.05\n",
    "# если p-value окажется меньше него - отвергнем гипотезу\n",
    "results = st.ttest_ind(actual_data_action['user_score'],\\\n",
    "                       actual_data_sports['user_score'],equal_var=False)\n",
    "print('p-значение:', results.pvalue)\n",
    "if (results.pvalue < alpha):\n",
    "    print('Отвергаем нулевую гипотезу')\n",
    "else:\n",
    "    print('Не получилось отвергнуть нулевую гипотезу')"
   ]
  },
  {
   "cell_type": "code",
   "execution_count": 66,
   "id": "7df15f25",
   "metadata": {},
   "outputs": [
    {
     "data": {
      "text/html": [
       "<div>\n",
       "<style scoped>\n",
       "    .dataframe tbody tr th:only-of-type {\n",
       "        vertical-align: middle;\n",
       "    }\n",
       "\n",
       "    .dataframe tbody tr th {\n",
       "        vertical-align: top;\n",
       "    }\n",
       "\n",
       "    .dataframe thead th {\n",
       "        text-align: right;\n",
       "    }\n",
       "</style>\n",
       "<table border=\"1\" class=\"dataframe\">\n",
       "  <thead>\n",
       "    <tr style=\"text-align: right;\">\n",
       "      <th></th>\n",
       "      <th>user_score</th>\n",
       "    </tr>\n",
       "    <tr>\n",
       "      <th>genre</th>\n",
       "      <th></th>\n",
       "    </tr>\n",
       "  </thead>\n",
       "  <tbody>\n",
       "    <tr>\n",
       "      <th>Action</th>\n",
       "      <td>6.837532</td>\n",
       "    </tr>\n",
       "    <tr>\n",
       "      <th>Sports</th>\n",
       "      <td>5.238125</td>\n",
       "    </tr>\n",
       "  </tbody>\n",
       "</table>\n",
       "</div>"
      ],
      "text/plain": [
       "        user_score\n",
       "genre             \n",
       "Action    6.837532\n",
       "Sports    5.238125"
      ]
     },
     "execution_count": 66,
     "metadata": {},
     "output_type": "execute_result"
    }
   ],
   "source": [
    "action_sports = actual_data.query('genre == \"Action\" or genre == \"Sports\"')\n",
    "action_sports.pivot_table(index='genre', values='user_score', aggfunc='mean')"
   ]
  },
  {
   "cell_type": "markdown",
   "id": "88da9f9d",
   "metadata": {},
   "source": [
    "Исходная гипотеза не подтвердилась: **можно утверждать с уверенностью, что средние пользовательские рейтинги для жанров Action и Sports различаются**. При выборе между продвижением игр двух жанров, *при прочих равных условиях* лучше отдать предпочтение жанру Action, так как рейтинг выше,чем в жанре Sports."
   ]
  },
  {
   "cell_type": "markdown",
   "id": "61f2e944",
   "metadata": {},
   "source": [
    "<a id='19-bullet'></a>\n",
    "## Общий вывод"
   ]
  },
  {
   "cell_type": "markdown",
   "id": "4f0563ca",
   "metadata": {},
   "source": [
    "В ходе исследования проанализирована статистика продаж международного интернет-магазина компьютерных игр.\n",
    "\n",
    "Выявлены закономерности в данных, определяющие успешность игры. В дальнейшем, результаты исследования позволят сделать ставку на потенциально популярный продукт и спланировать рекламные кампании.\n",
    "\n",
    "При подготовке данных, названия столбцов, игр и платформ приведены к нижнему регистру. Преобразован тип данных некоторых полей, для оптимизации объема данных.\n",
    "\n",
    "Отработаны пропуски. Проведена проверка на дубликаты. Созданы необходимые дополнительные столбцы.\n",
    "\n",
    "Проанализировано сколько игр выпускалось в разные годы.Начиная с 1994 года можно отметить начало периода ощутимого роста рынка. С 2009 года, можно отметить начало периода падения рынка. Возможно это связано с ростом популярности соцсетей или с иной причиной.\n",
    "\n",
    "\n",
    "Сформирован ТОП-10 платформ по объемам продаж. Лидерами за всю историю наблюдений являются платформы  PS2, X360, PS3, WII, DS, PS. Из первых 10 платформ по объемам продаж 5 мест занимают разные версии PS.\n",
    "\n",
    "\n",
    "Проанализированы продажи по годам-наблюдается большой разброс по количеству лет работы крупнейших платформ. От года до 26 лет. Но медианный срок существования платформ 8 лет.\n",
    "\n",
    "Для прогнозирования продаж 2017 года берем самые актуальные данные за последние 3 года т.е.  2014-2016, так как к 2016 большинство платформ в конце своего жизнненного цикла и строить прогнозы по ним некорректно.\n",
    "\n",
    "Не смотря на падение рынка в 2016 году платформы PS4 и XOne занимают бОльшую долю рынка. Для планирования продаж 2017 года эти платформы наиболее перспективны.\n",
    "\n",
    "Для большинства платформ можно говорить о средне выраженной линейной зависимости между отзывами критиков и продажами, в то время как линейной зависимости между продажами и отзывами пользователей не выявлено.\n",
    "\n",
    "\n",
    "Проанализировано распределение игр по жанрам.По глобальным продажам есть три жанра-лидера Action,Shooter,Sports. Медианные значения на диаграммах размаха подтверждают вывод о лидерстве жанров Shooter, Sports и Platform. Т.е. это стабильные жанры, которые приносят доход не зависимо от платформы, значит на эти жанры есть устойчивый спрос!\n",
    "\n",
    "В рамках исследования создан портрет пользователя по каждому региону.\n",
    "\n",
    "Пользователи Северной Америки больше всего предпочитают PS4,далее идет Xone и X360-американские консоли.\n",
    "Пользователи Европы с 2013 года больше всего предпочитают Японские PS4 и PS3,далее идет Xone и X360-американские консоли и DS3.\n",
    "Пользователи Японии предпочитают с большим отрывом от остальных ( почти 50: рынка) портативные игровые системы- 3DS.\n",
    "\n",
    "В ТОП-5 у трёх локаций есть общие жанры Shooter, Action, Role-Playing.\n",
    "\n",
    "Жанр: Action или Shooter для Запада, Role-Playing и Action — для Японии.\n",
    "\n",
    "\n",
    "Проанализировано влияние рейтинга ESRB на продажи в отдельном регионе.\n",
    "Рейтинг ESRB: либо от 17 лет (для Америки и Европы) или \"без рейтинга\" (для Японии). \n",
    "\n",
    "\n",
    "Ориентироваться на оценки пользователей нет смысла, на продажи это не оказывает существенного влияния. Однако отзывы критиков не стоит упускать из внимания, их отзывы имеют значение. \n",
    "\n",
    "Стоит также отметить, что если пользовательский рейтинг все-таки будет важен создателям игры, то необходимо знать, что в жанре Action рейтинг пользователей, как правило, выше, чем в жанре Sports.\n",
    "\n",
    "В рамках исследования проведена проверка основных гипотез.\n",
    "Сформулирована нулевая гипотеза, о том, что средние пользовательские рейтинги платформ Xbox One и PC одинаковые.  В итоге, не получилось отвергнуть нулевую гипотезу о том, что средние пользовательские рейтинги платформ Xbox One и PC одинаковые. Т.к. полученная вероятность совпадения значений больше критического уровня статистической значимости, который определен аналитиком экспертно.\n",
    "\n",
    "Также проверена гипотеза, что средние пользовательские рейтинги жанров Action (англ. «действие», экшен-игры) и Sports (англ. «спортивные соревнования») разные. Не получилось отвергнуть нулевую гипотезу о том, что средние пользовательские рейтинги жанров Action и Sports разные. Т.к. полученная вероятность совпадения значений меньше критического уровня статистической значимости, который определен аналитиком экспертно.\n",
    "\n",
    "Таким образом проведенное исследование позволило определить перспективные рынки, сегменты и локации для планирования продаж и продвижения в 2017 году, а также обосновать предложенный выбор."
   ]
  }
 ],
 "metadata": {
  "ExecuteTimeLog": [
   {
    "duration": 1442,
    "start_time": "2023-02-24T11:47:23.978Z"
   },
   {
    "duration": 31,
    "start_time": "2023-02-24T11:47:25.422Z"
   },
   {
    "duration": 23,
    "start_time": "2023-02-24T11:47:25.454Z"
   },
   {
    "duration": 26,
    "start_time": "2023-02-24T11:47:25.479Z"
   },
   {
    "duration": 59,
    "start_time": "2023-02-24T11:47:25.508Z"
   },
   {
    "duration": 29,
    "start_time": "2023-02-24T11:47:25.570Z"
   },
   {
    "duration": 27,
    "start_time": "2023-02-24T11:47:25.601Z"
   },
   {
    "duration": 28,
    "start_time": "2023-02-24T11:47:25.630Z"
   },
   {
    "duration": 22,
    "start_time": "2023-02-24T11:47:25.660Z"
   },
   {
    "duration": 23,
    "start_time": "2023-02-24T11:47:25.685Z"
   },
   {
    "duration": 16,
    "start_time": "2023-02-24T11:47:25.710Z"
   },
   {
    "duration": 40,
    "start_time": "2023-02-24T11:47:25.728Z"
   },
   {
    "duration": 41,
    "start_time": "2023-02-24T11:47:25.776Z"
   },
   {
    "duration": 30,
    "start_time": "2023-02-24T11:47:25.821Z"
   },
   {
    "duration": 54,
    "start_time": "2023-02-24T11:47:25.853Z"
   },
   {
    "duration": 20,
    "start_time": "2023-02-24T11:47:25.909Z"
   },
   {
    "duration": 57,
    "start_time": "2023-02-24T11:47:25.935Z"
   },
   {
    "duration": 596,
    "start_time": "2023-02-24T11:47:25.995Z"
   },
   {
    "duration": 333,
    "start_time": "2023-02-24T11:47:26.593Z"
   },
   {
    "duration": 28,
    "start_time": "2023-02-24T11:47:26.929Z"
   },
   {
    "duration": 96,
    "start_time": "2023-02-24T11:47:26.965Z"
   },
   {
    "duration": 809,
    "start_time": "2023-02-24T11:47:27.064Z"
   },
   {
    "duration": 22,
    "start_time": "2023-02-24T11:47:27.877Z"
   },
   {
    "duration": 81,
    "start_time": "2023-02-24T11:47:27.901Z"
   },
   {
    "duration": 417,
    "start_time": "2023-02-24T11:47:27.985Z"
   },
   {
    "duration": 8,
    "start_time": "2023-02-24T11:47:28.404Z"
   },
   {
    "duration": 41,
    "start_time": "2023-02-24T11:47:28.414Z"
   },
   {
    "duration": 276,
    "start_time": "2023-02-24T11:47:28.457Z"
   },
   {
    "duration": 37,
    "start_time": "2023-02-24T11:47:28.734Z"
   },
   {
    "duration": 235,
    "start_time": "2023-02-24T11:47:28.773Z"
   },
   {
    "duration": 274,
    "start_time": "2023-02-24T11:47:29.011Z"
   },
   {
    "duration": 15,
    "start_time": "2023-02-24T11:47:29.291Z"
   },
   {
    "duration": 76,
    "start_time": "2023-02-24T11:47:29.308Z"
   },
   {
    "duration": 34,
    "start_time": "2023-02-24T11:47:29.388Z"
   },
   {
    "duration": 31,
    "start_time": "2023-02-24T11:47:29.425Z"
   },
   {
    "duration": 60,
    "start_time": "2023-02-24T11:47:29.458Z"
   },
   {
    "duration": 544,
    "start_time": "2023-02-24T11:47:29.520Z"
   },
   {
    "duration": 27,
    "start_time": "2023-02-24T11:47:30.066Z"
   },
   {
    "duration": 294,
    "start_time": "2023-02-24T11:47:30.095Z"
   },
   {
    "duration": 25,
    "start_time": "2023-02-24T11:47:30.394Z"
   },
   {
    "duration": 285,
    "start_time": "2023-02-24T11:47:30.424Z"
   },
   {
    "duration": 40,
    "start_time": "2023-02-24T11:47:30.711Z"
   },
   {
    "duration": 244,
    "start_time": "2023-02-24T11:47:30.753Z"
   },
   {
    "duration": 367,
    "start_time": "2023-02-24T11:47:31.000Z"
   },
   {
    "duration": 358,
    "start_time": "2023-02-24T11:47:31.371Z"
   },
   {
    "duration": 284,
    "start_time": "2023-02-24T11:47:31.731Z"
   },
   {
    "duration": 6,
    "start_time": "2023-02-24T11:47:32.017Z"
   },
   {
    "duration": 117,
    "start_time": "2023-02-24T11:47:32.025Z"
   },
   {
    "duration": 15,
    "start_time": "2023-02-24T11:47:32.145Z"
   },
   {
    "duration": 62,
    "start_time": "2023-02-24T11:47:32.164Z"
   },
   {
    "duration": 31,
    "start_time": "2023-02-24T11:47:32.229Z"
   },
   {
    "duration": 59,
    "start_time": "2023-02-24T11:47:32.265Z"
   },
   {
    "duration": 1203,
    "start_time": "2023-02-27T19:02:36.986Z"
   },
   {
    "duration": 48,
    "start_time": "2023-02-27T19:02:38.191Z"
   },
   {
    "duration": 16,
    "start_time": "2023-02-27T19:02:38.241Z"
   },
   {
    "duration": 14,
    "start_time": "2023-02-27T19:02:38.259Z"
   },
   {
    "duration": 38,
    "start_time": "2023-02-27T19:02:38.274Z"
   },
   {
    "duration": 3,
    "start_time": "2023-02-27T19:02:38.314Z"
   },
   {
    "duration": 12,
    "start_time": "2023-02-27T19:02:38.318Z"
   },
   {
    "duration": 28,
    "start_time": "2023-02-27T19:02:38.333Z"
   },
   {
    "duration": 15,
    "start_time": "2023-02-27T19:02:38.363Z"
   },
   {
    "duration": 31,
    "start_time": "2023-02-27T19:02:38.380Z"
   },
   {
    "duration": 9,
    "start_time": "2023-02-27T19:02:38.413Z"
   },
   {
    "duration": 12,
    "start_time": "2023-02-27T19:02:38.423Z"
   },
   {
    "duration": 4,
    "start_time": "2023-02-27T19:02:38.436Z"
   },
   {
    "duration": 9,
    "start_time": "2023-02-27T19:02:38.442Z"
   },
   {
    "duration": 12,
    "start_time": "2023-02-27T19:02:38.452Z"
   },
   {
    "duration": 21,
    "start_time": "2023-02-27T19:02:38.465Z"
   },
   {
    "duration": 28,
    "start_time": "2023-02-27T19:02:38.487Z"
   },
   {
    "duration": 30,
    "start_time": "2023-02-27T19:02:38.517Z"
   },
   {
    "duration": 15,
    "start_time": "2023-02-27T19:02:38.549Z"
   },
   {
    "duration": 45,
    "start_time": "2023-02-27T19:02:38.566Z"
   }
  ],
  "kernelspec": {
   "display_name": "Python 3 (ipykernel)",
   "language": "python",
   "name": "python3"
  },
  "language_info": {
   "codemirror_mode": {
    "name": "ipython",
    "version": 3
   },
   "file_extension": ".py",
   "mimetype": "text/x-python",
   "name": "python",
   "nbconvert_exporter": "python",
   "pygments_lexer": "ipython3",
   "version": "3.10.9"
  },
  "toc": {
   "base_numbering": 1,
   "nav_menu": {},
   "number_sections": true,
   "sideBar": true,
   "skip_h1_title": true,
   "title_cell": "Table of Contents",
   "title_sidebar": "Contents",
   "toc_cell": false,
   "toc_position": {},
   "toc_section_display": true,
   "toc_window_display": true
  }
 },
 "nbformat": 4,
 "nbformat_minor": 5
}
