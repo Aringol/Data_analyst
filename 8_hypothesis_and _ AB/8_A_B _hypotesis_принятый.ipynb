{
 "cells": [
  {
   "cell_type": "markdown",
   "id": "151f567b",
   "metadata": {},
   "source": [
    "<div style=\"border-radius: 15px; border: 3px solid indigo; padding: 15px;\">\n",
    "<b>Привет, Арина!</b>\n",
    "\n",
    "Меня зовут Вадим Лепшин, и я буду проверять твой проект. Предлагаю общение на «ты», но если тебе комфортнее на «Вы», обязательно сообщи мне об этом. \n",
    "\n",
    "Моя основная цель — не указать на совершенные тобою ошибки, а поделиться своим опытом и помочь тебе стать аналитиком данных. Тобой проделана большая работа над проектом, давай сделаем его еще лучше. Ниже ты найдешь мои комментарии. Есть несколько правил:<br>\n",
    "- <b>Пожалуйста, не перемещай, не изменяй и не удаляй комментарии.</b>\n",
    "- У комментариев могут быть приписки <b>V2, V3</b> и т.д., которые соответствуют версии проверки. \n",
    "   \n",
    "В тетрадке ты можешь встретить 3 вида моих комментариев:\n",
    "    \n",
    "<div class=\"alert alert-danger\">\n",
    "    <b>❌ Комментарий ревьюера:</b>\n",
    "    \n",
    "Комментарии такого цвета необходимо исправить, без их отработки проект не будет принят.\n",
    "</div>\n",
    "    \n",
    "    \n",
    "<div class=\"alert alert-warning\">\n",
    "    <b>⚠️ Комментарий ревьюера:</b>\n",
    "    \n",
    "На комментарии такого цвета нужно обязательно обратить внимание. Рекомендую учесть их при редактировании проекта и выполнении будущих заданий.\n",
    "</div>\n",
    "    \n",
    "    \n",
    "<div class=\"alert alert-success\">\n",
    "    <b>✅ Комментарий ревьюера:</b>\n",
    "\n",
    "Так отмечены удачные решения и подходы, на которые стоит опираться в будущих проектах.\n",
    "</div>\n",
    "    \n",
    "Предлагаю работать над проектом в диалоге: если ты хочешь ответить на мои комментарии — пиши об этом. Мне будет легче отследить изменения, если ты выделишь свои комментарии вот так:\n",
    "\n",
    "<div class=\"alert alert-info\">\n",
    "<b> Комментарий студента</b>\n",
    "\n",
    "Тут текст.\n",
    "</div>\n",
    "\n",
    "\n",
    "Всё это поможет выполнить повторную проверку твоего проекта оперативнее.\n",
    "</div>"
   ]
  },
  {
   "cell_type": "markdown",
   "id": "fa1ecef8",
   "metadata": {},
   "source": [
    "# Проверка гипотез для интеренет-магазина"
   ]
  },
  {
   "cell_type": "markdown",
   "id": "25897c38",
   "metadata": {},
   "source": [
    "**Контекст**\n",
    "- отдел маркетинга крупного интернет-магазина подготовил список гипотез для увеличения выручки.\n",
    "\n",
    "\n",
    "**Цель**\n",
    "- выбрать гипотезу  для увеличения выручки\n",
    "\n",
    "**Задачи:**\n",
    "\n",
    "- приоритизировать гипотезы;\n",
    "- запустить A/B-тест;\n",
    "- проанализировать результаты. \n",
    "\n",
    "**Описание данных:**\n",
    "\n",
    "**1) Данные для проведения приоритизации гипотез:**\n",
    "- /datasets/hypothesis.csv - путь к файлу\n",
    "- Hypothesis — краткое описание гипотезы;\n",
    "- Reach — охват пользователей по 10-балльной шкале;\n",
    "- Impact — влияние на пользователей по 10-балльной шкале;\n",
    "- Confidence — уверенность в гипотезе по 10-балльной шкале;\n",
    "- Efforts — затраты ресурсов на проверку гипотезы по 10-балльной шкале. \n",
    "Чем больше значение Efforts, тем дороже проверка гипотезы.\n",
    "\n",
    "**2) Данные для проведения анализа A/B-теста:**\n",
    "- /datasets/orders.csv - путь к файлу\n",
    "- transactionId — идентификатор заказа;\n",
    "- visitorId — идентификатор пользователя, совершившего заказ;\n",
    "- date — дата, когда был совершён заказ;\n",
    "- revenue — выручка заказа;\n",
    "- group — группа A/B-теста, в которую попал заказ.\n",
    "- /datasets/visitors.csv. Скачать датасет\n",
    "- date — дата;\n",
    "- group — группа A/B-теста;\n",
    "- visitors — количество пользователей в указанную дату в указанной группе A/B-теста"
   ]
  },
  {
   "cell_type": "markdown",
   "id": "2b3747ba",
   "metadata": {},
   "source": [
    "<div class=\"alert alert-success\">\n",
    "    <b>✅ Комментарий ревьюера:</b>\n",
    "\n",
    "Введение принято!\n",
    "</div>"
   ]
  },
  {
   "cell_type": "markdown",
   "id": "31604538",
   "metadata": {},
   "source": [
    "**Ход исследования:**\n",
    "\n",
    "*Раздел1. Изучение общей информации:*\n",
    "\n",
    "* [1.1 Изученеие файлов с данными, получение общей информации, загрузка библиотек](#1-bullet)\n",
    "* [1.2 Предобработка таблицы hypothesis - гипотезы](#2-bullet)\n",
    "* [1.3 Предобработка таблицы orders - заказы](#3-bullet)\n",
    "* [1.4 Предобработка таблицы visitors - посетители](#4-bullet)\n",
    "* [Вывод по разделу 1](#5-bullet)\n",
    "* \n",
    "\n",
    "*Раздел2. Приоритизация гипотез*(#6-bullet)\n",
    "\n",
    "* [2.1 Фреймворк ICE для приоритизации гипотез](#7-bullet)\n",
    "* [2.2 Фреймворк RICE для приоритизации гипотез](#8-bullet)\n",
    "* [2.3  Сравнение приоритизации гипотез фремворками ICE  и RICE. Отличия приоритизации.](#9-bullet)\n",
    "* [Вывод по разделу 2](#10-bullet)\n",
    "\n",
    "\n",
    "*Раздел3. Анализ A/B-теста:*(#11-bullet)\n",
    "\n",
    "* [3.1 График кумулятивной выручки по группам. Выводы и предположения.](#12-bullet)\n",
    "* [3.2 График кумулятивного среднего чека по группам. Выводы и предположения.](#13-bullet)\n",
    "* [3.3 График относительного изменения кумулятивного среднего чека группы B к группе A. Выводы и предположения.](#14-bullet)\n",
    "* [3.4 График кумулятивного среднего количества заказов на посетителя по группам. Выводы и предположения.](#15-bullet)\n",
    "* [3.5 График относительного изменения кумулятивного среднего количества заказов на посетителя группы B к группе A. Выводы и предположения.](#16-bullet)\n",
    "* [3.6 Точечный график количества заказов по пользователям. Выводы и предположения.](#17-bullet)\n",
    "* [3.7  95-й и 99-й перцентили количества заказов на пользователя. Граница для определения аномальных пользователей.](#18-bullet)\n",
    "* [3.8 Точечный график стоимостей заказов. Выводы и предположения.](#19-bullet)\n",
    "* [3.9 Точечный график количества заказов по пользователям. Выводы и предположения.](#18-bullet)\n",
    "* [3.10 95-й и 99-й перцентили стоимости заказов. Граница для определения аномальных заказов.](#20-bullet)\n",
    "* [3.11 Статистическая значимость различий в среднем количестве заказов на посетителя между группами между группами по «сырым» данным. Выводы и предположения.](#21-bullet)\n",
    "* [3.12 Статистическая значимость различий в среднем чеке заказа между группами по «сырым» данным.Выводы и предположения.](#22-bullet)\n",
    "* [3.13 Статистическая значимость различий в среднем количестве заказов на посетителя между группами между группами по «очищенным» данным.Выводы и предположения.](#23-bullet)\n",
    "* [3.14 Статистическая значимость различий в среднем чеке заказа между группами по «очищенным» данным.Выводы и предположения.](#24-bullet)\n",
    "* [3.15 Решение по результатам теста](#25-bullet)\n",
    "\n",
    "\n",
    "*Раздел4. Общий вывод*\n",
    "* [Общий вывод по исследованию](#26-bullet)"
   ]
  },
  {
   "cell_type": "code",
   "execution_count": null,
   "id": "d708a3fb",
   "metadata": {},
   "outputs": [],
   "source": []
  },
  {
   "cell_type": "markdown",
   "id": "31c29060",
   "metadata": {},
   "source": [
    "# 1. Изучение общей информации"
   ]
  },
  {
   "cell_type": "markdown",
   "id": "24bf05f5",
   "metadata": {},
   "source": [
    "<a id='1-bullet'></a>\n",
    "## 1.1 Изученеие файлов с данными, получение общей информации, загрузка библиотек"
   ]
  },
  {
   "cell_type": "markdown",
   "id": "5083d288",
   "metadata": {},
   "source": [
    "Загрузка  файлов с данными и знакомство с датасетом, чтобы иметь представление, с чем предстоит работать далее и провести первичный визуальный анализ данных."
   ]
  },
  {
   "cell_type": "code",
   "execution_count": 1,
   "id": "e5438357",
   "metadata": {},
   "outputs": [],
   "source": [
    "#Загрузка библиотек\n",
    "import pandas as pd\n",
    "import datetime as dt\n",
    "from datetime import datetime\n",
    "import numpy as np #отвечает за высокоуровневые математические функции\n",
    "import matplotlib.pyplot as plt #для работы с графиками (в том числе гистограммами)\n",
    "import seaborn as sns #библиотека для визуализации данных\n",
    "from scipy import stats as st #  пакет статистических функций\n",
    "import warnings"
   ]
  },
  {
   "cell_type": "code",
   "execution_count": 2,
   "id": "00736c12",
   "metadata": {},
   "outputs": [],
   "source": [
    "#Загрузка данных и сохранение их в переменные\n",
    "try:\n",
    "    hypothesis = pd.read_csv('/datasets/hypothesis.csv')\n",
    "    orders = pd.read_csv('/datasets/orders.csv')\n",
    "    visitors = pd.read_csv('/datasets/visitors.csv')\n",
    "    \n",
    "except:\n",
    "    hypothesis = pd.read_csv('https://code.s3.yandex.net/datasets/hypothesis.csv')\n",
    "    orders = pd.read_csv('https://code.s3.yandex.net/datasets/orders.csv')\n",
    "    visitors = pd.read_csv('https://code.s3.yandex.net/datasets/visitors.csv')"
   ]
  },
  {
   "cell_type": "markdown",
   "id": "a2cf2d52",
   "metadata": {},
   "source": [
    "<div class=\"alert alert-success\">\n",
    "    <b>✅ Комментарий ревьюера:</b>\n",
    "\n",
    "👍 за конструкцию try-except.\n",
    "</div>"
   ]
  },
  {
   "cell_type": "markdown",
   "id": "7eefbb07",
   "metadata": {},
   "source": [
    "Проверка вывода данных.просмотри информации о таблицах и проверка наличия дубликатов"
   ]
  },
  {
   "cell_type": "code",
   "execution_count": 3,
   "id": "cd7bd756",
   "metadata": {},
   "outputs": [],
   "source": [
    "# функция для обзора данных\n",
    "def df_review(df):\n",
    "    display (df.head())\n",
    "    print('-'* 80)\n",
    "    print(df.info())\n",
    "    display('-'* 80)\n",
    "    print(df.isna().sum())\n",
    "    display('-'* 80)\n",
    "    display(df.describe())\n",
    "    display('-'* 80) "
   ]
  },
  {
   "cell_type": "markdown",
   "id": "b2b630c9",
   "metadata": {},
   "source": [
    "<a id='2-bullet'></a>\n",
    "## 1.2 Предобработка таблицы hypothesis - гипотезы"
   ]
  },
  {
   "cell_type": "code",
   "execution_count": 4,
   "id": "cbabe2db",
   "metadata": {},
   "outputs": [
    {
     "data": {
      "text/html": [
       "<div>\n",
       "<style scoped>\n",
       "    .dataframe tbody tr th:only-of-type {\n",
       "        vertical-align: middle;\n",
       "    }\n",
       "\n",
       "    .dataframe tbody tr th {\n",
       "        vertical-align: top;\n",
       "    }\n",
       "\n",
       "    .dataframe thead th {\n",
       "        text-align: right;\n",
       "    }\n",
       "</style>\n",
       "<table border=\"1\" class=\"dataframe\">\n",
       "  <thead>\n",
       "    <tr style=\"text-align: right;\">\n",
       "      <th></th>\n",
       "      <th>Hypothesis</th>\n",
       "      <th>Reach</th>\n",
       "      <th>Impact</th>\n",
       "      <th>Confidence</th>\n",
       "      <th>Efforts</th>\n",
       "    </tr>\n",
       "  </thead>\n",
       "  <tbody>\n",
       "    <tr>\n",
       "      <th>0</th>\n",
       "      <td>Добавить два новых канала привлечения трафика,...</td>\n",
       "      <td>3</td>\n",
       "      <td>10</td>\n",
       "      <td>8</td>\n",
       "      <td>6</td>\n",
       "    </tr>\n",
       "    <tr>\n",
       "      <th>1</th>\n",
       "      <td>Запустить собственную службу доставки, что сок...</td>\n",
       "      <td>2</td>\n",
       "      <td>5</td>\n",
       "      <td>4</td>\n",
       "      <td>10</td>\n",
       "    </tr>\n",
       "    <tr>\n",
       "      <th>2</th>\n",
       "      <td>Добавить блоки рекомендаций товаров на сайт ин...</td>\n",
       "      <td>8</td>\n",
       "      <td>3</td>\n",
       "      <td>7</td>\n",
       "      <td>3</td>\n",
       "    </tr>\n",
       "    <tr>\n",
       "      <th>3</th>\n",
       "      <td>Изменить структура категорий, что увеличит кон...</td>\n",
       "      <td>8</td>\n",
       "      <td>3</td>\n",
       "      <td>3</td>\n",
       "      <td>8</td>\n",
       "    </tr>\n",
       "    <tr>\n",
       "      <th>4</th>\n",
       "      <td>Изменить цвет фона главной страницы, чтобы уве...</td>\n",
       "      <td>3</td>\n",
       "      <td>1</td>\n",
       "      <td>1</td>\n",
       "      <td>1</td>\n",
       "    </tr>\n",
       "  </tbody>\n",
       "</table>\n",
       "</div>"
      ],
      "text/plain": [
       "                                          Hypothesis  Reach  Impact  \\\n",
       "0  Добавить два новых канала привлечения трафика,...      3      10   \n",
       "1  Запустить собственную службу доставки, что сок...      2       5   \n",
       "2  Добавить блоки рекомендаций товаров на сайт ин...      8       3   \n",
       "3  Изменить структура категорий, что увеличит кон...      8       3   \n",
       "4  Изменить цвет фона главной страницы, чтобы уве...      3       1   \n",
       "\n",
       "   Confidence  Efforts  \n",
       "0           8        6  \n",
       "1           4       10  \n",
       "2           7        3  \n",
       "3           3        8  \n",
       "4           1        1  "
      ]
     },
     "metadata": {},
     "output_type": "display_data"
    },
    {
     "name": "stdout",
     "output_type": "stream",
     "text": [
      "--------------------------------------------------------------------------------\n",
      "<class 'pandas.core.frame.DataFrame'>\n",
      "RangeIndex: 9 entries, 0 to 8\n",
      "Data columns (total 5 columns):\n",
      " #   Column      Non-Null Count  Dtype \n",
      "---  ------      --------------  ----- \n",
      " 0   Hypothesis  9 non-null      object\n",
      " 1   Reach       9 non-null      int64 \n",
      " 2   Impact      9 non-null      int64 \n",
      " 3   Confidence  9 non-null      int64 \n",
      " 4   Efforts     9 non-null      int64 \n",
      "dtypes: int64(4), object(1)\n",
      "memory usage: 488.0+ bytes\n",
      "None\n"
     ]
    },
    {
     "data": {
      "text/plain": [
       "'--------------------------------------------------------------------------------'"
      ]
     },
     "metadata": {},
     "output_type": "display_data"
    },
    {
     "name": "stdout",
     "output_type": "stream",
     "text": [
      "Hypothesis    0\n",
      "Reach         0\n",
      "Impact        0\n",
      "Confidence    0\n",
      "Efforts       0\n",
      "dtype: int64\n"
     ]
    },
    {
     "data": {
      "text/plain": [
       "'--------------------------------------------------------------------------------'"
      ]
     },
     "metadata": {},
     "output_type": "display_data"
    },
    {
     "data": {
      "text/html": [
       "<div>\n",
       "<style scoped>\n",
       "    .dataframe tbody tr th:only-of-type {\n",
       "        vertical-align: middle;\n",
       "    }\n",
       "\n",
       "    .dataframe tbody tr th {\n",
       "        vertical-align: top;\n",
       "    }\n",
       "\n",
       "    .dataframe thead th {\n",
       "        text-align: right;\n",
       "    }\n",
       "</style>\n",
       "<table border=\"1\" class=\"dataframe\">\n",
       "  <thead>\n",
       "    <tr style=\"text-align: right;\">\n",
       "      <th></th>\n",
       "      <th>Reach</th>\n",
       "      <th>Impact</th>\n",
       "      <th>Confidence</th>\n",
       "      <th>Efforts</th>\n",
       "    </tr>\n",
       "  </thead>\n",
       "  <tbody>\n",
       "    <tr>\n",
       "      <th>count</th>\n",
       "      <td>9.000000</td>\n",
       "      <td>9.000000</td>\n",
       "      <td>9.000000</td>\n",
       "      <td>9.000000</td>\n",
       "    </tr>\n",
       "    <tr>\n",
       "      <th>mean</th>\n",
       "      <td>4.777778</td>\n",
       "      <td>4.777778</td>\n",
       "      <td>5.555556</td>\n",
       "      <td>4.888889</td>\n",
       "    </tr>\n",
       "    <tr>\n",
       "      <th>std</th>\n",
       "      <td>3.153481</td>\n",
       "      <td>3.192874</td>\n",
       "      <td>3.045944</td>\n",
       "      <td>2.803767</td>\n",
       "    </tr>\n",
       "    <tr>\n",
       "      <th>min</th>\n",
       "      <td>1.000000</td>\n",
       "      <td>1.000000</td>\n",
       "      <td>1.000000</td>\n",
       "      <td>1.000000</td>\n",
       "    </tr>\n",
       "    <tr>\n",
       "      <th>25%</th>\n",
       "      <td>3.000000</td>\n",
       "      <td>3.000000</td>\n",
       "      <td>3.000000</td>\n",
       "      <td>3.000000</td>\n",
       "    </tr>\n",
       "    <tr>\n",
       "      <th>50%</th>\n",
       "      <td>3.000000</td>\n",
       "      <td>3.000000</td>\n",
       "      <td>7.000000</td>\n",
       "      <td>5.000000</td>\n",
       "    </tr>\n",
       "    <tr>\n",
       "      <th>75%</th>\n",
       "      <td>8.000000</td>\n",
       "      <td>7.000000</td>\n",
       "      <td>8.000000</td>\n",
       "      <td>6.000000</td>\n",
       "    </tr>\n",
       "    <tr>\n",
       "      <th>max</th>\n",
       "      <td>10.000000</td>\n",
       "      <td>10.000000</td>\n",
       "      <td>9.000000</td>\n",
       "      <td>10.000000</td>\n",
       "    </tr>\n",
       "  </tbody>\n",
       "</table>\n",
       "</div>"
      ],
      "text/plain": [
       "           Reach     Impact  Confidence    Efforts\n",
       "count   9.000000   9.000000    9.000000   9.000000\n",
       "mean    4.777778   4.777778    5.555556   4.888889\n",
       "std     3.153481   3.192874    3.045944   2.803767\n",
       "min     1.000000   1.000000    1.000000   1.000000\n",
       "25%     3.000000   3.000000    3.000000   3.000000\n",
       "50%     3.000000   3.000000    7.000000   5.000000\n",
       "75%     8.000000   7.000000    8.000000   6.000000\n",
       "max    10.000000  10.000000    9.000000  10.000000"
      ]
     },
     "metadata": {},
     "output_type": "display_data"
    },
    {
     "data": {
      "text/plain": [
       "'--------------------------------------------------------------------------------'"
      ]
     },
     "metadata": {},
     "output_type": "display_data"
    }
   ],
   "source": [
    "# обзор данных \"hypothesis\"\n",
    "df_review(hypothesis)"
   ]
  },
  {
   "cell_type": "markdown",
   "id": "d618ffc4",
   "metadata": {},
   "source": [
    "Пропусков в данных нет, но названия столбцов не соответствуют snake case. Приведем их к нижнему регистру."
   ]
  },
  {
   "cell_type": "code",
   "execution_count": 5,
   "id": "2ba91564",
   "metadata": {},
   "outputs": [
    {
     "data": {
      "text/html": [
       "<div>\n",
       "<style scoped>\n",
       "    .dataframe tbody tr th:only-of-type {\n",
       "        vertical-align: middle;\n",
       "    }\n",
       "\n",
       "    .dataframe tbody tr th {\n",
       "        vertical-align: top;\n",
       "    }\n",
       "\n",
       "    .dataframe thead th {\n",
       "        text-align: right;\n",
       "    }\n",
       "</style>\n",
       "<table border=\"1\" class=\"dataframe\">\n",
       "  <thead>\n",
       "    <tr style=\"text-align: right;\">\n",
       "      <th></th>\n",
       "      <th>hypothesis</th>\n",
       "      <th>reach</th>\n",
       "      <th>impact</th>\n",
       "      <th>confidence</th>\n",
       "      <th>efforts</th>\n",
       "    </tr>\n",
       "  </thead>\n",
       "  <tbody>\n",
       "    <tr>\n",
       "      <th>0</th>\n",
       "      <td>Добавить два новых канала привлечения трафика,...</td>\n",
       "      <td>3</td>\n",
       "      <td>10</td>\n",
       "      <td>8</td>\n",
       "      <td>6</td>\n",
       "    </tr>\n",
       "    <tr>\n",
       "      <th>1</th>\n",
       "      <td>Запустить собственную службу доставки, что сок...</td>\n",
       "      <td>2</td>\n",
       "      <td>5</td>\n",
       "      <td>4</td>\n",
       "      <td>10</td>\n",
       "    </tr>\n",
       "    <tr>\n",
       "      <th>2</th>\n",
       "      <td>Добавить блоки рекомендаций товаров на сайт ин...</td>\n",
       "      <td>8</td>\n",
       "      <td>3</td>\n",
       "      <td>7</td>\n",
       "      <td>3</td>\n",
       "    </tr>\n",
       "    <tr>\n",
       "      <th>3</th>\n",
       "      <td>Изменить структура категорий, что увеличит кон...</td>\n",
       "      <td>8</td>\n",
       "      <td>3</td>\n",
       "      <td>3</td>\n",
       "      <td>8</td>\n",
       "    </tr>\n",
       "    <tr>\n",
       "      <th>4</th>\n",
       "      <td>Изменить цвет фона главной страницы, чтобы уве...</td>\n",
       "      <td>3</td>\n",
       "      <td>1</td>\n",
       "      <td>1</td>\n",
       "      <td>1</td>\n",
       "    </tr>\n",
       "  </tbody>\n",
       "</table>\n",
       "</div>"
      ],
      "text/plain": [
       "                                          hypothesis  reach  impact  \\\n",
       "0  Добавить два новых канала привлечения трафика,...      3      10   \n",
       "1  Запустить собственную службу доставки, что сок...      2       5   \n",
       "2  Добавить блоки рекомендаций товаров на сайт ин...      8       3   \n",
       "3  Изменить структура категорий, что увеличит кон...      8       3   \n",
       "4  Изменить цвет фона главной страницы, чтобы уве...      3       1   \n",
       "\n",
       "   confidence  efforts  \n",
       "0           8        6  \n",
       "1           4       10  \n",
       "2           7        3  \n",
       "3           3        8  \n",
       "4           1        1  "
      ]
     },
     "execution_count": 5,
     "metadata": {},
     "output_type": "execute_result"
    }
   ],
   "source": [
    "hypothesis.columns=hypothesis.columns.str.lower()\n",
    "hypothesis.head()"
   ]
  },
  {
   "cell_type": "markdown",
   "id": "6875de6e",
   "metadata": {},
   "source": [
    "**Данные датафрейма \"hypothesis\" целостные, корректные, типы  данных правильные, дубликатов нет - таблица готова к анализу.**"
   ]
  },
  {
   "cell_type": "markdown",
   "id": "98e18909",
   "metadata": {},
   "source": [
    "<a id='3-bullet'></a>\n",
    "## 1.3 Предобработка таблицы orders - заказы"
   ]
  },
  {
   "cell_type": "code",
   "execution_count": 6,
   "id": "c8878904",
   "metadata": {},
   "outputs": [
    {
     "data": {
      "text/html": [
       "<div>\n",
       "<style scoped>\n",
       "    .dataframe tbody tr th:only-of-type {\n",
       "        vertical-align: middle;\n",
       "    }\n",
       "\n",
       "    .dataframe tbody tr th {\n",
       "        vertical-align: top;\n",
       "    }\n",
       "\n",
       "    .dataframe thead th {\n",
       "        text-align: right;\n",
       "    }\n",
       "</style>\n",
       "<table border=\"1\" class=\"dataframe\">\n",
       "  <thead>\n",
       "    <tr style=\"text-align: right;\">\n",
       "      <th></th>\n",
       "      <th>transactionId</th>\n",
       "      <th>visitorId</th>\n",
       "      <th>date</th>\n",
       "      <th>revenue</th>\n",
       "      <th>group</th>\n",
       "    </tr>\n",
       "  </thead>\n",
       "  <tbody>\n",
       "    <tr>\n",
       "      <th>0</th>\n",
       "      <td>3667963787</td>\n",
       "      <td>3312258926</td>\n",
       "      <td>2019-08-15</td>\n",
       "      <td>1650</td>\n",
       "      <td>B</td>\n",
       "    </tr>\n",
       "    <tr>\n",
       "      <th>1</th>\n",
       "      <td>2804400009</td>\n",
       "      <td>3642806036</td>\n",
       "      <td>2019-08-15</td>\n",
       "      <td>730</td>\n",
       "      <td>B</td>\n",
       "    </tr>\n",
       "    <tr>\n",
       "      <th>2</th>\n",
       "      <td>2961555356</td>\n",
       "      <td>4069496402</td>\n",
       "      <td>2019-08-15</td>\n",
       "      <td>400</td>\n",
       "      <td>A</td>\n",
       "    </tr>\n",
       "    <tr>\n",
       "      <th>3</th>\n",
       "      <td>3797467345</td>\n",
       "      <td>1196621759</td>\n",
       "      <td>2019-08-15</td>\n",
       "      <td>9759</td>\n",
       "      <td>B</td>\n",
       "    </tr>\n",
       "    <tr>\n",
       "      <th>4</th>\n",
       "      <td>2282983706</td>\n",
       "      <td>2322279887</td>\n",
       "      <td>2019-08-15</td>\n",
       "      <td>2308</td>\n",
       "      <td>B</td>\n",
       "    </tr>\n",
       "  </tbody>\n",
       "</table>\n",
       "</div>"
      ],
      "text/plain": [
       "   transactionId   visitorId        date  revenue group\n",
       "0     3667963787  3312258926  2019-08-15     1650     B\n",
       "1     2804400009  3642806036  2019-08-15      730     B\n",
       "2     2961555356  4069496402  2019-08-15      400     A\n",
       "3     3797467345  1196621759  2019-08-15     9759     B\n",
       "4     2282983706  2322279887  2019-08-15     2308     B"
      ]
     },
     "metadata": {},
     "output_type": "display_data"
    },
    {
     "name": "stdout",
     "output_type": "stream",
     "text": [
      "--------------------------------------------------------------------------------\n",
      "<class 'pandas.core.frame.DataFrame'>\n",
      "RangeIndex: 1197 entries, 0 to 1196\n",
      "Data columns (total 5 columns):\n",
      " #   Column         Non-Null Count  Dtype \n",
      "---  ------         --------------  ----- \n",
      " 0   transactionId  1197 non-null   int64 \n",
      " 1   visitorId      1197 non-null   int64 \n",
      " 2   date           1197 non-null   object\n",
      " 3   revenue        1197 non-null   int64 \n",
      " 4   group          1197 non-null   object\n",
      "dtypes: int64(3), object(2)\n",
      "memory usage: 46.9+ KB\n",
      "None\n"
     ]
    },
    {
     "data": {
      "text/plain": [
       "'--------------------------------------------------------------------------------'"
      ]
     },
     "metadata": {},
     "output_type": "display_data"
    },
    {
     "name": "stdout",
     "output_type": "stream",
     "text": [
      "transactionId    0\n",
      "visitorId        0\n",
      "date             0\n",
      "revenue          0\n",
      "group            0\n",
      "dtype: int64\n"
     ]
    },
    {
     "data": {
      "text/plain": [
       "'--------------------------------------------------------------------------------'"
      ]
     },
     "metadata": {},
     "output_type": "display_data"
    },
    {
     "data": {
      "text/html": [
       "<div>\n",
       "<style scoped>\n",
       "    .dataframe tbody tr th:only-of-type {\n",
       "        vertical-align: middle;\n",
       "    }\n",
       "\n",
       "    .dataframe tbody tr th {\n",
       "        vertical-align: top;\n",
       "    }\n",
       "\n",
       "    .dataframe thead th {\n",
       "        text-align: right;\n",
       "    }\n",
       "</style>\n",
       "<table border=\"1\" class=\"dataframe\">\n",
       "  <thead>\n",
       "    <tr style=\"text-align: right;\">\n",
       "      <th></th>\n",
       "      <th>transactionId</th>\n",
       "      <th>visitorId</th>\n",
       "      <th>revenue</th>\n",
       "    </tr>\n",
       "  </thead>\n",
       "  <tbody>\n",
       "    <tr>\n",
       "      <th>count</th>\n",
       "      <td>1.197000e+03</td>\n",
       "      <td>1.197000e+03</td>\n",
       "      <td>1.197000e+03</td>\n",
       "    </tr>\n",
       "    <tr>\n",
       "      <th>mean</th>\n",
       "      <td>2.155621e+09</td>\n",
       "      <td>2.165960e+09</td>\n",
       "      <td>8.348006e+03</td>\n",
       "    </tr>\n",
       "    <tr>\n",
       "      <th>std</th>\n",
       "      <td>1.229085e+09</td>\n",
       "      <td>1.236014e+09</td>\n",
       "      <td>3.919113e+04</td>\n",
       "    </tr>\n",
       "    <tr>\n",
       "      <th>min</th>\n",
       "      <td>1.062393e+06</td>\n",
       "      <td>5.114589e+06</td>\n",
       "      <td>5.000000e+01</td>\n",
       "    </tr>\n",
       "    <tr>\n",
       "      <th>25%</th>\n",
       "      <td>1.166776e+09</td>\n",
       "      <td>1.111826e+09</td>\n",
       "      <td>1.220000e+03</td>\n",
       "    </tr>\n",
       "    <tr>\n",
       "      <th>50%</th>\n",
       "      <td>2.145194e+09</td>\n",
       "      <td>2.217985e+09</td>\n",
       "      <td>2.978000e+03</td>\n",
       "    </tr>\n",
       "    <tr>\n",
       "      <th>75%</th>\n",
       "      <td>3.237740e+09</td>\n",
       "      <td>3.177606e+09</td>\n",
       "      <td>8.290000e+03</td>\n",
       "    </tr>\n",
       "    <tr>\n",
       "      <th>max</th>\n",
       "      <td>4.293856e+09</td>\n",
       "      <td>4.283872e+09</td>\n",
       "      <td>1.294500e+06</td>\n",
       "    </tr>\n",
       "  </tbody>\n",
       "</table>\n",
       "</div>"
      ],
      "text/plain": [
       "       transactionId     visitorId       revenue\n",
       "count   1.197000e+03  1.197000e+03  1.197000e+03\n",
       "mean    2.155621e+09  2.165960e+09  8.348006e+03\n",
       "std     1.229085e+09  1.236014e+09  3.919113e+04\n",
       "min     1.062393e+06  5.114589e+06  5.000000e+01\n",
       "25%     1.166776e+09  1.111826e+09  1.220000e+03\n",
       "50%     2.145194e+09  2.217985e+09  2.978000e+03\n",
       "75%     3.237740e+09  3.177606e+09  8.290000e+03\n",
       "max     4.293856e+09  4.283872e+09  1.294500e+06"
      ]
     },
     "metadata": {},
     "output_type": "display_data"
    },
    {
     "data": {
      "text/plain": [
       "'--------------------------------------------------------------------------------'"
      ]
     },
     "metadata": {},
     "output_type": "display_data"
    }
   ],
   "source": [
    "# обзор данных \"orders\"\n",
    "df_review(orders)"
   ]
  },
  {
   "cell_type": "markdown",
   "id": "807cdf95",
   "metadata": {},
   "source": [
    "Пропусков в данных нет, явных дубликатов нет, но тип данных в столбце \"date\" необходимо скорретировать с object на datetime. Также необходимо переименовать столбцы для лучшей читаемости."
   ]
  },
  {
   "cell_type": "code",
   "execution_count": 7,
   "id": "571b1ea1",
   "metadata": {},
   "outputs": [
    {
     "data": {
      "text/html": [
       "<div>\n",
       "<style scoped>\n",
       "    .dataframe tbody tr th:only-of-type {\n",
       "        vertical-align: middle;\n",
       "    }\n",
       "\n",
       "    .dataframe tbody tr th {\n",
       "        vertical-align: top;\n",
       "    }\n",
       "\n",
       "    .dataframe thead th {\n",
       "        text-align: right;\n",
       "    }\n",
       "</style>\n",
       "<table border=\"1\" class=\"dataframe\">\n",
       "  <thead>\n",
       "    <tr style=\"text-align: right;\">\n",
       "      <th></th>\n",
       "      <th>transaction_id</th>\n",
       "      <th>visitor_id</th>\n",
       "      <th>date</th>\n",
       "      <th>revenue</th>\n",
       "      <th>group</th>\n",
       "    </tr>\n",
       "  </thead>\n",
       "  <tbody>\n",
       "    <tr>\n",
       "      <th>0</th>\n",
       "      <td>3667963787</td>\n",
       "      <td>3312258926</td>\n",
       "      <td>2019-08-15</td>\n",
       "      <td>1650</td>\n",
       "      <td>B</td>\n",
       "    </tr>\n",
       "    <tr>\n",
       "      <th>1</th>\n",
       "      <td>2804400009</td>\n",
       "      <td>3642806036</td>\n",
       "      <td>2019-08-15</td>\n",
       "      <td>730</td>\n",
       "      <td>B</td>\n",
       "    </tr>\n",
       "    <tr>\n",
       "      <th>2</th>\n",
       "      <td>2961555356</td>\n",
       "      <td>4069496402</td>\n",
       "      <td>2019-08-15</td>\n",
       "      <td>400</td>\n",
       "      <td>A</td>\n",
       "    </tr>\n",
       "    <tr>\n",
       "      <th>3</th>\n",
       "      <td>3797467345</td>\n",
       "      <td>1196621759</td>\n",
       "      <td>2019-08-15</td>\n",
       "      <td>9759</td>\n",
       "      <td>B</td>\n",
       "    </tr>\n",
       "    <tr>\n",
       "      <th>4</th>\n",
       "      <td>2282983706</td>\n",
       "      <td>2322279887</td>\n",
       "      <td>2019-08-15</td>\n",
       "      <td>2308</td>\n",
       "      <td>B</td>\n",
       "    </tr>\n",
       "  </tbody>\n",
       "</table>\n",
       "</div>"
      ],
      "text/plain": [
       "   transaction_id  visitor_id        date  revenue group\n",
       "0      3667963787  3312258926  2019-08-15     1650     B\n",
       "1      2804400009  3642806036  2019-08-15      730     B\n",
       "2      2961555356  4069496402  2019-08-15      400     A\n",
       "3      3797467345  1196621759  2019-08-15     9759     B\n",
       "4      2282983706  2322279887  2019-08-15     2308     B"
      ]
     },
     "execution_count": 7,
     "metadata": {},
     "output_type": "execute_result"
    }
   ],
   "source": [
    "#переименуем столбцы добавив \"_\"\n",
    "orders=orders.rename(columns={'transactionId':'transaction_id','visitorId':'visitor_id'})\n",
    "orders.head()"
   ]
  },
  {
   "cell_type": "code",
   "execution_count": 8,
   "id": "003d619b",
   "metadata": {},
   "outputs": [
    {
     "name": "stdout",
     "output_type": "stream",
     "text": [
      "datetime64[ns]\n"
     ]
    }
   ],
   "source": [
    "# изменение типа данных в столбце с датами\n",
    "orders['date'] = orders['date'].map(lambda x: dt.datetime.strptime(x, '%Y-%m-%d'))\n",
    "# проверка типа данных\n",
    "print(orders['date'].dtypes)"
   ]
  },
  {
   "cell_type": "markdown",
   "id": "80503cfd",
   "metadata": {},
   "source": [
    "**Данные датафрейма \"orders\" целостные, корректные, типы  данных правильные, дубликатов нет - таблица готова к анализу.**"
   ]
  },
  {
   "cell_type": "markdown",
   "id": "5bf99847",
   "metadata": {},
   "source": [
    "<a id='4-bullet'></a>\n",
    "## 1.4 Предобработка таблицы visitors - посетители"
   ]
  },
  {
   "cell_type": "code",
   "execution_count": 9,
   "id": "f6f86226",
   "metadata": {},
   "outputs": [
    {
     "data": {
      "text/html": [
       "<div>\n",
       "<style scoped>\n",
       "    .dataframe tbody tr th:only-of-type {\n",
       "        vertical-align: middle;\n",
       "    }\n",
       "\n",
       "    .dataframe tbody tr th {\n",
       "        vertical-align: top;\n",
       "    }\n",
       "\n",
       "    .dataframe thead th {\n",
       "        text-align: right;\n",
       "    }\n",
       "</style>\n",
       "<table border=\"1\" class=\"dataframe\">\n",
       "  <thead>\n",
       "    <tr style=\"text-align: right;\">\n",
       "      <th></th>\n",
       "      <th>date</th>\n",
       "      <th>group</th>\n",
       "      <th>visitors</th>\n",
       "    </tr>\n",
       "  </thead>\n",
       "  <tbody>\n",
       "    <tr>\n",
       "      <th>0</th>\n",
       "      <td>2019-08-01</td>\n",
       "      <td>A</td>\n",
       "      <td>719</td>\n",
       "    </tr>\n",
       "    <tr>\n",
       "      <th>1</th>\n",
       "      <td>2019-08-02</td>\n",
       "      <td>A</td>\n",
       "      <td>619</td>\n",
       "    </tr>\n",
       "    <tr>\n",
       "      <th>2</th>\n",
       "      <td>2019-08-03</td>\n",
       "      <td>A</td>\n",
       "      <td>507</td>\n",
       "    </tr>\n",
       "    <tr>\n",
       "      <th>3</th>\n",
       "      <td>2019-08-04</td>\n",
       "      <td>A</td>\n",
       "      <td>717</td>\n",
       "    </tr>\n",
       "    <tr>\n",
       "      <th>4</th>\n",
       "      <td>2019-08-05</td>\n",
       "      <td>A</td>\n",
       "      <td>756</td>\n",
       "    </tr>\n",
       "  </tbody>\n",
       "</table>\n",
       "</div>"
      ],
      "text/plain": [
       "         date group  visitors\n",
       "0  2019-08-01     A       719\n",
       "1  2019-08-02     A       619\n",
       "2  2019-08-03     A       507\n",
       "3  2019-08-04     A       717\n",
       "4  2019-08-05     A       756"
      ]
     },
     "metadata": {},
     "output_type": "display_data"
    },
    {
     "name": "stdout",
     "output_type": "stream",
     "text": [
      "--------------------------------------------------------------------------------\n",
      "<class 'pandas.core.frame.DataFrame'>\n",
      "RangeIndex: 62 entries, 0 to 61\n",
      "Data columns (total 3 columns):\n",
      " #   Column    Non-Null Count  Dtype \n",
      "---  ------    --------------  ----- \n",
      " 0   date      62 non-null     object\n",
      " 1   group     62 non-null     object\n",
      " 2   visitors  62 non-null     int64 \n",
      "dtypes: int64(1), object(2)\n",
      "memory usage: 1.6+ KB\n",
      "None\n"
     ]
    },
    {
     "data": {
      "text/plain": [
       "'--------------------------------------------------------------------------------'"
      ]
     },
     "metadata": {},
     "output_type": "display_data"
    },
    {
     "name": "stdout",
     "output_type": "stream",
     "text": [
      "date        0\n",
      "group       0\n",
      "visitors    0\n",
      "dtype: int64\n"
     ]
    },
    {
     "data": {
      "text/plain": [
       "'--------------------------------------------------------------------------------'"
      ]
     },
     "metadata": {},
     "output_type": "display_data"
    },
    {
     "data": {
      "text/html": [
       "<div>\n",
       "<style scoped>\n",
       "    .dataframe tbody tr th:only-of-type {\n",
       "        vertical-align: middle;\n",
       "    }\n",
       "\n",
       "    .dataframe tbody tr th {\n",
       "        vertical-align: top;\n",
       "    }\n",
       "\n",
       "    .dataframe thead th {\n",
       "        text-align: right;\n",
       "    }\n",
       "</style>\n",
       "<table border=\"1\" class=\"dataframe\">\n",
       "  <thead>\n",
       "    <tr style=\"text-align: right;\">\n",
       "      <th></th>\n",
       "      <th>visitors</th>\n",
       "    </tr>\n",
       "  </thead>\n",
       "  <tbody>\n",
       "    <tr>\n",
       "      <th>count</th>\n",
       "      <td>62.000000</td>\n",
       "    </tr>\n",
       "    <tr>\n",
       "      <th>mean</th>\n",
       "      <td>607.290323</td>\n",
       "    </tr>\n",
       "    <tr>\n",
       "      <th>std</th>\n",
       "      <td>114.400560</td>\n",
       "    </tr>\n",
       "    <tr>\n",
       "      <th>min</th>\n",
       "      <td>361.000000</td>\n",
       "    </tr>\n",
       "    <tr>\n",
       "      <th>25%</th>\n",
       "      <td>534.000000</td>\n",
       "    </tr>\n",
       "    <tr>\n",
       "      <th>50%</th>\n",
       "      <td>624.500000</td>\n",
       "    </tr>\n",
       "    <tr>\n",
       "      <th>75%</th>\n",
       "      <td>710.500000</td>\n",
       "    </tr>\n",
       "    <tr>\n",
       "      <th>max</th>\n",
       "      <td>770.000000</td>\n",
       "    </tr>\n",
       "  </tbody>\n",
       "</table>\n",
       "</div>"
      ],
      "text/plain": [
       "         visitors\n",
       "count   62.000000\n",
       "mean   607.290323\n",
       "std    114.400560\n",
       "min    361.000000\n",
       "25%    534.000000\n",
       "50%    624.500000\n",
       "75%    710.500000\n",
       "max    770.000000"
      ]
     },
     "metadata": {},
     "output_type": "display_data"
    },
    {
     "data": {
      "text/plain": [
       "'--------------------------------------------------------------------------------'"
      ]
     },
     "metadata": {},
     "output_type": "display_data"
    }
   ],
   "source": [
    "# обзор данных \"orders\"\n",
    "df_review(visitors)"
   ]
  },
  {
   "cell_type": "markdown",
   "id": "a1e01ec5",
   "metadata": {},
   "source": [
    "Пропусков в данных нет, явных дубликатов нет, но тип данных в столбце \"date\" необходимо скорретировать с object на datetime. "
   ]
  },
  {
   "cell_type": "code",
   "execution_count": 10,
   "id": "7d71fc10",
   "metadata": {},
   "outputs": [
    {
     "name": "stdout",
     "output_type": "stream",
     "text": [
      "datetime64[ns]\n"
     ]
    }
   ],
   "source": [
    "# изменение типа данных в столбце с датами\n",
    "visitors['date'] = visitors['date'].map(lambda x: dt.datetime.strptime(x, '%Y-%m-%d'))\n",
    "# проверка типа данных\n",
    "print(visitors['date'].dtypes)"
   ]
  },
  {
   "cell_type": "markdown",
   "id": "9214a9d5",
   "metadata": {},
   "source": [
    "**Данные датафрейма \"orders\" целостные, корректные, типы  данных правильные, дубликатов нет - таблица готова к анализу.**"
   ]
  },
  {
   "cell_type": "markdown",
   "id": "f6aa3785",
   "metadata": {},
   "source": [
    "<a id='5-bullet'></a>\n",
    "## ВЫВОД ПО РАЗДЕЛУ 1\n",
    "\n",
    "В части предобработки данных была проделана следующая работа:\n",
    "- загрузка библиотек и файлов с данными и первичное ознакомление c 3-мя таблицами гипотезы, заказы и посетители\n",
    "- проверка на явные дубликаты: явные дубликаты отсутствуют\n",
    "- проверка наличия пропущенных значений : пропуски в данных отсутсвуют\n",
    "- в таблице с гипотезами названия столбцов приведены к нижнему регистру \n",
    "- проверка типа данных : замена типов данных в формат даты\n",
    "    (датасет заказы: столбец с датами;\n",
    "     датасет посетители: столбец с датами;)\n",
    "- для лучшего восприятия названия столбцов в датасете с  заказами переписаны с нижним подчеркиванием вместо слитного написания"
   ]
  },
  {
   "cell_type": "markdown",
   "id": "80584d92",
   "metadata": {},
   "source": [
    "<div class=\"alert alert-success\">\n",
    "    <b>✅ Комментарий ревьюера:</b>\n",
    "\n",
    "Отличная предобработка!\n",
    "</div>"
   ]
  },
  {
   "cell_type": "markdown",
   "id": "cc7c94e8",
   "metadata": {},
   "source": [
    "<a id='6-bullet'></a>\n",
    "# Раздел 2. Приоритизация гипотез"
   ]
  },
  {
   "cell_type": "markdown",
   "id": "f3bf87fa",
   "metadata": {},
   "source": [
    "**Этапы данного раздела:**\n",
    "- Применить фреймворк ICE для приоритизации гипотез. Отсортировать их по убыванию приоритета.\n",
    "- Применить фреймворк RICE для приоритизации гипотез. Отсортировать их по убыванию приоритета.\n",
    "- Указать, как изменилась приоритизация гипотез при применении RICE вместо ICE. Объяснить, почему так произошло."
   ]
  },
  {
   "cell_type": "markdown",
   "id": "52e3a8dd",
   "metadata": {},
   "source": [
    "<a id='7-bullet'></a>\n",
    "## 2.1 Фреймворк ICE для приоритизации гипотез"
   ]
  },
  {
   "attachments": {
    "image-2.png": {
     "image/png": "[encoded data removed]"
    }
   },
   "cell_type": "markdown",
   "id": "4fd41a47",
   "metadata": {},
   "source": [
    "ICE (от англ. impact, confidence, effort / ease «влияние, уверенность, усилия / простота») — один из самых популярных способов приоритизации задач:\n",
    "![image-2.png](attachment:image-2.png)"
   ]
  },
  {
   "cell_type": "code",
   "execution_count": 11,
   "id": "d51c7670",
   "metadata": {},
   "outputs": [
    {
     "data": {
      "text/html": [
       "<div>\n",
       "<style scoped>\n",
       "    .dataframe tbody tr th:only-of-type {\n",
       "        vertical-align: middle;\n",
       "    }\n",
       "\n",
       "    .dataframe tbody tr th {\n",
       "        vertical-align: top;\n",
       "    }\n",
       "\n",
       "    .dataframe thead th {\n",
       "        text-align: right;\n",
       "    }\n",
       "</style>\n",
       "<table border=\"1\" class=\"dataframe\">\n",
       "  <thead>\n",
       "    <tr style=\"text-align: right;\">\n",
       "      <th></th>\n",
       "      <th>hypothesis</th>\n",
       "      <th>ice</th>\n",
       "    </tr>\n",
       "  </thead>\n",
       "  <tbody>\n",
       "    <tr>\n",
       "      <th>8</th>\n",
       "      <td>Запустить акцию, дающую скидку на товар в день рождения</td>\n",
       "      <td>16.20</td>\n",
       "    </tr>\n",
       "    <tr>\n",
       "      <th>0</th>\n",
       "      <td>Добавить два новых канала привлечения трафика, что позволит привлекать на 30% больше пользователей</td>\n",
       "      <td>13.33</td>\n",
       "    </tr>\n",
       "    <tr>\n",
       "      <th>7</th>\n",
       "      <td>Добавить форму подписки на все основные страницы, чтобы собрать базу клиентов для email-рассылок</td>\n",
       "      <td>11.20</td>\n",
       "    </tr>\n",
       "    <tr>\n",
       "      <th>6</th>\n",
       "      <td>Показать на главной странице баннеры с актуальными акциями и распродажами, чтобы увеличить конверсию</td>\n",
       "      <td>8.00</td>\n",
       "    </tr>\n",
       "    <tr>\n",
       "      <th>2</th>\n",
       "      <td>Добавить блоки рекомендаций товаров на сайт интернет магазина, чтобы повысить конверсию и средний чек заказа</td>\n",
       "      <td>7.00</td>\n",
       "    </tr>\n",
       "    <tr>\n",
       "      <th>1</th>\n",
       "      <td>Запустить собственную службу доставки, что сократит срок доставки заказов</td>\n",
       "      <td>2.00</td>\n",
       "    </tr>\n",
       "    <tr>\n",
       "      <th>5</th>\n",
       "      <td>Добавить страницу отзывов клиентов о магазине, что позволит увеличить количество заказов</td>\n",
       "      <td>1.33</td>\n",
       "    </tr>\n",
       "    <tr>\n",
       "      <th>3</th>\n",
       "      <td>Изменить структура категорий, что увеличит конверсию, т.к. пользователи быстрее найдут нужный товар</td>\n",
       "      <td>1.12</td>\n",
       "    </tr>\n",
       "    <tr>\n",
       "      <th>4</th>\n",
       "      <td>Изменить цвет фона главной страницы, чтобы увеличить вовлеченность пользователей</td>\n",
       "      <td>1.00</td>\n",
       "    </tr>\n",
       "  </tbody>\n",
       "</table>\n",
       "</div>"
      ],
      "text/plain": [
       "                                                                                                     hypothesis  \\\n",
       "8                                                       Запустить акцию, дающую скидку на товар в день рождения   \n",
       "0            Добавить два новых канала привлечения трафика, что позволит привлекать на 30% больше пользователей   \n",
       "7              Добавить форму подписки на все основные страницы, чтобы собрать базу клиентов для email-рассылок   \n",
       "6          Показать на главной странице баннеры с актуальными акциями и распродажами, чтобы увеличить конверсию   \n",
       "2  Добавить блоки рекомендаций товаров на сайт интернет магазина, чтобы повысить конверсию и средний чек заказа   \n",
       "1                                     Запустить собственную службу доставки, что сократит срок доставки заказов   \n",
       "5                      Добавить страницу отзывов клиентов о магазине, что позволит увеличить количество заказов   \n",
       "3           Изменить структура категорий, что увеличит конверсию, т.к. пользователи быстрее найдут нужный товар   \n",
       "4                              Изменить цвет фона главной страницы, чтобы увеличить вовлеченность пользователей   \n",
       "\n",
       "     ice  \n",
       "8  16.20  \n",
       "0  13.33  \n",
       "7  11.20  \n",
       "6   8.00  \n",
       "2   7.00  \n",
       "1   2.00  \n",
       "5   1.33  \n",
       "3   1.12  \n",
       "4   1.00  "
      ]
     },
     "execution_count": 11,
     "metadata": {},
     "output_type": "execute_result"
    }
   ],
   "source": [
    "# создаем новый столбец ice и отсортируем по убыванию приоритета\n",
    "hypothesis['ice']=hypothesis['impact']*hypothesis['confidence']/hypothesis['efforts']\n",
    "pd.set_option('display.max_colwidth', 500)\n",
    "(hypothesis[['hypothesis','ice']].sort_values(by='ice',ascending=False).round(2))"
   ]
  },
  {
   "cell_type": "markdown",
   "id": "41fdc9c9",
   "metadata": {},
   "source": [
    "<div class=\"alert alert-success\">\n",
    "    <b>✅ Комментарий ревьюера:</b>\n",
    "\n",
    "Молодец что вывела гипотезы полностью и округлила результаты!\n",
    "</div>"
   ]
  },
  {
   "cell_type": "markdown",
   "id": "35cd5af1",
   "metadata": {},
   "source": [
    "**Вывод: наиболее приоритетные гипотезы по ICE**\n",
    "\n",
    "- Запустить акцию, дающую скидку на товар в день рождения;\n",
    "- Добавить два новых канала привлечения трафика, что позволит привлекать на 30% больше пользователей;\n",
    "- Добавить форму подписки на все основные страницы, чтобы собрать базу клиентов для email-рассылок"
   ]
  },
  {
   "cell_type": "markdown",
   "id": "dc32d9b3",
   "metadata": {},
   "source": [
    "<a id='8-bullet'></a>\n",
    "## 2.2 Фреймворк RICE для приоритизации гипотез"
   ]
  },
  {
   "attachments": {
    "image.png": {
     "image/png": "[encoded data removed]"
    }
   },
   "cell_type": "markdown",
   "id": "cf2ff5d3",
   "metadata": {},
   "source": [
    "Фреймворк RICE состоит из четырёх компонент:\n",
    "\n",
    "- Reach — скольких пользователей затронет изменение, которое вы хотите внести;\n",
    "- Impact — насколько сильно изменение повлияет на пользователей, их опыт и удовлетворение от продукта;\n",
    "- Confidence — насколько вы уверены, что это изменение повлияет на пользователей именно так; \n",
    "- Efforts — сколько стоит протестировать эту гипотезу. \n",
    "![image.png](attachment:image.png)"
   ]
  },
  {
   "cell_type": "code",
   "execution_count": 12,
   "id": "6a3ee6c4",
   "metadata": {},
   "outputs": [
    {
     "data": {
      "text/html": [
       "<div>\n",
       "<style scoped>\n",
       "    .dataframe tbody tr th:only-of-type {\n",
       "        vertical-align: middle;\n",
       "    }\n",
       "\n",
       "    .dataframe tbody tr th {\n",
       "        vertical-align: top;\n",
       "    }\n",
       "\n",
       "    .dataframe thead th {\n",
       "        text-align: right;\n",
       "    }\n",
       "</style>\n",
       "<table border=\"1\" class=\"dataframe\">\n",
       "  <thead>\n",
       "    <tr style=\"text-align: right;\">\n",
       "      <th></th>\n",
       "      <th>hypothesis</th>\n",
       "      <th>rice</th>\n",
       "    </tr>\n",
       "  </thead>\n",
       "  <tbody>\n",
       "    <tr>\n",
       "      <th>7</th>\n",
       "      <td>Добавить форму подписки на все основные страницы, чтобы собрать базу клиентов для email-рассылок</td>\n",
       "      <td>112.0</td>\n",
       "    </tr>\n",
       "    <tr>\n",
       "      <th>2</th>\n",
       "      <td>Добавить блоки рекомендаций товаров на сайт интернет магазина, чтобы повысить конверсию и средний чек заказа</td>\n",
       "      <td>56.0</td>\n",
       "    </tr>\n",
       "    <tr>\n",
       "      <th>0</th>\n",
       "      <td>Добавить два новых канала привлечения трафика, что позволит привлекать на 30% больше пользователей</td>\n",
       "      <td>40.0</td>\n",
       "    </tr>\n",
       "    <tr>\n",
       "      <th>6</th>\n",
       "      <td>Показать на главной странице баннеры с актуальными акциями и распродажами, чтобы увеличить конверсию</td>\n",
       "      <td>40.0</td>\n",
       "    </tr>\n",
       "    <tr>\n",
       "      <th>8</th>\n",
       "      <td>Запустить акцию, дающую скидку на товар в день рождения</td>\n",
       "      <td>16.2</td>\n",
       "    </tr>\n",
       "    <tr>\n",
       "      <th>3</th>\n",
       "      <td>Изменить структура категорий, что увеличит конверсию, т.к. пользователи быстрее найдут нужный товар</td>\n",
       "      <td>9.0</td>\n",
       "    </tr>\n",
       "    <tr>\n",
       "      <th>1</th>\n",
       "      <td>Запустить собственную службу доставки, что сократит срок доставки заказов</td>\n",
       "      <td>4.0</td>\n",
       "    </tr>\n",
       "    <tr>\n",
       "      <th>5</th>\n",
       "      <td>Добавить страницу отзывов клиентов о магазине, что позволит увеличить количество заказов</td>\n",
       "      <td>4.0</td>\n",
       "    </tr>\n",
       "    <tr>\n",
       "      <th>4</th>\n",
       "      <td>Изменить цвет фона главной страницы, чтобы увеличить вовлеченность пользователей</td>\n",
       "      <td>3.0</td>\n",
       "    </tr>\n",
       "  </tbody>\n",
       "</table>\n",
       "</div>"
      ],
      "text/plain": [
       "                                                                                                     hypothesis  \\\n",
       "7              Добавить форму подписки на все основные страницы, чтобы собрать базу клиентов для email-рассылок   \n",
       "2  Добавить блоки рекомендаций товаров на сайт интернет магазина, чтобы повысить конверсию и средний чек заказа   \n",
       "0            Добавить два новых канала привлечения трафика, что позволит привлекать на 30% больше пользователей   \n",
       "6          Показать на главной странице баннеры с актуальными акциями и распродажами, чтобы увеличить конверсию   \n",
       "8                                                       Запустить акцию, дающую скидку на товар в день рождения   \n",
       "3           Изменить структура категорий, что увеличит конверсию, т.к. пользователи быстрее найдут нужный товар   \n",
       "1                                     Запустить собственную службу доставки, что сократит срок доставки заказов   \n",
       "5                      Добавить страницу отзывов клиентов о магазине, что позволит увеличить количество заказов   \n",
       "4                              Изменить цвет фона главной страницы, чтобы увеличить вовлеченность пользователей   \n",
       "\n",
       "    rice  \n",
       "7  112.0  \n",
       "2   56.0  \n",
       "0   40.0  \n",
       "6   40.0  \n",
       "8   16.2  \n",
       "3    9.0  \n",
       "1    4.0  \n",
       "5    4.0  \n",
       "4    3.0  "
      ]
     },
     "execution_count": 12,
     "metadata": {},
     "output_type": "execute_result"
    }
   ],
   "source": [
    "# создаем новый столбец rice и отсортируем по убыванию приоритета\n",
    "hypothesis['rice']=hypothesis['reach']*hypothesis['impact']*hypothesis['confidence']/hypothesis['efforts']\n",
    "pd.set_option('display.max_colwidth', 500)\n",
    "(hypothesis[['hypothesis','rice']].sort_values(by='rice',ascending=False).round(2))"
   ]
  },
  {
   "cell_type": "markdown",
   "id": "7a9a47ba",
   "metadata": {},
   "source": [
    "**Вывод: наиболее приоритетные гипотезы по RICE**\n",
    "\n",
    "- Добавить форму подписки на все основные страницы, чтобы собрать базу клиентов для email-рассылок;\n",
    "- Добавить блоки рекомендаций товаров на сайт интернет магазина, чтобы повысить конверсию и средний чек заказа';\n",
    "- Добавить два новых канала привлечения трафика, что позволит привлекать на 30% больше пользователей"
   ]
  },
  {
   "cell_type": "markdown",
   "id": "1d6ac141",
   "metadata": {},
   "source": [
    "<a id='9-bullet'></a>\n",
    "## 2.3  Сравнение приоритизации гипотез фремворками ICE  и RICE. Отличия приоритизации."
   ]
  },
  {
   "cell_type": "code",
   "execution_count": 13,
   "id": "05a25dc8",
   "metadata": {},
   "outputs": [
    {
     "data": {
      "text/html": [
       "<div>\n",
       "<style scoped>\n",
       "    .dataframe tbody tr th:only-of-type {\n",
       "        vertical-align: middle;\n",
       "    }\n",
       "\n",
       "    .dataframe tbody tr th {\n",
       "        vertical-align: top;\n",
       "    }\n",
       "\n",
       "    .dataframe thead th {\n",
       "        text-align: right;\n",
       "    }\n",
       "</style>\n",
       "<table border=\"1\" class=\"dataframe\">\n",
       "  <thead>\n",
       "    <tr style=\"text-align: right;\">\n",
       "      <th></th>\n",
       "      <th>hypothesis</th>\n",
       "      <th>reach</th>\n",
       "      <th>impact</th>\n",
       "      <th>confidence</th>\n",
       "      <th>efforts</th>\n",
       "      <th>ice</th>\n",
       "      <th>rice</th>\n",
       "    </tr>\n",
       "  </thead>\n",
       "  <tbody>\n",
       "    <tr>\n",
       "      <th>8</th>\n",
       "      <td>Запустить акцию, дающую скидку на товар в день рождения</td>\n",
       "      <td>1</td>\n",
       "      <td>9</td>\n",
       "      <td>9</td>\n",
       "      <td>5</td>\n",
       "      <td>16.20</td>\n",
       "      <td>16.2</td>\n",
       "    </tr>\n",
       "    <tr>\n",
       "      <th>0</th>\n",
       "      <td>Добавить два новых канала привлечения трафика, что позволит привлекать на 30% больше пользователей</td>\n",
       "      <td>3</td>\n",
       "      <td>10</td>\n",
       "      <td>8</td>\n",
       "      <td>6</td>\n",
       "      <td>13.33</td>\n",
       "      <td>40.0</td>\n",
       "    </tr>\n",
       "    <tr>\n",
       "      <th>7</th>\n",
       "      <td>Добавить форму подписки на все основные страницы, чтобы собрать базу клиентов для email-рассылок</td>\n",
       "      <td>10</td>\n",
       "      <td>7</td>\n",
       "      <td>8</td>\n",
       "      <td>5</td>\n",
       "      <td>11.20</td>\n",
       "      <td>112.0</td>\n",
       "    </tr>\n",
       "    <tr>\n",
       "      <th>6</th>\n",
       "      <td>Показать на главной странице баннеры с актуальными акциями и распродажами, чтобы увеличить конверсию</td>\n",
       "      <td>5</td>\n",
       "      <td>3</td>\n",
       "      <td>8</td>\n",
       "      <td>3</td>\n",
       "      <td>8.00</td>\n",
       "      <td>40.0</td>\n",
       "    </tr>\n",
       "    <tr>\n",
       "      <th>2</th>\n",
       "      <td>Добавить блоки рекомендаций товаров на сайт интернет магазина, чтобы повысить конверсию и средний чек заказа</td>\n",
       "      <td>8</td>\n",
       "      <td>3</td>\n",
       "      <td>7</td>\n",
       "      <td>3</td>\n",
       "      <td>7.00</td>\n",
       "      <td>56.0</td>\n",
       "    </tr>\n",
       "    <tr>\n",
       "      <th>1</th>\n",
       "      <td>Запустить собственную службу доставки, что сократит срок доставки заказов</td>\n",
       "      <td>2</td>\n",
       "      <td>5</td>\n",
       "      <td>4</td>\n",
       "      <td>10</td>\n",
       "      <td>2.00</td>\n",
       "      <td>4.0</td>\n",
       "    </tr>\n",
       "    <tr>\n",
       "      <th>5</th>\n",
       "      <td>Добавить страницу отзывов клиентов о магазине, что позволит увеличить количество заказов</td>\n",
       "      <td>3</td>\n",
       "      <td>2</td>\n",
       "      <td>2</td>\n",
       "      <td>3</td>\n",
       "      <td>1.33</td>\n",
       "      <td>4.0</td>\n",
       "    </tr>\n",
       "    <tr>\n",
       "      <th>3</th>\n",
       "      <td>Изменить структура категорий, что увеличит конверсию, т.к. пользователи быстрее найдут нужный товар</td>\n",
       "      <td>8</td>\n",
       "      <td>3</td>\n",
       "      <td>3</td>\n",
       "      <td>8</td>\n",
       "      <td>1.12</td>\n",
       "      <td>9.0</td>\n",
       "    </tr>\n",
       "    <tr>\n",
       "      <th>4</th>\n",
       "      <td>Изменить цвет фона главной страницы, чтобы увеличить вовлеченность пользователей</td>\n",
       "      <td>3</td>\n",
       "      <td>1</td>\n",
       "      <td>1</td>\n",
       "      <td>1</td>\n",
       "      <td>1.00</td>\n",
       "      <td>3.0</td>\n",
       "    </tr>\n",
       "  </tbody>\n",
       "</table>\n",
       "</div>"
      ],
      "text/plain": [
       "                                                                                                     hypothesis  \\\n",
       "8                                                       Запустить акцию, дающую скидку на товар в день рождения   \n",
       "0            Добавить два новых канала привлечения трафика, что позволит привлекать на 30% больше пользователей   \n",
       "7              Добавить форму подписки на все основные страницы, чтобы собрать базу клиентов для email-рассылок   \n",
       "6          Показать на главной странице баннеры с актуальными акциями и распродажами, чтобы увеличить конверсию   \n",
       "2  Добавить блоки рекомендаций товаров на сайт интернет магазина, чтобы повысить конверсию и средний чек заказа   \n",
       "1                                     Запустить собственную службу доставки, что сократит срок доставки заказов   \n",
       "5                      Добавить страницу отзывов клиентов о магазине, что позволит увеличить количество заказов   \n",
       "3           Изменить структура категорий, что увеличит конверсию, т.к. пользователи быстрее найдут нужный товар   \n",
       "4                              Изменить цвет фона главной страницы, чтобы увеличить вовлеченность пользователей   \n",
       "\n",
       "   reach  impact  confidence  efforts    ice   rice  \n",
       "8      1       9           9        5  16.20   16.2  \n",
       "0      3      10           8        6  13.33   40.0  \n",
       "7     10       7           8        5  11.20  112.0  \n",
       "6      5       3           8        3   8.00   40.0  \n",
       "2      8       3           7        3   7.00   56.0  \n",
       "1      2       5           4       10   2.00    4.0  \n",
       "5      3       2           2        3   1.33    4.0  \n",
       "3      8       3           3        8   1.12    9.0  \n",
       "4      3       1           1        1   1.00    3.0  "
      ]
     },
     "execution_count": 13,
     "metadata": {},
     "output_type": "execute_result"
    }
   ],
   "source": [
    "# визуализируем изменение порядка гипотез\n",
    "hypothesis.sort_values(by='ice',ascending=False).round(2)"
   ]
  },
  {
   "cell_type": "markdown",
   "id": "f26c5236",
   "metadata": {},
   "source": [
    "<a id='10-bullet'></a>\n",
    "## ВЫВОД ПО РАЗДЕЛУ 2\n",
    "\n",
    "По результатам  сравнения приоритизации гипотез фремворками ICE  и RICE наблюдаются различия в тройке лидеров. \n",
    "В ICE это гипотезы с индексами 8, 0, 7 ,  в RICE - 7(была на 3 мете), 2(была на 5), 0(на 2); \n",
    "Лидер таблицы ICE - 8 сместился на 5 место, в то время как 2 гипотеза перешла на 2 место с 5. \n",
    "\n",
    "Такое отличие в результатах объясняется тем, что в фреймворке RICE мы учитываем важный параметр - Reach (скольких пользователей затронет изменение, которое мы хотим внести)Б данный параметр не учитывается в ICE. \n",
    "В гипотезах 7 и 2 он очень высок (в 7 он =10 - максимальный! А в 2 он =8,тоже высокий, тогда как  в лидере по ICE - в 8 гипотезе он минимальный =1). \n",
    "\n",
    "В обе тройки лидеров входит нулевая гипотеза, а также на 4-м месте и в RICE и в ICE стоит 6-я гипотеза, которые можно рассмотреть.\n",
    " Учитывая результаты следует  предложить для тестирования гипотезы:\n",
    " - 7 - Добавить форму подписки на все основные страницы, чтобы собрать базу клиентов для email-рассылок;\n",
    " - 0 - Добавить два новых канала привлечения трафика, что позволит привлекать на 30% больше пользователей;\n",
    " - 6- Показать на главной странице баннеры с актуальными акциями и распродажами, чтобы увеличить конверсию"
   ]
  },
  {
   "cell_type": "markdown",
   "id": "5c843574",
   "metadata": {},
   "source": [
    "<div class=\"alert alert-success\">\n",
    "    <b>✅ Комментарий ревьюера:</b>\n",
    "\n",
    "Все верно!\n",
    "</div>"
   ]
  },
  {
   "cell_type": "markdown",
   "id": "6d5912cf",
   "metadata": {},
   "source": [
    "<a id='11-bullet'></a>\n",
    "# РАЗДЕЛ 3. Анализ A/B-теста"
   ]
  },
  {
   "cell_type": "markdown",
   "id": "bd543d38",
   "metadata": {},
   "source": [
    "**Задача:** Проанализировать A/B-тест\n",
    "\n",
    "**Этапы данного раздела:**\n",
    "1.\tПостроить график кумулятивной выручки по группам. Сделать выводы и предположения.\n",
    "2.\tПостроить график кумулятивного среднего чека по группам. Сделать выводы и предположения.\n",
    "3.\tПостроить график относительного изменения кумулятивного среднего чека группы B к группе A. Сделать выводы и предположения.\n",
    "4.\tПостроить график кумулятивного среднего количества заказов на посетителя по группам. Сделать выводы и предположения.\n",
    "5.\tПостроить график относительного изменения кумулятивного среднего количества заказов на посетителя группы B к группе A. Сделать выводы и предположения.\n",
    "6.\tПостроить точечный график количества заказов по пользователям. Сделать выводы и предположения.\n",
    "7.\tПосчитать 95-й и 99-й перцентили количества заказов на пользователя. Выберать границу для определения аномальных пользователей.\n",
    "8.\tПостроить точечный график стоимостей заказов. Сделать выводы и предположения.\n",
    "9.\tПосчитать 95-й и 99-й перцентили стоимости заказов. Выберать границу для определения аномальных заказов.\n",
    "10.\tПосчитать статистическую значимость различий в среднем количестве заказов на посетителя  между группами по «сырым» данным. Сделать выводы и предположения.\n",
    "11.\tПосчитатать статистическую значимость различий в среднем чеке заказа между группами по «сырым» данным. Сделать выводы и предположения.\n",
    "12.\tПосчитать статистическую значимость различий в среднем количестве заказов на посетителя между группами  по «очищенным» данным. Сделать выводы и предположения.\n",
    "13.\tПосчитать статистическую значимость различий в среднем чеке заказа между группами по «очищенным» данным. Сделать выводы и предположения.\n",
    "14.\tПринять решение по результатам теста и объяснить его. Варианты решений: 1. Остановить тест, зафиксировать победу одной из групп. 2. Остановить тест, зафиксировать отсутствие различий между группами. 3. Продолжить тест."
   ]
  },
  {
   "cell_type": "markdown",
   "id": "2f290821",
   "metadata": {},
   "source": [
    "Перед началом анализа А/В теста подробнее ознакомимся с данными."
   ]
  },
  {
   "cell_type": "markdown",
   "id": "85f125ea",
   "metadata": {},
   "source": [
    "Данные для проведения анализа A/B-теста:\n",
    "Столбцы датафрейма orders:\n",
    "- transaction_id — идентификатор заказа;\n",
    "- visitor_id — идентификатор пользователя, совершившего заказ;\n",
    "- date — дата, когда был совершён заказ;\n",
    "- revenue — выручка заказа;\n",
    "- group — группа A/B-теста, в которую попал заказ.\n",
    "Столбцы датафрейма orders: visitors\n",
    "- date — дата;\n",
    "- group — группа A/B-теста;\n",
    "- visitors — количество пользователей в указанную дату в указанной группе A/B-теста"
   ]
  },
  {
   "cell_type": "code",
   "execution_count": 14,
   "id": "f284eb52",
   "metadata": {},
   "outputs": [
    {
     "data": {
      "text/html": [
       "<div>\n",
       "<style scoped>\n",
       "    .dataframe tbody tr th:only-of-type {\n",
       "        vertical-align: middle;\n",
       "    }\n",
       "\n",
       "    .dataframe tbody tr th {\n",
       "        vertical-align: top;\n",
       "    }\n",
       "\n",
       "    .dataframe thead th {\n",
       "        text-align: right;\n",
       "    }\n",
       "</style>\n",
       "<table border=\"1\" class=\"dataframe\">\n",
       "  <thead>\n",
       "    <tr style=\"text-align: right;\">\n",
       "      <th></th>\n",
       "      <th>transaction_id</th>\n",
       "      <th>visitor_id</th>\n",
       "      <th>date</th>\n",
       "      <th>revenue</th>\n",
       "      <th>group</th>\n",
       "    </tr>\n",
       "  </thead>\n",
       "  <tbody>\n",
       "    <tr>\n",
       "      <th>0</th>\n",
       "      <td>3667963787</td>\n",
       "      <td>3312258926</td>\n",
       "      <td>2019-08-15</td>\n",
       "      <td>1650</td>\n",
       "      <td>B</td>\n",
       "    </tr>\n",
       "    <tr>\n",
       "      <th>1</th>\n",
       "      <td>2804400009</td>\n",
       "      <td>3642806036</td>\n",
       "      <td>2019-08-15</td>\n",
       "      <td>730</td>\n",
       "      <td>B</td>\n",
       "    </tr>\n",
       "    <tr>\n",
       "      <th>2</th>\n",
       "      <td>2961555356</td>\n",
       "      <td>4069496402</td>\n",
       "      <td>2019-08-15</td>\n",
       "      <td>400</td>\n",
       "      <td>A</td>\n",
       "    </tr>\n",
       "    <tr>\n",
       "      <th>3</th>\n",
       "      <td>3797467345</td>\n",
       "      <td>1196621759</td>\n",
       "      <td>2019-08-15</td>\n",
       "      <td>9759</td>\n",
       "      <td>B</td>\n",
       "    </tr>\n",
       "    <tr>\n",
       "      <th>4</th>\n",
       "      <td>2282983706</td>\n",
       "      <td>2322279887</td>\n",
       "      <td>2019-08-15</td>\n",
       "      <td>2308</td>\n",
       "      <td>B</td>\n",
       "    </tr>\n",
       "  </tbody>\n",
       "</table>\n",
       "</div>"
      ],
      "text/plain": [
       "   transaction_id  visitor_id       date  revenue group\n",
       "0      3667963787  3312258926 2019-08-15     1650     B\n",
       "1      2804400009  3642806036 2019-08-15      730     B\n",
       "2      2961555356  4069496402 2019-08-15      400     A\n",
       "3      3797467345  1196621759 2019-08-15     9759     B\n",
       "4      2282983706  2322279887 2019-08-15     2308     B"
      ]
     },
     "metadata": {},
     "output_type": "display_data"
    },
    {
     "data": {
      "text/html": [
       "<div>\n",
       "<style scoped>\n",
       "    .dataframe tbody tr th:only-of-type {\n",
       "        vertical-align: middle;\n",
       "    }\n",
       "\n",
       "    .dataframe tbody tr th {\n",
       "        vertical-align: top;\n",
       "    }\n",
       "\n",
       "    .dataframe thead th {\n",
       "        text-align: right;\n",
       "    }\n",
       "</style>\n",
       "<table border=\"1\" class=\"dataframe\">\n",
       "  <thead>\n",
       "    <tr style=\"text-align: right;\">\n",
       "      <th></th>\n",
       "      <th>date</th>\n",
       "      <th>group</th>\n",
       "      <th>visitors</th>\n",
       "    </tr>\n",
       "  </thead>\n",
       "  <tbody>\n",
       "    <tr>\n",
       "      <th>0</th>\n",
       "      <td>2019-08-01</td>\n",
       "      <td>A</td>\n",
       "      <td>719</td>\n",
       "    </tr>\n",
       "    <tr>\n",
       "      <th>1</th>\n",
       "      <td>2019-08-02</td>\n",
       "      <td>A</td>\n",
       "      <td>619</td>\n",
       "    </tr>\n",
       "    <tr>\n",
       "      <th>2</th>\n",
       "      <td>2019-08-03</td>\n",
       "      <td>A</td>\n",
       "      <td>507</td>\n",
       "    </tr>\n",
       "    <tr>\n",
       "      <th>3</th>\n",
       "      <td>2019-08-04</td>\n",
       "      <td>A</td>\n",
       "      <td>717</td>\n",
       "    </tr>\n",
       "    <tr>\n",
       "      <th>4</th>\n",
       "      <td>2019-08-05</td>\n",
       "      <td>A</td>\n",
       "      <td>756</td>\n",
       "    </tr>\n",
       "  </tbody>\n",
       "</table>\n",
       "</div>"
      ],
      "text/plain": [
       "        date group  visitors\n",
       "0 2019-08-01     A       719\n",
       "1 2019-08-02     A       619\n",
       "2 2019-08-03     A       507\n",
       "3 2019-08-04     A       717\n",
       "4 2019-08-05     A       756"
      ]
     },
     "metadata": {},
     "output_type": "display_data"
    }
   ],
   "source": [
    "# Выведем данные для проведения анализа А/В теста\n",
    "display(orders.head())\n",
    "display(visitors.head())"
   ]
  },
  {
   "cell_type": "markdown",
   "id": "df65a2cd",
   "metadata": {},
   "source": [
    "Посмотрим даты начала и окончания теста."
   ]
  },
  {
   "cell_type": "code",
   "execution_count": 15,
   "id": "9b6e12f2",
   "metadata": {},
   "outputs": [
    {
     "data": {
      "text/plain": [
       "Timestamp('2019-08-01 00:00:00')"
      ]
     },
     "metadata": {},
     "output_type": "display_data"
    },
    {
     "data": {
      "text/plain": [
       "Timestamp('2019-08-31 00:00:00')"
      ]
     },
     "metadata": {},
     "output_type": "display_data"
    },
    {
     "data": {
      "text/plain": [
       "Timestamp('2019-08-01 00:00:00')"
      ]
     },
     "metadata": {},
     "output_type": "display_data"
    },
    {
     "data": {
      "text/plain": [
       "Timestamp('2019-08-31 00:00:00')"
      ]
     },
     "metadata": {},
     "output_type": "display_data"
    }
   ],
   "source": [
    "display (min(orders['date']))\n",
    "display (max(orders['date']))\n",
    "display (min(visitors['date']))\n",
    "display (max(visitors['date']))"
   ]
  },
  {
   "cell_type": "markdown",
   "id": "b1dfd2f7",
   "metadata": {},
   "source": [
    "Дата начала теста 1 августа 2019 года, дата окончания 31 августа 2019 года. границы временного периода дла обоих датафреймов orders и visits совпадают."
   ]
  },
  {
   "cell_type": "markdown",
   "id": "8ef735ee",
   "metadata": {},
   "source": [
    "Посмотрим, сколько всего групп входит в АВ тест. Даты начала и окончания теста. Сколько пользователей в каждой группе. Нет ли пользователей , которые попали в несколько групп."
   ]
  },
  {
   "cell_type": "code",
   "execution_count": 16,
   "id": "8f71ca8c",
   "metadata": {},
   "outputs": [
    {
     "data": {
      "text/html": [
       "<div>\n",
       "<style scoped>\n",
       "    .dataframe tbody tr th:only-of-type {\n",
       "        vertical-align: middle;\n",
       "    }\n",
       "\n",
       "    .dataframe tbody tr th {\n",
       "        vertical-align: top;\n",
       "    }\n",
       "\n",
       "    .dataframe thead th {\n",
       "        text-align: right;\n",
       "    }\n",
       "</style>\n",
       "<table border=\"1\" class=\"dataframe\">\n",
       "  <thead>\n",
       "    <tr style=\"text-align: right;\">\n",
       "      <th></th>\n",
       "      <th>visitor_id</th>\n",
       "    </tr>\n",
       "    <tr>\n",
       "      <th>group</th>\n",
       "      <th></th>\n",
       "    </tr>\n",
       "  </thead>\n",
       "  <tbody>\n",
       "    <tr>\n",
       "      <th>B</th>\n",
       "      <td>586</td>\n",
       "    </tr>\n",
       "    <tr>\n",
       "      <th>A</th>\n",
       "      <td>503</td>\n",
       "    </tr>\n",
       "  </tbody>\n",
       "</table>\n",
       "</div>"
      ],
      "text/plain": [
       "       visitor_id\n",
       "group            \n",
       "B             586\n",
       "A             503"
      ]
     },
     "execution_count": 16,
     "metadata": {},
     "output_type": "execute_result"
    }
   ],
   "source": [
    "#Посмотрим, сколько всего групп входит в АВ тест\n",
    "users_count = orders.groupby('group').agg({'visitor_id': 'nunique'}).sort_values(by='visitor_id', ascending=False)\n",
    "users_count"
   ]
  },
  {
   "cell_type": "markdown",
   "id": "f39633bf",
   "metadata": {},
   "source": [
    "в А/В тесте участвуют 2 группы, численность группы А- 503 человек, численность группы В-586 человек. Наблюдается разница в объемах групп более 1%.\n",
    "Проверим, нет ли пользователей, которые попали в обе группы."
   ]
  },
  {
   "cell_type": "code",
   "execution_count": 17,
   "id": "391e3599",
   "metadata": {},
   "outputs": [
    {
     "data": {
      "text/plain": [
       "group    58\n",
       "dtype: int64"
      ]
     },
     "execution_count": 17,
     "metadata": {},
     "output_type": "execute_result"
    }
   ],
   "source": [
    "dbl_cnt=orders.groupby('visitor_id').agg({'group' : 'nunique'}).query('group!=1').count()\n",
    "dbl_cnt"
   ]
  },
  {
   "cell_type": "markdown",
   "id": "6c6cb728",
   "metadata": {},
   "source": [
    "Пользователей, попавших в обе группы: 58. Так как непонятно, какая из версий исследуемой страницы повлияла на их решения,  результаты исследования нельзя интерпретировать однозначно. Следует исключить этих пользователей из исследования."
   ]
  },
  {
   "cell_type": "markdown",
   "id": "869ca760",
   "metadata": {},
   "source": [
    "<div class=\"alert alert-success\">\n",
    "    <b>✅ Комментарий ревьюера:</b>\n",
    "\n",
    "Количество пересекающихся пользователей вычислено верно!\n",
    "</div>"
   ]
  },
  {
   "cell_type": "code",
   "execution_count": 18,
   "id": "5dada9ac",
   "metadata": {},
   "outputs": [],
   "source": [
    "#найдем идентификаторы пользователей, которые встречаются более 1 раза\n",
    "doubles=orders.groupby(['visitor_id']).agg({'group' : 'nunique'}).query('group!=1').reset_index()\n",
    "#преобразовываем столбец в список \n",
    "doubles_list=doubles['visitor_id'].tolist()"
   ]
  },
  {
   "cell_type": "code",
   "execution_count": 19,
   "id": "323548da",
   "metadata": {},
   "outputs": [
    {
     "data": {
      "text/html": [
       "<div>\n",
       "<style scoped>\n",
       "    .dataframe tbody tr th:only-of-type {\n",
       "        vertical-align: middle;\n",
       "    }\n",
       "\n",
       "    .dataframe tbody tr th {\n",
       "        vertical-align: top;\n",
       "    }\n",
       "\n",
       "    .dataframe thead th {\n",
       "        text-align: right;\n",
       "    }\n",
       "</style>\n",
       "<table border=\"1\" class=\"dataframe\">\n",
       "  <thead>\n",
       "    <tr style=\"text-align: right;\">\n",
       "      <th></th>\n",
       "      <th>visitor_id</th>\n",
       "    </tr>\n",
       "    <tr>\n",
       "      <th>group</th>\n",
       "      <th></th>\n",
       "    </tr>\n",
       "  </thead>\n",
       "  <tbody>\n",
       "    <tr>\n",
       "      <th>B</th>\n",
       "      <td>528</td>\n",
       "    </tr>\n",
       "    <tr>\n",
       "      <th>A</th>\n",
       "      <td>445</td>\n",
       "    </tr>\n",
       "  </tbody>\n",
       "</table>\n",
       "</div>"
      ],
      "text/plain": [
       "       visitor_id\n",
       "group            \n",
       "B             528\n",
       "A             445"
      ]
     },
     "execution_count": 19,
     "metadata": {},
     "output_type": "execute_result"
    }
   ],
   "source": [
    "#перезапишем датафрейм orders исключив дубликаты идентификаторов пользователей\n",
    "orders = orders.query('visitor_id not in @doubles_list')\n",
    "orders_cnt = orders.groupby('group').agg({'visitor_id': 'nunique'}).sort_values(by='visitor_id', ascending=False)\n",
    "orders_cnt"
   ]
  },
  {
   "cell_type": "markdown",
   "id": "645c52b5",
   "metadata": {},
   "source": [
    "После удаления пользователей, которые попали в обе группы, можно перейти к расчетам."
   ]
  },
  {
   "cell_type": "markdown",
   "id": "c2d71adc",
   "metadata": {},
   "source": [
    "<div class=\"alert alert-success\">\n",
    "    <b>✅ Комментарий ревьюера:</b>\n",
    "\n",
    "Молодец! Крайне важно производить такую проверку при анализе результатов А/В-теста. В обычных условиях пересекающихся пользователей стоит удалить, но в данном случае ты удалила их только из таблицы orders, в таблице visitors они остались и удалить оттуда пользователей невозможно (там нет id). Поэтому в данном проекте удаление и не удаление пересекающихся пользователей - решения одного уровня.\n",
    "</div>"
   ]
  },
  {
   "cell_type": "markdown",
   "id": "14f5d932",
   "metadata": {},
   "source": [
    "<a id='12-bullet'></a>\n",
    "## 3.1 График кумулятивной выручки по группам. Выводы и предположения."
   ]
  },
  {
   "cell_type": "markdown",
   "id": "134a1a09",
   "metadata": {},
   "source": [
    "Чтобы построить графики, нужно собрать кумулятивные данные. Объявим датафрейм cumulativeData со столбцами:\n",
    "* \t\tdate — дата;\n",
    "* \t\tgroup — группа A/B-теста (A или B);\n",
    "* \t\torders — кумулятивное количество заказов на указанную дату в указанной группе;\n",
    "* \t\tbuyers — кумулятивное количество пользователей, совершивших хотя бы один заказ, на указанную дату в указанной группе;\n",
    "* \t\trevenue — кумулятивная выручка на указанную дату в указанной группе (средний чек);\n",
    "* \t\tvisitors — кумулятивное количество посетителей интернет-магазина на указанную дату в определённой группе.\n"
   ]
  },
  {
   "cell_type": "code",
   "execution_count": 20,
   "id": "c3ac0850",
   "metadata": {},
   "outputs": [
    {
     "data": {
      "text/html": [
       "<div>\n",
       "<style scoped>\n",
       "    .dataframe tbody tr th:only-of-type {\n",
       "        vertical-align: middle;\n",
       "    }\n",
       "\n",
       "    .dataframe tbody tr th {\n",
       "        vertical-align: top;\n",
       "    }\n",
       "\n",
       "    .dataframe thead th {\n",
       "        text-align: right;\n",
       "    }\n",
       "</style>\n",
       "<table border=\"1\" class=\"dataframe\">\n",
       "  <thead>\n",
       "    <tr style=\"text-align: right;\">\n",
       "      <th></th>\n",
       "      <th>date</th>\n",
       "      <th>group</th>\n",
       "      <th>orders</th>\n",
       "      <th>buyers</th>\n",
       "      <th>revenue</th>\n",
       "      <th>visitors</th>\n",
       "    </tr>\n",
       "  </thead>\n",
       "  <tbody>\n",
       "    <tr>\n",
       "      <th>0</th>\n",
       "      <td>2019-08-01</td>\n",
       "      <td>A</td>\n",
       "      <td>23</td>\n",
       "      <td>19</td>\n",
       "      <td>142779</td>\n",
       "      <td>719</td>\n",
       "    </tr>\n",
       "    <tr>\n",
       "      <th>1</th>\n",
       "      <td>2019-08-01</td>\n",
       "      <td>B</td>\n",
       "      <td>17</td>\n",
       "      <td>17</td>\n",
       "      <td>59758</td>\n",
       "      <td>713</td>\n",
       "    </tr>\n",
       "    <tr>\n",
       "      <th>2</th>\n",
       "      <td>2019-08-02</td>\n",
       "      <td>A</td>\n",
       "      <td>42</td>\n",
       "      <td>36</td>\n",
       "      <td>234381</td>\n",
       "      <td>1338</td>\n",
       "    </tr>\n",
       "    <tr>\n",
       "      <th>3</th>\n",
       "      <td>2019-08-02</td>\n",
       "      <td>B</td>\n",
       "      <td>40</td>\n",
       "      <td>39</td>\n",
       "      <td>221801</td>\n",
       "      <td>1294</td>\n",
       "    </tr>\n",
       "    <tr>\n",
       "      <th>4</th>\n",
       "      <td>2019-08-03</td>\n",
       "      <td>A</td>\n",
       "      <td>66</td>\n",
       "      <td>60</td>\n",
       "      <td>346854</td>\n",
       "      <td>1845</td>\n",
       "    </tr>\n",
       "  </tbody>\n",
       "</table>\n",
       "</div>"
      ],
      "text/plain": [
       "        date group  orders  buyers  revenue  visitors\n",
       "0 2019-08-01     A      23      19   142779       719\n",
       "1 2019-08-01     B      17      17    59758       713\n",
       "2 2019-08-02     A      42      36   234381      1338\n",
       "3 2019-08-02     B      40      39   221801      1294\n",
       "4 2019-08-03     A      66      60   346854      1845"
      ]
     },
     "metadata": {},
     "output_type": "display_data"
    }
   ],
   "source": [
    "# создаем массив уникальных пар значений дат и групп теста\n",
    "datesGroups = orders[['date','group']].drop_duplicates()\n",
    "\n",
    "# получаем агрегированные кумулятивные по дням данные о заказах \n",
    "ordersAggregated = datesGroups.apply(lambda x: orders[np.logical_and(orders['date'] <= x['date'], orders['group'] == x['group'])].agg({'date' : 'max', 'group' : 'max', 'transaction_id' : 'nunique', 'visitor_id' : 'nunique', 'revenue' : 'sum'}), axis=1).sort_values(by=['date','group'])\n",
    "\n",
    "# получаем агрегированные кумулятивные по дням данные о посетителях интернет-магазина \n",
    "visitorsAggregated = datesGroups.apply(lambda x: visitors[np.logical_and(visitors['date'] <= x['date'], visitors['group'] == x['group'])].agg({'date' : 'max', 'group' : 'max', 'visitors' : 'sum'}), axis=1).sort_values(by=['date','group'])\n",
    "\n",
    "# объединяем кумулятивные данные в одной таблице и присваиваем ее столбцам понятные названия\n",
    "cumulativeData = ordersAggregated.merge(visitorsAggregated, left_on=['date', 'group'], right_on=['date', 'group'])\n",
    "cumulativeData.columns = ['date', 'group', 'orders', 'buyers', 'revenue', 'visitors']\n",
    "\n",
    "display(cumulativeData.head(5))"
   ]
  },
  {
   "cell_type": "code",
   "execution_count": 21,
   "id": "599ce2d1",
   "metadata": {},
   "outputs": [
    {
     "data": {
      "image/png": "[encoded data removed]",
      "text/plain": [
       "<Figure size 1080x360 with 1 Axes>"
      ]
     },
     "metadata": {
      "needs_background": "light"
     },
     "output_type": "display_data"
    }
   ],
   "source": [
    "#Построим графики кумулятивной выручки по дням и группам A/B-тестирования:\n",
    "\n",
    "# датафрейм с кумулятивным количеством заказов и кумулятивной выручкой по дням в группе А\n",
    "cumulativeRevenueA = cumulativeData[cumulativeData['group']=='A'][['date','revenue', 'orders']]\n",
    "\n",
    "# датафрейм с кумулятивным количеством заказов и кумулятивной выручкой по дням в группе B\n",
    "cumulativeRevenueB = cumulativeData[cumulativeData['group']=='B'][['date','revenue', 'orders']]\n",
    "\n",
    "fig, ax = plt.subplots(figsize=(15, 5))\n",
    "# Строим график выручки группы А\n",
    "plt.plot(cumulativeRevenueA['date'], cumulativeRevenueA['revenue'], label='A')\n",
    "\n",
    "# Строим график выручки группы B\n",
    "plt.plot(cumulativeRevenueB['date'], cumulativeRevenueB['revenue'], label='B')\n",
    "\n",
    "plt.legend()\n",
    "plt.xticks(rotation=45)# угол наклона надписей\n",
    "plt.title('Кумулятивная выручка по дням и группам A/B')\n",
    "plt.xlabel('Дата')\n",
    "plt.ylabel('Выручка,млн. у.е.');"
   ]
  },
  {
   "cell_type": "markdown",
   "id": "2dc9b67a",
   "metadata": {},
   "source": [
    "<div class=\"alert alert-success\">\n",
    "    <b>✅ Комментарий ревьюера:</b>\n",
    "\n",
    "График построен и оформлен корректно!\n",
    "</div>"
   ]
  },
  {
   "cell_type": "markdown",
   "id": "52bfea41",
   "metadata": {},
   "source": [
    "За весь наблюдаемый период выручка в обеих группах увеличивается на протяжении всего теста. В первой половине месяца видно, что куммулятивная выручка группы В растет чуть быстрее. 13 августа выручки примерно равны. Однако в группе B есть резкий всплеск 18-08-2019, это говорит  о резком росте числа заказов или о заказах с  неожидано высокими чеками."
   ]
  },
  {
   "cell_type": "markdown",
   "id": "7d3d8969",
   "metadata": {},
   "source": [
    "Для того, чтобы понять, чем вызвам резкий рост в районе 18 августа посмотрим на количество заказов в эти дни."
   ]
  },
  {
   "cell_type": "code",
   "execution_count": 22,
   "id": "96029eda",
   "metadata": {},
   "outputs": [
    {
     "data": {
      "text/html": [
       "<div>\n",
       "<style scoped>\n",
       "    .dataframe tbody tr th:only-of-type {\n",
       "        vertical-align: middle;\n",
       "    }\n",
       "\n",
       "    .dataframe tbody tr th {\n",
       "        vertical-align: top;\n",
       "    }\n",
       "\n",
       "    .dataframe thead th {\n",
       "        text-align: right;\n",
       "    }\n",
       "</style>\n",
       "<table border=\"1\" class=\"dataframe\">\n",
       "  <thead>\n",
       "    <tr style=\"text-align: right;\">\n",
       "      <th></th>\n",
       "      <th>date</th>\n",
       "      <th>revenue</th>\n",
       "      <th>orders</th>\n",
       "    </tr>\n",
       "  </thead>\n",
       "  <tbody>\n",
       "    <tr>\n",
       "      <th>33</th>\n",
       "      <td>2019-08-17</td>\n",
       "      <td>2155542</td>\n",
       "      <td>320</td>\n",
       "    </tr>\n",
       "    <tr>\n",
       "      <th>35</th>\n",
       "      <td>2019-08-18</td>\n",
       "      <td>2190865</td>\n",
       "      <td>327</td>\n",
       "    </tr>\n",
       "    <tr>\n",
       "      <th>37</th>\n",
       "      <td>2019-08-19</td>\n",
       "      <td>3620785</td>\n",
       "      <td>348</td>\n",
       "    </tr>\n",
       "    <tr>\n",
       "      <th>39</th>\n",
       "      <td>2019-08-20</td>\n",
       "      <td>3768059</td>\n",
       "      <td>368</td>\n",
       "    </tr>\n",
       "    <tr>\n",
       "      <th>41</th>\n",
       "      <td>2019-08-21</td>\n",
       "      <td>3908406</td>\n",
       "      <td>380</td>\n",
       "    </tr>\n",
       "  </tbody>\n",
       "</table>\n",
       "</div>"
      ],
      "text/plain": [
       "         date  revenue  orders\n",
       "33 2019-08-17  2155542     320\n",
       "35 2019-08-18  2190865     327\n",
       "37 2019-08-19  3620785     348\n",
       "39 2019-08-20  3768059     368\n",
       "41 2019-08-21  3908406     380"
      ]
     },
     "execution_count": 22,
     "metadata": {},
     "output_type": "execute_result"
    }
   ],
   "source": [
    "cumulativeRevenueB.query(' \"2019-08-17\" <= date <= \"2019-08-21\" ')"
   ]
  },
  {
   "cell_type": "markdown",
   "id": "e3f41aed",
   "metadata": {},
   "source": [
    "Как видно из таблицы количетсво заказов между 17 и 21 августа растет раваномерно, значит дело в размере заказов."
   ]
  },
  {
   "cell_type": "code",
   "execution_count": 23,
   "id": "091bd6d9",
   "metadata": {},
   "outputs": [
    {
     "name": "stdout",
     "output_type": "stream",
     "text": [
      "Медианное значение одного заказа 18-19 августа = 2513.0\n"
     ]
    },
    {
     "data": {
      "text/html": [
       "<div>\n",
       "<style scoped>\n",
       "    .dataframe tbody tr th:only-of-type {\n",
       "        vertical-align: middle;\n",
       "    }\n",
       "\n",
       "    .dataframe tbody tr th {\n",
       "        vertical-align: top;\n",
       "    }\n",
       "\n",
       "    .dataframe thead th {\n",
       "        text-align: right;\n",
       "    }\n",
       "</style>\n",
       "<table border=\"1\" class=\"dataframe\">\n",
       "  <thead>\n",
       "    <tr style=\"text-align: right;\">\n",
       "      <th></th>\n",
       "      <th>transaction_id</th>\n",
       "      <th>visitor_id</th>\n",
       "      <th>date</th>\n",
       "      <th>revenue</th>\n",
       "      <th>group</th>\n",
       "    </tr>\n",
       "  </thead>\n",
       "  <tbody>\n",
       "    <tr>\n",
       "      <th>425</th>\n",
       "      <td>590470918</td>\n",
       "      <td>1920142716</td>\n",
       "      <td>2019-08-19</td>\n",
       "      <td>1294500</td>\n",
       "      <td>B</td>\n",
       "    </tr>\n",
       "    <tr>\n",
       "      <th>530</th>\n",
       "      <td>3970235543</td>\n",
       "      <td>2912540959</td>\n",
       "      <td>2019-08-19</td>\n",
       "      <td>43990</td>\n",
       "      <td>A</td>\n",
       "    </tr>\n",
       "    <tr>\n",
       "      <th>527</th>\n",
       "      <td>1570513684</td>\n",
       "      <td>2837914161</td>\n",
       "      <td>2019-08-19</td>\n",
       "      <td>33405</td>\n",
       "      <td>B</td>\n",
       "    </tr>\n",
       "    <tr>\n",
       "      <th>421</th>\n",
       "      <td>3765974140</td>\n",
       "      <td>1357170471</td>\n",
       "      <td>2019-08-19</td>\n",
       "      <td>31680</td>\n",
       "      <td>A</td>\n",
       "    </tr>\n",
       "    <tr>\n",
       "      <th>461</th>\n",
       "      <td>2683113224</td>\n",
       "      <td>154576532</td>\n",
       "      <td>2019-08-19</td>\n",
       "      <td>26550</td>\n",
       "      <td>B</td>\n",
       "    </tr>\n",
       "    <tr>\n",
       "      <th>294</th>\n",
       "      <td>3709669952</td>\n",
       "      <td>3295038680</td>\n",
       "      <td>2019-08-18</td>\n",
       "      <td>23750</td>\n",
       "      <td>A</td>\n",
       "    </tr>\n",
       "    <tr>\n",
       "      <th>368</th>\n",
       "      <td>3268879337</td>\n",
       "      <td>2536252163</td>\n",
       "      <td>2019-08-19</td>\n",
       "      <td>20026</td>\n",
       "      <td>B</td>\n",
       "    </tr>\n",
       "    <tr>\n",
       "      <th>366</th>\n",
       "      <td>2037051350</td>\n",
       "      <td>1957949546</td>\n",
       "      <td>2019-08-19</td>\n",
       "      <td>16770</td>\n",
       "      <td>A</td>\n",
       "    </tr>\n",
       "    <tr>\n",
       "      <th>463</th>\n",
       "      <td>4170537404</td>\n",
       "      <td>290022471</td>\n",
       "      <td>2019-08-19</td>\n",
       "      <td>16480</td>\n",
       "      <td>B</td>\n",
       "    </tr>\n",
       "    <tr>\n",
       "      <th>229</th>\n",
       "      <td>4139571321</td>\n",
       "      <td>737242975</td>\n",
       "      <td>2019-08-18</td>\n",
       "      <td>15850</td>\n",
       "      <td>A</td>\n",
       "    </tr>\n",
       "  </tbody>\n",
       "</table>\n",
       "</div>"
      ],
      "text/plain": [
       "     transaction_id  visitor_id       date  revenue group\n",
       "425       590470918  1920142716 2019-08-19  1294500     B\n",
       "530      3970235543  2912540959 2019-08-19    43990     A\n",
       "527      1570513684  2837914161 2019-08-19    33405     B\n",
       "421      3765974140  1357170471 2019-08-19    31680     A\n",
       "461      2683113224   154576532 2019-08-19    26550     B\n",
       "294      3709669952  3295038680 2019-08-18    23750     A\n",
       "368      3268879337  2536252163 2019-08-19    20026     B\n",
       "366      2037051350  1957949546 2019-08-19    16770     A\n",
       "463      4170537404   290022471 2019-08-19    16480     B\n",
       "229      4139571321   737242975 2019-08-18    15850     A"
      ]
     },
     "execution_count": 23,
     "metadata": {},
     "output_type": "execute_result"
    }
   ],
   "source": [
    "print('Медианное значение одного заказа 18-19 августа =',orders.query(' \"2019-08-18\" <= date <= \"2019-08-19\"  ')['revenue'].median())\n",
    "orders.query(' \"2019-08-18\" <= date <= \"2019-08-19\"').sort_values(by='revenue', ascending=False).head(10)"
   ]
  },
  {
   "cell_type": "code",
   "execution_count": 24,
   "id": "22e507a8",
   "metadata": {},
   "outputs": [
    {
     "name": "stdout",
     "output_type": "stream",
     "text": [
      "Сумма заказов 19 августа = 1598113\n"
     ]
    }
   ],
   "source": [
    "print('Сумма заказов 19 августа =',orders.query(' date == \"2019-08-19\"  ')['revenue'].sum())"
   ]
  },
  {
   "cell_type": "markdown",
   "id": "121648b9",
   "metadata": {},
   "source": [
    "Предположение о крупном заказе верно-заказ №425 на 1 294 500,00 в группе \"B\" 19 августа (в 492 раза больше медианы=2 513 за дни 18-19 августа).этот заказ принес около 80% дневной выручки (1,29 / 1,60); в то время как остальные заказы не больше 44 тысяч . Поскольку этот заказ один, то его в принципе можно считать выбросом и при дальнейшем анализе это надо учитывать."
   ]
  },
  {
   "cell_type": "markdown",
   "id": "5eed5c61",
   "metadata": {},
   "source": [
    "<div class=\"alert alert-success\">\n",
    "    <b>✅ Комментарий ревьюера:</b>\n",
    "\n",
    "Отличный анализ!\n",
    "</div>"
   ]
  },
  {
   "cell_type": "markdown",
   "id": "37cedf29",
   "metadata": {},
   "source": [
    "<a id='13-bullet'></a>\n",
    "## 3.2 График кумулятивного среднего чека по группам. Выводы и предположения."
   ]
  },
  {
   "cell_type": "markdown",
   "id": "174388b4",
   "metadata": {},
   "source": [
    "Построим графики среднего чека по группам — разделим кумулятивную выручку на кумулятивное число заказов:"
   ]
  },
  {
   "cell_type": "code",
   "execution_count": 25,
   "id": "15a2d2b9",
   "metadata": {},
   "outputs": [
    {
     "data": {
      "image/png": "[encoded data removed]",
      "text/plain": [
       "<Figure size 1080x360 with 1 Axes>"
      ]
     },
     "metadata": {
      "needs_background": "light"
     },
     "output_type": "display_data"
    }
   ],
   "source": [
    "fig, ax = plt.subplots(figsize=(15, 5))\n",
    "plt.xticks(rotation=45)# угол наклона надписей\n",
    "plt.title('Кумулятивный средний чек по дням и группам A/B')\n",
    "plt.plot(cumulativeRevenueA['date'], cumulativeRevenueA['revenue']/cumulativeRevenueA['orders'], label='A')\n",
    "plt.plot(cumulativeRevenueB['date'], cumulativeRevenueB['revenue']/cumulativeRevenueB['orders'], label='B')\n",
    "plt.legend()\n",
    "plt.xlabel('Дата')\n",
    "plt.ylabel('Средний чек');"
   ]
  },
  {
   "cell_type": "markdown",
   "id": "07fd3783",
   "metadata": {},
   "source": [
    "Средний чек в группе A за первые две недели подрос и стабилизировался, 1 августа и в период с 12 по18 августа чеки в группе \"А\" выше чеков в группе \"В\".В группе B резко подскочил 19 августа и стал плавно снижаться к концу теста. Заказ №425 хорошо виден на графике, так как именно он отображен резким всплеском."
   ]
  },
  {
   "cell_type": "markdown",
   "id": "5ef1384f",
   "metadata": {},
   "source": [
    "<div class=\"alert alert-success\">\n",
    "    <b>✅ Комментарий ревьюера:</b>\n",
    "\n",
    "Принято!\n",
    "</div>"
   ]
  },
  {
   "cell_type": "markdown",
   "id": "076a6717",
   "metadata": {},
   "source": [
    "<a id='14-bullet'></a>\n",
    "## 3.3 График относительного изменения кумулятивного среднего чека группы B к группе A. Выводы и предположения."
   ]
  },
  {
   "cell_type": "markdown",
   "id": "5f4b3750",
   "metadata": {},
   "source": [
    "Построим график относительного различия для среднего чека. Добавим горизонтальную ось."
   ]
  },
  {
   "cell_type": "code",
   "execution_count": 26,
   "id": "be50bfb7",
   "metadata": {},
   "outputs": [
    {
     "data": {
      "image/png": "[encoded data removed]",
      "text/plain": [
       "<Figure size 1080x360 with 1 Axes>"
      ]
     },
     "metadata": {
      "needs_background": "light"
     },
     "output_type": "display_data"
    }
   ],
   "source": [
    "# собираем данные в одном датафрейме\n",
    "mergedCumulativeRevenue = cumulativeRevenueA.merge(cumulativeRevenueB, left_on='date', right_on='date', how='left', suffixes=['A', 'B'])\n",
    "\n",
    "# cтроим отношение средних чеков\n",
    "fig, ax = plt.subplots(figsize=(15, 5))\n",
    "plt.xticks(rotation=45)# угол наклона надписей\n",
    "plt.title('Относительное различие среднего чека по дням')\n",
    "plt.xlabel('Дата')\n",
    "plt.ylabel('Различие среднего чека')\n",
    "plt.plot(mergedCumulativeRevenue['date'], (mergedCumulativeRevenue['revenueB']/mergedCumulativeRevenue['ordersB'])/(mergedCumulativeRevenue['revenueA']/mergedCumulativeRevenue['ordersA'])-1)\n",
    "\n",
    "# добавляем ось X\n",
    "plt.axhline(y=0, color='black', linestyle='--');"
   ]
  },
  {
   "cell_type": "markdown",
   "id": "016ca087",
   "metadata": {},
   "source": [
    "На графике относительного среднего чека хорошо видны те же выводы, что и по графику кумулятивных средних чеков по группам. Средний чек \"B\" рос с 1 августа, 2 августа уже превысил \"A\" и рос до 7 августа. 7-8 августа пошло снижение до 13 августа(тут средний чек группы \"В\" на 16-17 % ниже среднего чека группы \"А\"), причем 3 дня 12-14 августа средний чек \"A\" был больше \"B\". \n",
    "Но не надолго, с 13 августа чек \"B\" опять начал расти и уже 18 августа наступил переломный момент и на следующий день чек \"B\" оказался больше и находился больше \"A\" до конца месяца. Здесь опять хорошо видно, что 19 августа был сильный всплеск (рост) за счет заказа №425 с аномально большим объемом. В этот день превышение среднего чека группы \"В\" больше среднего чека группы \"А \" больше, чем на 40%, а в последующие дни средний чек \"B\" также постепенно снижался. "
   ]
  },
  {
   "cell_type": "markdown",
   "id": "ad1e5084",
   "metadata": {},
   "source": [
    "<div class=\"alert alert-success\">\n",
    "    <b>✅ Комментарий ревьюера:</b>\n",
    "\n",
    "Согласен!\n",
    "</div>"
   ]
  },
  {
   "cell_type": "markdown",
   "id": "614fc509",
   "metadata": {},
   "source": [
    "<a id='15-bullet'></a>\n",
    "## 3.4 График кумулятивного среднего количества заказов на посетителя по группам. Выводы и предположения."
   ]
  },
  {
   "cell_type": "markdown",
   "id": "435080c0",
   "metadata": {},
   "source": [
    "Построим графики кумулятивного среднего количества заказов на посетителя по группам A/B-тестирования."
   ]
  },
  {
   "cell_type": "code",
   "execution_count": 27,
   "id": "09170243",
   "metadata": {},
   "outputs": [
    {
     "data": {
      "image/png": "[encoded data removed]",
      "text/plain": [
       "<Figure size 1080x360 with 1 Axes>"
      ]
     },
     "metadata": {
      "needs_background": "light"
     },
     "output_type": "display_data"
    }
   ],
   "source": [
    "fig, ax = plt.subplots(figsize=(15, 5))\n",
    "\n",
    "# считаем кумулятивную конверсию\n",
    "#cumulativeData['conversion'] = cumulativeData['orders']/cumulativeData['visitors']- заменила название столбцов ниже в коде\n",
    "\n",
    "# считаем кумулятивное среднее количество заказов на посетителя\n",
    "cumulativeData['avr_orders'] = cumulativeData['orders']/cumulativeData['visitors']\n",
    "\n",
    "# отделяем данные по группе A\n",
    "cumulativeDataA = cumulativeData[cumulativeData['group']=='A']              \n",
    "\n",
    "# отделяем данные по группе B\n",
    "cumulativeDataB = cumulativeData[cumulativeData['group']=='B']\n",
    "\n",
    "# строим графики\n",
    "#plt.plot(cumulativeDataA['date'], cumulativeDataA['conversion'], label='A')- (код с конверсией)\n",
    "#plt.plot(cumulativeDataB['date'], cumulativeDataB['conversion'], label='B')-(код с конверсией)\n",
    "               \n",
    "plt.plot(cumulativeDataA['date'], cumulativeDataA['avr_orders'], label='A') \n",
    "plt.plot(cumulativeDataB['date'], cumulativeDataB['avr_orders'], label='B')\n",
    "               \n",
    "\n",
    "plt.legend() \n",
    "plt.xticks(rotation=45)# угол наклона надписей\n",
    "plt.title('Кумулятивное среднеее количество заказов на посетителя по группам A/B')\n",
    "plt.xlabel('Дата')\n",
    "plt.ylabel('Cреднеее количество заказов на посетителя');"
   ]
  },
  {
   "cell_type": "markdown",
   "id": "c3d052d4",
   "metadata": {},
   "source": [
    "<div class=\"alert alert-info\">\n",
    "<b> Комментарий студента</b>\n",
    "\n",
    "\n",
    "</ Скорректировала название столбца с \"conversion\" на \"avr_orders\", захэштегила некорректный код, в выводе заменила формулировку\n",
    ">"
   ]
  },
  {
   "cell_type": "markdown",
   "id": "10884fce",
   "metadata": {},
   "source": [
    "В начале теста группа А имела большее  кумулятивное среднее количество заказов на посетителя (в районе 3 августа оно достигло 3,6%), затем оно немного упало и установилось примерно около 2,5-2,6%.\n",
    "\n",
    "Группа В начинала со значений ниже значений группы А (2,4%) далее с 4 августа среднее количество заказов на посетителя начало расти и с 8 августа установилось в пределах 2,9-3,1%.\n",
    "Среднее количество заказов группы В с 6 августа превышает значения группы А."
   ]
  },
  {
   "cell_type": "markdown",
   "id": "1f8ba381",
   "metadata": {},
   "source": [
    "<div class=\"alert alert-danger\">\n",
    "    <b>❌ Комментарий ревьюера:</b>\n",
    "    \n",
    "Вычислить конверсию в этом проекте нет возможности т.к. у нас нет данных об уникальных посещениях (в таблице visitors нет id посетителей). Поэтому в задании говорится о количестве заказов, а не о конверсии. Давай заменим формулировку \"конверсия\" на \"количество заказов\" в выводах в этом задании и в остальном проекте. \n",
    "</div>"
   ]
  },
  {
   "attachments": {
    "2023-03-31%2010.53.09.jpg": {
     "image/jpeg": "[encoded data removed]"
    }
   },
   "cell_type": "markdown",
   "id": "ff681e2e",
   "metadata": {},
   "source": [
    "<div class=\"alert alert-info\">\n",
    "<b> Комментарий студента</b>\n",
    "\n",
    "Тут текст.![2023-03-31%2010.53.09.jpg](attachment:2023-03-31%2010.53.09.jpg)\n",
    "</Вадим, привет! Спасибо за комменты, и понятные пояснения, это очень важно. \n",
    "    По поводу слова \"конверсия\"  почему использовать некорректно, вроде поняла:потому что в конверсии мы должны в делить сопоставимые показатели, \"людей\" на \"людей\", верно? А тут у меня заказы на \"людей\". Если так, то слово \"конверсия\" взято из теории на Практикуме, там прям в примере, когда дают теорию пишут , что это конверсия, что очевидно не корректно, скрин прилагаю, вдруг есть возможность донести до модераторов, чтобы тогда это убрали. Куратору тоже напишу своему, если я правильно поняла суть ошибки.\n",
    "    \n",
    "    По тексту проекта скорректировала формулировку.\n",
    ">"
   ]
  },
  {
   "cell_type": "markdown",
   "id": "a2f70dc9",
   "metadata": {},
   "source": [
    "<div class=\"alert alert-success\">\n",
    "    <b>✅ Комментарий ревьюера V2:</b>\n",
    "\n",
    "Ты все абсолютно верно пишешь, действительно в теории используется то \"конверсия\" то \"количество заказов\", нам важнее чтобы в твоем итоговом проекте все было верно, чтобы проект в твоем портфолио не содержал ошибок.\n",
    "</div>"
   ]
  },
  {
   "cell_type": "markdown",
   "id": "9e55ea96",
   "metadata": {},
   "source": [
    "<a id='16-bullet'></a>\n",
    "## 3.5 График относительного изменения кумулятивного среднего количества заказов на посетителя группы B к группе A. Выводы и предположения."
   ]
  },
  {
   "cell_type": "markdown",
   "id": "27bfd6ab",
   "metadata": {},
   "source": [
    "Построим график относительного изменения кумулятивного среднего количества заказов на посетителя группы B к группе A."
   ]
  },
  {
   "cell_type": "code",
   "execution_count": 28,
   "id": "1aef1796",
   "metadata": {},
   "outputs": [
    {
     "name": "stderr",
     "output_type": "stream",
     "text": [
      "No handles with labels found to put in legend.\n"
     ]
    },
    {
     "data": {
      "image/png": "[encoded data removed]",
      "text/plain": [
       "<Figure size 1080x360 with 1 Axes>"
      ]
     },
     "metadata": {
      "needs_background": "light"
     },
     "output_type": "display_data"
    }
   ],
   "source": [
    "#mergedCumulativeConversions = cumulativeDataA[['date','conversion']].merge(cumulativeDataB[['date','conversion']], left_on='date', right_on='date', how='left', suffixes=['A', 'B'])- c конверсией\n",
    "mergedCumulative_avr_orders = cumulativeDataA[['date','avr_orders']].merge(cumulativeDataB[['date','avr_orders']], left_on='date', right_on='date', how='left', suffixes=['A', 'B'])\n",
    "fig, ax = plt.subplots(figsize=(15, 5))\n",
    "\n",
    "#plt.plot(mergedCumulativeConversions['date'], mergedCumulativeConversions['conversionB']/mergedCumulativeConversions['conversionA']-1)\n",
    "plt.plot(mergedCumulative_avr_orders['date'], mergedCumulative_avr_orders['avr_ordersB']/mergedCumulative_avr_orders['avr_ordersA']-1)\n",
    "\n",
    "plt.legend()\n",
    "plt.axhline(y=0, color='black', linestyle='--')\n",
    "plt.axhline(y=0.15, color='grey', linestyle='--')\n",
    "plt.xticks(rotation=45)# угол наклона надписей\n",
    "plt.title('Относительное изменение кумулятивного среднего количества заказов на посетителя группы B к группе A')\n",
    "plt.xlabel('Дата')\n",
    "plt.ylabel('Кум-ное среднее кол-ва заказов на посетителя группы B к группе A');\n"
   ]
  },
  {
   "cell_type": "markdown",
   "id": "70aee705",
   "metadata": {},
   "source": [
    "В самом неачале теста значения кумулятивного среднего группы В уступало значениям группы А, начиная с 6 августа группа B лидирует относительно группы А. Прирост стабилизируется примерно на уровне 12-15%."
   ]
  },
  {
   "cell_type": "markdown",
   "id": "61cab841",
   "metadata": {},
   "source": [
    "<div class=\"alert alert-success\">\n",
    "    <b>✅ Комментарий ревьюера:</b>\n",
    "\n",
    "Отличный вывод!\n",
    "</div>"
   ]
  },
  {
   "cell_type": "markdown",
   "id": "f5a8cdc7",
   "metadata": {},
   "source": [
    "<a id='17-bullet'></a>\n",
    "## 3.6 Точечный график количества заказов по пользователям. Выводы и предположения."
   ]
  },
  {
   "cell_type": "markdown",
   "id": "ab821c6b",
   "metadata": {},
   "source": [
    " Подсчитаем количество заказов по пользователям. Сначала сгруппируем заказы по пользователям, а далее посчитаем количество уникальных заказов по сгруппированным данным. Отсортируем полученный датафрейм по убыванию количества заказов."
   ]
  },
  {
   "cell_type": "code",
   "execution_count": 29,
   "id": "f7e621ec",
   "metadata": {},
   "outputs": [
    {
     "data": {
      "text/html": [
       "<div>\n",
       "<style scoped>\n",
       "    .dataframe tbody tr th:only-of-type {\n",
       "        vertical-align: middle;\n",
       "    }\n",
       "\n",
       "    .dataframe tbody tr th {\n",
       "        vertical-align: top;\n",
       "    }\n",
       "\n",
       "    .dataframe thead th {\n",
       "        text-align: right;\n",
       "    }\n",
       "</style>\n",
       "<table border=\"1\" class=\"dataframe\">\n",
       "  <thead>\n",
       "    <tr style=\"text-align: right;\">\n",
       "      <th></th>\n",
       "      <th>visitor_id</th>\n",
       "      <th>orders</th>\n",
       "    </tr>\n",
       "  </thead>\n",
       "  <tbody>\n",
       "    <tr>\n",
       "      <th>908</th>\n",
       "      <td>3967698036</td>\n",
       "      <td>3</td>\n",
       "    </tr>\n",
       "    <tr>\n",
       "      <th>55</th>\n",
       "      <td>249864742</td>\n",
       "      <td>3</td>\n",
       "    </tr>\n",
       "    <tr>\n",
       "      <th>478</th>\n",
       "      <td>2108163459</td>\n",
       "      <td>3</td>\n",
       "    </tr>\n",
       "    <tr>\n",
       "      <th>687</th>\n",
       "      <td>2988190573</td>\n",
       "      <td>3</td>\n",
       "    </tr>\n",
       "    <tr>\n",
       "      <th>890</th>\n",
       "      <td>3908431265</td>\n",
       "      <td>3</td>\n",
       "    </tr>\n",
       "    <tr>\n",
       "      <th>138</th>\n",
       "      <td>611059232</td>\n",
       "      <td>3</td>\n",
       "    </tr>\n",
       "    <tr>\n",
       "      <th>632</th>\n",
       "      <td>2742574263</td>\n",
       "      <td>3</td>\n",
       "    </tr>\n",
       "    <tr>\n",
       "      <th>157</th>\n",
       "      <td>678354126</td>\n",
       "      <td>2</td>\n",
       "    </tr>\n",
       "    <tr>\n",
       "      <th>323</th>\n",
       "      <td>1404560065</td>\n",
       "      <td>2</td>\n",
       "    </tr>\n",
       "    <tr>\n",
       "      <th>452</th>\n",
       "      <td>1985475298</td>\n",
       "      <td>2</td>\n",
       "    </tr>\n",
       "  </tbody>\n",
       "</table>\n",
       "</div>"
      ],
      "text/plain": [
       "     visitor_id  orders\n",
       "908  3967698036       3\n",
       "55    249864742       3\n",
       "478  2108163459       3\n",
       "687  2988190573       3\n",
       "890  3908431265       3\n",
       "138   611059232       3\n",
       "632  2742574263       3\n",
       "157   678354126       2\n",
       "323  1404560065       2\n",
       "452  1985475298       2"
      ]
     },
     "metadata": {},
     "output_type": "display_data"
    }
   ],
   "source": [
    "orders_by_user=(orders.groupby('visitor_id',as_index=False)\n",
    "    .agg({'transaction_id':'nunique'}))\n",
    "orders_by_user.columns = ['visitor_id', 'orders']\n",
    "display(orders_by_user.sort_values(by='orders', ascending=False).head(10))\n"
   ]
  },
  {
   "cell_type": "markdown",
   "id": "cb34e335",
   "metadata": {},
   "source": [
    "Теперь построим точечную диаграмму числа заказов на одного пользователя, чтобы посмотреть распределение по количемству заказов."
   ]
  },
  {
   "cell_type": "code",
   "execution_count": 30,
   "id": "34965698",
   "metadata": {},
   "outputs": [
    {
     "data": {
      "image/png": "[encoded data removed]",
      "text/plain": [
       "<Figure size 432x288 with 1 Axes>"
      ]
     },
     "metadata": {
      "needs_background": "light"
     },
     "output_type": "display_data"
    }
   ],
   "source": [
    "x_values = pd.Series(range(0,len(orders_by_user)))\n",
    "plt.scatter(x_values, orders_by_user['orders'])\n",
    "plt.title('Распределение числа заказов по пользователям')\n",
    "plt.xlabel('Пользователи')\n",
    "plt.ylabel('Количество заказов');"
   ]
  },
  {
   "cell_type": "markdown",
   "id": "a3edd7c0",
   "metadata": {},
   "source": [
    "В основном пользователи делают по 1 заказу, сильно реже по 2 заказа, но есть и такие, которые делают по 3 заказа. Для того, чтобы узнать аномалия ли 3 заказа  или нет, посчитаем 95-й и 99-й перцентили количества заказов на пользователя."
   ]
  },
  {
   "cell_type": "markdown",
   "id": "06e13ccb",
   "metadata": {},
   "source": [
    "<div class=\"alert alert-success\">\n",
    "    <b>✅ Комментарий ревьюера:</b>\n",
    "\n",
    "График и вывод приняты!\n",
    "</div>"
   ]
  },
  {
   "cell_type": "markdown",
   "id": "4dd44313",
   "metadata": {},
   "source": [
    "<a id='18-bullet'></a>\n",
    "## 3.7 95-й и 99-й перцентили количества заказов на пользователя. Граница для определения аномальных пользователей."
   ]
  },
  {
   "cell_type": "markdown",
   "id": "45991a0f",
   "metadata": {},
   "source": [
    "Посчитаем выборочные перцентили количества заказов на одного пользователя:"
   ]
  },
  {
   "cell_type": "code",
   "execution_count": 31,
   "id": "87d4db3d",
   "metadata": {},
   "outputs": [
    {
     "name": "stdout",
     "output_type": "stream",
     "text": [
      "[1. 2.]\n"
     ]
    }
   ],
   "source": [
    "print(np.percentile(orders_by_user['orders'], [95, 99])) "
   ]
  },
  {
   "cell_type": "markdown",
   "id": "cd4e9fd2",
   "metadata": {},
   "source": [
    "Не более 1% пользователей совершало больше 2-х заказов и не больше 5% пользоваетелей совершали больше 1-х заказа. Выберем 1 заказ на пользователя как нижнюю границу, остальные будем считать аномалиями."
   ]
  },
  {
   "cell_type": "markdown",
   "id": "9b75e069",
   "metadata": {},
   "source": [
    "<div class=\"alert alert-success\">\n",
    "    <b>✅ Комментарий ревьюера:</b>\n",
    "\n",
    "Согласен с твоим решением!\n",
    "</div>"
   ]
  },
  {
   "cell_type": "markdown",
   "id": "e317921a",
   "metadata": {},
   "source": [
    "<a id='19-bullet'></a>\n",
    "## 3.8 Точечный график стоимостей заказов. Выводы и предположения."
   ]
  },
  {
   "cell_type": "markdown",
   "id": "7bd1872d",
   "metadata": {},
   "source": [
    "Построим точечный график стоимостей заказов."
   ]
  },
  {
   "cell_type": "code",
   "execution_count": 32,
   "id": "e1e43f12",
   "metadata": {},
   "outputs": [
    {
     "data": {
      "image/png": "[encoded data removed]",
      "text/plain": [
       "<Figure size 720x360 with 1 Axes>"
      ]
     },
     "metadata": {
      "needs_background": "light"
     },
     "output_type": "display_data"
    }
   ],
   "source": [
    "# строим точечный график стоимостей заказов\n",
    "x_values = pd.Series(range(0,len(orders['revenue'])))\n",
    "plt.figure(figsize=(10, 5))\n",
    "plt.scatter(x_values, orders['revenue'], alpha=0.3)\n",
    "plt.title('Точечный график распределения стоимостей заказов')\n",
    "plt.ylabel('Стоимость заказа, у.е')\n",
    "plt.xlabel('Заказы')\n",
    "plt.show()"
   ]
  },
  {
   "cell_type": "markdown",
   "id": "0097de1d",
   "metadata": {},
   "source": [
    "На графике хорошовиден уже найденный заказ от 19 августа №425. Чтобы посмотреть распределение стоимостей поближе отсечем заказы со стоимостью более 250 000."
   ]
  },
  {
   "cell_type": "code",
   "execution_count": 33,
   "id": "16387f2e",
   "metadata": {},
   "outputs": [
    {
     "data": {
      "image/png": "[encoded data removed]",
      "text/plain": [
       "<Figure size 720x360 with 1 Axes>"
      ]
     },
     "metadata": {
      "needs_background": "light"
     },
     "output_type": "display_data"
    }
   ],
   "source": [
    "plt.figure(figsize=(10, 5))\n",
    "plt.scatter(x_values, orders['revenue'], alpha=0.5)\n",
    "plt.ylim(0, 250000)\n",
    "plt.title('Точечный график распределения стоимостей заказов')\n",
    "plt.ylabel('Стоимость заказа, у.е.')\n",
    "plt.xlabel('Заказы')\n",
    "plt.grid()\n",
    "plt.show()"
   ]
  },
  {
   "cell_type": "markdown",
   "id": "7ad2498d",
   "metadata": {},
   "source": [
    "При приблеженном распределении хорошо виден заказ примерно на 200 тыс., остальные не более 100 тыс. Чтобы посмотреть более точную границу аномально больших заказов рассчитаем перцентили."
   ]
  },
  {
   "cell_type": "markdown",
   "id": "c3f17f69",
   "metadata": {},
   "source": [
    "<div class=\"alert alert-success\">\n",
    "    <b>✅ Комментарий ревьюера:</b>\n",
    "\n",
    "Принято! На втором графике можно было смело убрать выброс в 200 000. \n",
    "</div>"
   ]
  },
  {
   "cell_type": "markdown",
   "id": "c432cd31",
   "metadata": {},
   "source": [
    "<a id='20-bullet'></a>\n",
    "## 3.10 95-й и 99-й перцентили стоимости заказов. Граница для определения аномальных заказов."
   ]
  },
  {
   "cell_type": "markdown",
   "id": "53494390",
   "metadata": {},
   "source": [
    "Посчитаем 95-й и 99-й перцентили стоимости заказов."
   ]
  },
  {
   "cell_type": "code",
   "execution_count": 34,
   "id": "91abf147",
   "metadata": {},
   "outputs": [
    {
     "name": "stdout",
     "output_type": "stream",
     "text": [
      "[26785. 53904.]\n"
     ]
    }
   ],
   "source": [
    "print(np.percentile(orders['revenue'] , [95, 99]))"
   ]
  },
  {
   "cell_type": "markdown",
   "id": "ad12ed88",
   "metadata": {},
   "source": [
    "Не более 1% пользователей совершало заказы на сумму более 53 904 и не больше 5% пользоваетелей совершали заказы на сумму более 26 785. Как аномальные можно отсеять заказы стоимостью выше 26 785 у.е."
   ]
  },
  {
   "cell_type": "markdown",
   "id": "d76a3938",
   "metadata": {},
   "source": [
    "<a id='21-bullet'></a>\n",
    "## 3.11 Статистическая значимость различий в среднем количестве заказов на посетителя между группами между группами по «сырым» данным. Выводы и предположения."
   ]
  },
  {
   "cell_type": "markdown",
   "id": "8c923240",
   "metadata": {},
   "source": [
    "Посчитаем статистическую значимость различий в среднем количестве заказов на пользователя по «сырым» данным — без удаления аномальных пользователей.\n",
    "\n",
    "Сформулируем гипотезы. \n",
    "\n",
    "**Нулевая**: различий в среднем количестве заказов на посетителя между группами нет. \n",
    "**Альтернативная**: различия в среднем среднем количестве заказов на посетителя между группами есть."
   ]
  },
  {
   "cell_type": "markdown",
   "id": "a9d1b94b",
   "metadata": {},
   "source": [
    "<div class=\"alert alert-success\">\n",
    "    <b>✅ Комментарий ревьюера:</b>\n",
    "\n",
    "Гипотезы сформулированы корректно!\n",
    "</div>"
   ]
  },
  {
   "cell_type": "markdown",
   "id": "b86b4f71",
   "metadata": {},
   "source": [
    "<div class=\"alert alert-danger\">\n",
    "    <b>❌ Комментарий ревьюера:</b>\n",
    "    \n",
    "Укажи, пожалуйста, какой уровень значимости (alpha) устанавливаешь. Чаще всего в таких исследованиях мы выбираем значение 0.05, но его значение не фиксировано, может меняться исследователем.\n",
    "</div>"
   ]
  },
  {
   "cell_type": "markdown",
   "id": "8b01f21b",
   "metadata": {},
   "source": [
    "<div class=\"alert alert-info\">\n",
    "<b> Комментарий студента</b>\n",
    "\n",
    "</ Указала уровень значисости alpha>"
   ]
  },
  {
   "cell_type": "markdown",
   "id": "194d9702",
   "metadata": {},
   "source": [
    "Уровень значисости alpha выбираем 0.05"
   ]
  },
  {
   "cell_type": "markdown",
   "id": "5ebcb157",
   "metadata": {},
   "source": [
    "<div class=\"alert alert-success\">\n",
    "    <b>✅ Комментарий ревьюера V2:</b>\n",
    "\n",
    "Спасибо!\n",
    "</div>"
   ]
  },
  {
   "cell_type": "markdown",
   "id": "45179c53",
   "metadata": {},
   "source": [
    "##Для расчета статистической значимости различий  между группами нам необходимо подготовить имеющиеся данные. Сформируем новый датафрейм data со следующими столбцами:\n",
    "\n",
    "**date** - дата; \n",
    "\n",
    "**orders_per_date_a**- количество заказов в выбранную дату в группе A;\n",
    "\n",
    "**revenue_per_date_a** - суммарная выручка в выбранную дату в группе A;\n",
    "\n",
    "**orders_per_date_b** - количество заказов в выбранную дату в группе B;\n",
    "\n",
    "**revenue_per_date_b** - суммарная выручка в выбранную дату в группе B;\n",
    "\n",
    "**orders_cummulative_a**- суммарное число заказов до выбранной даты включительно в группе A;\n",
    "\n",
    "**revenue_cummulative_a** - суммарная выручка до выбранной даты включительно в группе A;\n",
    "\n",
    "**orders_cummulative_b** - суммарное число заказов до выбранной даты включительно в группе B;\n",
    "\n",
    "**revenue_cummulative_b** - суммарная выручка до выбранной даты включительно в группе B;\n",
    "\n",
    "**visitors_per_date_a** - количество пользователей в выбранную дату в группе A;\n",
    "\n",
    "**visitors_cummulative_a** - количество пользователей до выбранной даты включительно в группе A;\n",
    "\n",
    "**visitors_per_date_b** - количество пользователей в выбранную дату в группе B;\n",
    "\n",
    "**visitors_cummulative_b** - количество пользователей до выбранной даты включительно в группе B."
   ]
  },
  {
   "cell_type": "code",
   "execution_count": 35,
   "id": "fa525e19",
   "metadata": {},
   "outputs": [],
   "source": [
    "# Так как построение таблицы data в целом не требуется и  из этой таблицы берется только \n",
    "#количество посетителей-  убираем лишний код\n",
    "\n",
    "\n",
    "# расчет количества пользователей в выбранную дату в группе А с ЭТОГО МОМЕНТА\n",
    "#visitors_a_daily = visitors[visitors['group'] == 'A'][['date', 'visitors']]\n",
    "#visitors_a_daily.columns = ['date', 'visitors_per_date_a']\n",
    "\n",
    "# расчет количества пользователей до выбранной даты включительно в группе А\n",
    "#visitors_a_cummulative = visitors_a_daily.apply(\n",
    "    #lambda x: visitors_a_daily[visitors_a_daily['date'] <= x['date']].agg(\n",
    "        #{'date': 'max', 'visitors_per_date_a': 'sum'}\n",
    "    #),\n",
    "   # axis=1,\n",
    "#)\n",
    "#visitors_a_cummulative.columns = ['date', 'visitors_cummulative_a']\n",
    "\n",
    "# расчет количества пользователей в выбранную дату в группе В\n",
    "#visitors_b_daily = visitors[visitors['group'] == 'B'][['date', 'visitors']]\n",
    "#visitors_b_daily.columns = ['date', 'visitors_per_date_b']\n",
    "\n",
    "# расчет количества пользователей до выбранной даты включительно в группе В\n",
    "#visitors_b_cummulative = visitors_b_daily.apply(\n",
    "    #lambda x: visitors_b_daily[visitors_b_daily['date'] <= x['date']].agg(\n",
    "        #{'date': 'max', 'visitors_per_date_b': 'sum'}\n",
    "    #),\n",
    "   # axis=1,\n",
    "#)\n",
    "#visitors_b_cummulative.columns = ['date', 'visitors_cummulative_b']\n",
    "\n",
    "# расчет количества заказов и суммарной выручки в выбранную дату в группе A\n",
    "#orders_a_daily = (\n",
    "    #orders[orders['group'] == 'A'][['date', 'transaction_id', 'visitor_id', 'revenue']]\n",
    "    #.groupby('date', as_index=False)\n",
    "    #.agg({'transaction_id': pd.Series.nunique, 'revenue': 'sum'})\n",
    "#)\n",
    "#orders_a_daily.columns = ['date', 'orders_per_date_a', 'revenue_per_date_a']\n",
    "\n",
    "# расчет суммарного числа заказов до выбранной даты включительно в группе A\n",
    "#orders_a_cummulative = orders_a_daily.apply(\n",
    "    #lambda x: orders_a_daily[orders_a_daily['date'] <= x['date']].agg(\n",
    "        #{'date': 'max', 'orders_per_date_a': 'sum', 'revenue_per_date_a': 'sum'}\n",
    "    #),\n",
    "    #axis=1,\n",
    "#).sort_values(by=['date'])\n",
    "#orders_a_cummulative.columns = [\n",
    "    #'date',\n",
    "    #'orders_cummulative_a',\n",
    "    #'revenue_cummulative_a',\n",
    "#]\n",
    "\n",
    "# расчет количества заказов и суммарной выручки в выбранную дату в группе В\n",
    "#orders_b_daily = (\n",
    "    #orders[orders['group'] == 'B'][['date', 'transaction_id', 'visitor_id', 'revenue']]\n",
    "    #.groupby('date', as_index=False)\n",
    "    #.agg({'transaction_id': pd.Series.nunique, 'revenue': 'sum'})\n",
    "#)\n",
    "#orders_b_daily.columns = ['date', 'orders_per_date_b', 'revenue_per_date_b']\n",
    "\n",
    "# расчет суммарного числа заказов до выбранной даты включительно в группе В\n",
    "#orders_b_cummulative = orders_b_daily.apply(\n",
    "    #lambda x: orders_b_daily[orders_b_daily['date'] <= x['date']].agg(\n",
    "        #{'date': 'max', 'orders_per_date_b': 'sum', 'revenue_per_date_b': 'sum'}\n",
    "    #),\n",
    "   # axis=1,\n",
    "#).sort_values(by=['date'])\n",
    "#orders_b_cummulative.columns = [\n",
    "    #'date',\n",
    "    #'orders_cummulative_b',\n",
    "    #'revenue_cummulative_b',\n",
    "#]\n",
    "\n",
    "# объединение датафреймов в один общий\n",
    "#data = (\n",
    "   # orders_a_daily.merge(\n",
    "        #orders_b_daily, left_on='date', right_on='date', how='left'\n",
    "    #)\n",
    "    #.merge(orders_a_cummulative, left_on='date', right_on='date', how='left')\n",
    "    #.merge(orders_b_cummulative, left_on='date', right_on='date', how='left')\n",
    "    #.merge(visitors_a_daily, left_on='date', right_on='date', how='left')\n",
    "    #.merge(visitors_b_daily, left_on='date', right_on='date', how='left')\n",
    "    #.merge(visitors_a_cummulative, left_on='date', right_on='date', how='left')\n",
    "    #.merge(visitors_b_cummulative, left_on='date', right_on='date', how='left')\n",
    "#)\n",
    "\n",
    "#display(data.head())"
   ]
  },
  {
   "cell_type": "markdown",
   "id": "e149ae16",
   "metadata": {},
   "source": [
    "<div class=\"alert alert-warning\">\n",
    "    <b>⚠️ Комментарий ревьюера:</b>\n",
    "    \n",
    "Построение таблицы data в целом не требуется. Из этой таблицы берется только количество посетителей, которое можно взять напрямую из visitors.\n",
    "</div>"
   ]
  },
  {
   "cell_type": "markdown",
   "id": "9405f5d0",
   "metadata": {},
   "source": [
    "<div class=\"alert alert-info\">\n",
    "<b> Комментарий студента</b>\n",
    "\n",
    "</ Спасибо, поняла, ненужное удалять не стала- захэштегила лишний код>"
   ]
  },
  {
   "cell_type": "markdown",
   "id": "a254e87d",
   "metadata": {},
   "source": [
    "<div class=\"alert alert-success\">\n",
    "    <b>✅ Комментарий ревьюера V2:</b>\n",
    "\n",
    "👍\n",
    "</div>"
   ]
  },
  {
   "cell_type": "markdown",
   "id": "8477f002",
   "metadata": {},
   "source": [
    "Создадим переменные orders_by_users_a и orders_by_users_b со столбцами ['visitor_id', 'orders']. В них для пользователей, которые заказывали хотя бы 1 раз, укажем число совершённых заказов.\n",
    "Объявим переменные sample_a и sample_b, в которых пользователям с заказами будет соответствовать число заказов пользователя, а пользователям без заказов — нули.\n",
    "Посчитаем статистическую значимость различия конверсии по результатам месяца теста.\n",
    "Применим тест Манна-Уитни.\n",
    "Выведем p-value для сравнения конверсии между группами.\n",
    "Вычислим относительное различие в конверсии между группами."
   ]
  },
  {
   "cell_type": "code",
   "execution_count": 36,
   "id": "374b2800",
   "metadata": {},
   "outputs": [
    {
     "name": "stdout",
     "output_type": "stream",
     "text": [
      "p-value = 0.011\n",
      "Относительное различие в средней конверсии между группами по «сырым» данным: 0.160\n"
     ]
    }
   ],
   "source": [
    "# формирование датафреймов в которых указано число совершённых заказов\n",
    "# для пользователей, которые заказывали хотя бы 1 раз\n",
    "orders_by_users_a = (\n",
    "    orders[orders['group'] == 'A']\n",
    "    .groupby('visitor_id', as_index=False)\n",
    "    .agg({'transaction_id': pd.Series.nunique})\n",
    ")\n",
    "orders_by_users_a.columns = ['visitor_id', 'orders']\n",
    "\n",
    "orders_by_users_b = (\n",
    "    orders[orders['group'] == 'B']\n",
    "    .groupby('visitor_id', as_index=False)\n",
    "    .agg({'transaction_id': pd.Series.nunique})\n",
    ")\n",
    "orders_by_users_b.columns = ['visitor_id', 'orders']\n",
    "\n",
    "# формирование переменных в которых пользователям с заказами\n",
    "# будет соответствовать число заказов пользователя,\n",
    "# а пользователям без заказов \n",
    "sample_a = pd.concat([orders_by_users_a['orders'],\n",
    "                      pd.Series(0, index=np.arange(\n",
    "                          visitors[visitors['group']=='A']['visitors'].sum()-\n",
    "                          ####data['visitors_per_date_a'].sum()\n",
    "                          len(orders_by_users_a['orders'])), name='orders')], axis=0)\n",
    "\n",
    "sample_b = pd.concat([orders_by_users_b['orders'],\n",
    "                      pd.Series(0, index=np.arange(\n",
    "                          ###data['visitors_per_date_b'].sum() \n",
    "                          visitors[visitors['group']=='B']['visitors'].sum()-\n",
    "                          len(orders_by_users_b['orders'])), name='orders')], axis=0)\n",
    "\n",
    "# рассчет статистической значимости различия конверсии по результатам теста Манна-Уитни\n",
    "print('p-value =', '{0:.3f}'.format(st.mannwhitneyu(sample_a, sample_b)[1]))\n",
    "\n",
    "# рассчет относительного различия в конверсии между группами\n",
    "print('Относительное различие в средней конверсии между группами по «сырым» данным:',\n",
    "      '{0:.3f}'.format(sample_b.mean() / sample_a.mean() - 1))"
   ]
  },
  {
   "cell_type": "markdown",
   "id": "a6b1ee15",
   "metadata": {},
   "source": [
    "<div class=\"alert alert-info\">\n",
    "<b> Комментарий студента</b>\n",
    "\n",
    "</  В связи с удалением ненужной таблицы и кода выше в этой части заменила \"data['visitors_per_date_b'].sum()\"  и \"data['visitors_per_date_a'].sum() \" на >\n",
    "                 visitors[visitors['group']=='A']['visitors'].sum()      и     visitors[visitors['group']=='B']['visitors'].sum() соответсвенно> "
   ]
  },
  {
   "cell_type": "markdown",
   "id": "4eb01bd7",
   "metadata": {},
   "source": [
    "<div class=\"alert alert-success\">\n",
    "    <b>✅ Комментарий ревьюера V2:</b>\n",
    "\n",
    "Молодец!\n",
    "</div>"
   ]
  },
  {
   "cell_type": "markdown",
   "id": "e34d08c6",
   "metadata": {},
   "source": [
    "<div class=\"alert alert-success\">\n",
    "    <b>✅ Комментарий ревьюера:</b>\n",
    "\n",
    "Расчеты выполнены верно! Молодец что подписала цифры на выходе!\n",
    "</div>"
   ]
  },
  {
   "cell_type": "markdown",
   "id": "1e4e6afb",
   "metadata": {},
   "source": [
    "Анализ сырах данных говорит о том, что в среднем количестве заказов на посетителя между группами есть статистические различия.\n",
    "Р-value меньше 0.05, и нулевую гипотезу о том, что статистически значимых различий в  среднем количестве заказов на посетителя между группами  нет оснований принять. Относительный прирост среднего группы B к среднему количеству заказов на посетителя группы А равен 16%."
   ]
  },
  {
   "cell_type": "markdown",
   "id": "984f95cf",
   "metadata": {},
   "source": [
    "<div class=\"alert alert-info\">\n",
    "<b> Комментарий студента</b>\n",
    "\n",
    "</ Вывод скорректировала> "
   ]
  },
  {
   "cell_type": "markdown",
   "id": "45f33f88",
   "metadata": {},
   "source": [
    "<div class=\"alert alert-danger\">\n",
    "    <b>❌ Комментарий ревьюера:</b>\n",
    "    \n",
    "Все верно, только давай заменим \"конверсию\" на \"количество заказов\" во всех выводах проекта.\n",
    "</div>"
   ]
  },
  {
   "cell_type": "markdown",
   "id": "9b454192",
   "metadata": {},
   "source": [
    "<div class=\"alert alert-success\">\n",
    "    <b>✅ Комментарий ревьюера V2:</b>\n",
    "\n",
    "Спасибо!\n",
    "</div>"
   ]
  },
  {
   "cell_type": "markdown",
   "id": "2fcc6c08",
   "metadata": {},
   "source": [
    "<a id='22-bullet'></a>\n",
    "## 3.12 Статистическая значимость различий в среднем чеке заказа между группами по «сырым» данным.Выводы и предположения."
   ]
  },
  {
   "cell_type": "markdown",
   "id": "953b526d",
   "metadata": {},
   "source": [
    "Сформулируем гипотезы:\n",
    "\n",
    "**Нулевая**: различий в среднем чеке заказа между группами нет. \n",
    "**Альтернативная**: различия в среднем чеке заказа  между группами есть.\n",
    "\n",
    "Чтобы рассчитать статистическую значимость различий в среднем чеке, передадим критерию mannwhitneyu() данные о выручке с заказов. Найдём относительные различия в среднем чеке между группами."
   ]
  },
  {
   "cell_type": "code",
   "execution_count": 37,
   "id": "41574c6c",
   "metadata": {},
   "outputs": [
    {
     "name": "stdout",
     "output_type": "stream",
     "text": [
      "p-value = 0.829\n",
      "Относительное различие в среднем чеке между группами по «сырым» данным: 0.287\n"
     ]
    }
   ],
   "source": [
    "# рассчет статистической значимости различия среднего чека по результатам теста Манна-Уитни\n",
    "print('p-value =', '{0:.3f}'.format(st.mannwhitneyu(\n",
    "    orders[orders['group']=='A']['revenue'],\n",
    "    orders[orders['group']=='B']['revenue'])[1]))\n",
    "\n",
    "# рассчет относительного различия в среднем чеке между группами\n",
    "print('Относительное различие в среднем чеке между группами по «сырым» данным:',\n",
    "      '{0:.3f}'.format(\n",
    "          orders[orders['group']=='B']['revenue'].mean()/\n",
    "          orders[orders['group']=='A']['revenue'].mean()-1)) "
   ]
  },
  {
   "cell_type": "markdown",
   "id": "17a0b128",
   "metadata": {},
   "source": [
    "p-value = 0.829, что больше 0.05. Значит, что причин отвергать нулевую гипотезу и считать, что в среднем чеке есть различия, нет. При этом средний чек группы В сильно больше среднего чека группы А- на 28,7 %,что объясняется аномальными значениями."
   ]
  },
  {
   "cell_type": "markdown",
   "id": "5d058bee",
   "metadata": {},
   "source": [
    "<div class=\"alert alert-success\">\n",
    "    <b>✅ Комментарий ревьюера:</b>\n",
    "\n",
    "Проверка выполнена верно! С выводом согласен!\n",
    "</div>"
   ]
  },
  {
   "cell_type": "markdown",
   "id": "2fd05a1a",
   "metadata": {},
   "source": [
    "<a id='23-bullet'></a>\n",
    "## 3.13 Статистическая значимость различий в среднем количестве заказов на посетителя между группами между группами по «очищенным» данным.Выводы и предположения."
   ]
  },
  {
   "cell_type": "markdown",
   "id": "8e30e022",
   "metadata": {},
   "source": [
    "В предыдущих пунктах мы приняли за аномальных пользователей тех, кто совершил более 1-го заказа или совершил заказ дороже 26 785 рублей. Сделаем срезы пользователей с числом заказов больше 1 — many_orders и пользователей, совершивших заказы дороже 26 785 — и expensive_orders.  Объединим их в таблице abnormal_users. А также узнаем, сколько всего аномальных пользователей методом shape()."
   ]
  },
  {
   "cell_type": "markdown",
   "id": "0ec8ac1d",
   "metadata": {},
   "source": [
    "Удаляем  именно пользователей — сначала определим аномальные заказы. Затем пользователей, совершивших их, и добавляем их в список аномальных."
   ]
  },
  {
   "cell_type": "code",
   "execution_count": 38,
   "id": "e65be288",
   "metadata": {},
   "outputs": [
    {
     "name": "stdout",
     "output_type": "stream",
     "text": [
      "568     113298937\n",
      "1099    148427295\n",
      "928     204675465\n",
      "33      249864742\n",
      "684     358944393\n",
      "Name: visitor_id, dtype: int64\n",
      "\n",
      "\n",
      "Количество аномальных пользователей: 86\n"
     ]
    }
   ],
   "source": [
    "#присваимваем значение максимального порога для отсечения большого количества заказов и суммы заказа\n",
    "many_orders = np.percentile(orders_by_user['orders'], 95)\n",
    "expensive_orders = np.percentile(orders['revenue'], 95)\n",
    "users_with_many_orders = pd.concat([\n",
    "    orders_by_users_a[orders_by_users_a['orders'] > many_orders]['visitor_id'],\n",
    "    orders_by_users_b[orders_by_users_b['orders'] > many_orders]['visitor_id']], axis=0)\n",
    "users_with_expensive_orders = orders[orders['revenue'] > expensive_orders]['visitor_id']\n",
    "abnormal_users = (pd.concat([\n",
    "    users_with_many_orders,\n",
    "    users_with_expensive_orders], axis=0)\n",
    "                  .drop_duplicates()\n",
    "                  .sort_values())\n",
    "\n",
    "print(abnormal_users.head())\n",
    "print('\\n')\n",
    "print('Количество аномальных пользователей:', abnormal_users.shape[0])"
   ]
  },
  {
   "cell_type": "markdown",
   "id": "591cb0f5",
   "metadata": {},
   "source": [
    "Количество аномальных пользователей - 86. Нужно понять, как они повлияли на результаты теста. Посчитаем статистическую значимость различий в конверсии между группами теста по очищенным данным. Подготовим выборки количества заказов по пользователям по группам теста и применим статистический критерий Манна-Уитни к полученным выборкам.*\n",
    "\n",
    "Гипотезы:\n",
    "\n",
    "**Нулевая**: - различий в конверсии между группами нет;\n",
    "**Альтернативная**: - различия в конверсии между группами есть."
   ]
  },
  {
   "cell_type": "code",
   "execution_count": 39,
   "id": "b9443560",
   "metadata": {},
   "outputs": [
    {
     "name": "stdout",
     "output_type": "stream",
     "text": [
      "p-value = 0.016\n",
      "Относительное различие в средней конверсии между группами по «очищенным» данным: 0.174\n"
     ]
    }
   ],
   "source": [
    "sample_a_filtered = pd.concat([\n",
    "    orders_by_users_a[np.logical_not(\n",
    "        orders_by_users_a['visitor_id']\n",
    "        .isin(abnormal_users))]['orders'],\n",
    "    pd.Series(0, index=np.arange(#data['visitors_per_date_a'].sum() -\n",
    "                                 visitors[visitors['group']=='A']['visitors'].sum()-\n",
    "                                 len(orders_by_users_a['orders'])), name='orders')], axis=0)\n",
    "\n",
    "sample_b_filtered = pd.concat([\n",
    "    orders_by_users_b[np.logical_not(\n",
    "        orders_by_users_b['visitor_id']\n",
    "        .isin(abnormal_users))]['orders'],\n",
    "    pd.Series(0, index=np.arange(#data['visitors_per_date_b'].sum() -\n",
    "                                 visitors[visitors['group']=='B']['visitors'].sum()-\n",
    "                                 len(orders_by_users_b['orders'])), name='orders')], axis=0)\n",
    "\n",
    "# рассчет статистической значимости различия конверсии по результатам теста Манна-Уитни\n",
    "print('p-value =', '{0:.3f}'.format(st.mannwhitneyu(sample_a_filtered, sample_b_filtered)[1]))\n",
    "\n",
    "# рассчет относительного различия в конверсии между группами\n",
    "print('Относительное различие в средней конверсии между группами по «очищенным» данным:',\n",
    "      '{0:.3f}'.format(sample_b_filtered.mean()/sample_a_filtered.mean()-1))"
   ]
  },
  {
   "cell_type": "markdown",
   "id": "bdf9c113",
   "metadata": {},
   "source": [
    "<div class=\"alert alert-info\">\n",
    "<b> Комментарий студента</b>\n",
    "\n",
    "</  В связи с удалением ненужной таблицы и кода выше в этой части заменила \"data['visitors_per_date_b'].sum()\"  и \"data['visitors_per_date_a'].sum() \" на >\n",
    "                 visitors[visitors['group']=='A']['visitors'].sum()      и     visitors[visitors['group']=='B']['visitors'].sum() соответсвенно> "
   ]
  },
  {
   "cell_type": "markdown",
   "id": "441b4b3f",
   "metadata": {},
   "source": [
    " По \"очищенным\" данным различия между группами A и B также есть: p-value заметно меньше 0.05, и нулевую гипотезу о том, что статистически значимых различий в всреднем количестве заказов на посетителя  между группами следует отвергнуть. Относительный выигрыш группы B увеличился с 16% и равен 17,4%."
   ]
  },
  {
   "cell_type": "markdown",
   "id": "6d1fd7d6",
   "metadata": {},
   "source": [
    "<div class=\"alert alert-info\">\n",
    "<b> Комментарий студента</b>\n",
    "\n",
    "</Вывод скорректировала> "
   ]
  },
  {
   "cell_type": "markdown",
   "id": "6a7690b8",
   "metadata": {},
   "source": [
    "<div class=\"alert alert-danger\">\n",
    "    <b>❌ Комментарий ревьюера:</b>\n",
    "    \n",
    "Замени, пожалуйста, \"конверсию\" в гипотезах и выводах.\n",
    "</div>"
   ]
  },
  {
   "cell_type": "markdown",
   "id": "19234683",
   "metadata": {},
   "source": [
    "<div class=\"alert alert-success\">\n",
    "    <b>✅ Комментарий ревьюера V2:</b>\n",
    "\n",
    "Супер!\n",
    "</div>"
   ]
  },
  {
   "cell_type": "markdown",
   "id": "ce823672",
   "metadata": {},
   "source": [
    "<a id='24-bullet'></a>\n",
    "## 3.14 Статистическая значимость различий в среднем чеке заказа между группами по «очищенным» данным.Выводы и предположения."
   ]
  },
  {
   "cell_type": "markdown",
   "id": "a459db9c",
   "metadata": {},
   "source": [
    " Проверим, как изменились результаты по среднему чеку."
   ]
  },
  {
   "cell_type": "markdown",
   "id": "c174100c",
   "metadata": {},
   "source": [
    "Сформулируем гипотезы:\n",
    "**Нулевая**: - различий в среднем чеке между группами нет;\n",
    "**Альтернативная**: - различия в среднем чеке между группами есть.\n",
    "\n",
    "\n",
    "Передадим критерию mannwhitneyu() данные о выручке с заказов без учета аномальных пользователей и также найдём относительные различия в среднем чеке между группами."
   ]
  },
  {
   "cell_type": "code",
   "execution_count": 40,
   "id": "060660fa",
   "metadata": {},
   "outputs": [
    {
     "name": "stdout",
     "output_type": "stream",
     "text": [
      "p-value = 0.727\n",
      "Относительное различие в среднем чеке между группами по «очищенным» данным: -0.034\n"
     ]
    }
   ],
   "source": [
    "print('p-value =',\n",
    "      '{0:.3f}'.format(st.mannwhitneyu(\n",
    "    orders[np.logical_and(\n",
    "        orders['group'] == 'A',\n",
    "        np.logical_not(orders['visitor_id']\n",
    "                       .isin(abnormal_users)))]['revenue'], \n",
    "    orders[np.logical_and(\n",
    "        orders['group'] == 'B',\n",
    "        np.logical_not(orders['visitor_id']\n",
    "                       .isin(abnormal_users)))]['revenue'])[1]))\n",
    "\n",
    "print('Относительное различие в среднем чеке между группами по «очищенным» данным:',\n",
    "      '{0:.3f}'.format(\n",
    "    orders[np.logical_and(\n",
    "        orders['group'] == 'B',\n",
    "        np.logical_not(orders['visitor_id']\n",
    "                       .isin(abnormal_users)))]['revenue'].mean() /\n",
    "    orders[np.logical_and(\n",
    "        orders['group'] == 'A',\n",
    "        np.logical_not(orders['visitor_id']\n",
    "                       .isin(abnormal_users)))]['revenue'].mean() - 1))\n"
   ]
  },
  {
   "cell_type": "markdown",
   "id": "53c7a645",
   "metadata": {},
   "source": [
    "P-value уменьшился, но остался значительно больше 0.05. Значит, причин отвергать нулевую гипотезу и считать, что в среднем чеке есть различия, по-прежнему нет. А вот средний чек группы B без выбросов стал ниже среднего чека группы A, хотя и ненамного."
   ]
  },
  {
   "cell_type": "markdown",
   "id": "7559a284",
   "metadata": {},
   "source": [
    "<div class=\"alert alert-success\">\n",
    "    <b>✅ Комментарий ревьюера:</b>\n",
    "\n",
    "Принято!\n",
    "</div>"
   ]
  },
  {
   "cell_type": "markdown",
   "id": "1639add7",
   "metadata": {},
   "source": [
    "<a id='25-bullet'></a>\n",
    "## 3.15 Решение по результатам теста"
   ]
  },
  {
   "cell_type": "markdown",
   "id": "5c5597e4",
   "metadata": {},
   "source": [
    "**По результатам тестирования было выявлено:**\n",
    "\n",
    "По \"сырым\" и по \"очищенным\" данным различия в конверсии групп A и B есть. Относительный выигрыш группы \"B\" над \"A\" равен 17,4% по \"очищенным\" и 16 % по \"сырым\" данным.\n",
    "\n",
    "Оказалось, что и по \"сырым\" и по \"очищенным\" данным различия в средних чеках групп A и B отстутствуют, несмотря на то, что средний чек группы B оказался на 3,4% ниже среднего чека группы A по \"очищенным\" данным, в то время как по \"сырым\" данным, он был больше аж на 28,7%, - и всё это из-за одного того самого аномального заказа №425 на 1,3 млн ! \n",
    "\n",
    "Результаты тестирования вполне однозначны. В итоге можно принять решение остановить тестирование и констатировать успех и победу группы B : группа B значительно лучше (эффективнее) группы A по конверсии, хотя по среднему чеку группы примерно равны."
   ]
  },
  {
   "cell_type": "markdown",
   "id": "d3110e9f",
   "metadata": {},
   "source": [
    "<a id='26-bullet'></a>\n",
    "# 4. Общий вывод"
   ]
  },
  {
   "cell_type": "markdown",
   "id": "933daeaf",
   "metadata": {},
   "source": [
    "**Целью исследование было**выбрать гипотезу  для увеличения выручки среди предложенных отделом маркетинга.\n",
    "\n",
    "**Выполненные задачи:**\n",
    "\n",
    "- приоритизировать гипотезы;\n",
    "- запустить A/B-тест;\n",
    "- проанализировать результаты. \n",
    "\n",
    "\n",
    "**Для корретного анализа была вополнена предобработка данных:**\n",
    "- проверка на явные дубликаты: явные дубликаты отсутствуют\n",
    "- проверка наличия пропущенных значений : пропуски в данных отсутсвуют\n",
    "- в таблице с гипотезами названия столбцов приведены к нижнему регистру \n",
    "- проверка типа данных : замена типов данных в формат даты\n",
    "    (датасет заказы: столбец с датами;\n",
    "     датасет посетители: столбец с датами;)\n",
    "- для лучшего восприятия названия столбцов в датасете с  заказами переписаны с нижним подчеркиванием вместо слитного написания\n",
    "\n",
    "\n",
    "\n",
    "**В ходе приоритизирования гипотез по фреймворкам ICE и RICE удалось определить наиболее важные из них:**\n",
    "\n",
    "Добавить форму подписки на все основные страницы, чтобы собрать базу клиентов для email-рассылок(гипотеза №7);\n",
    "Добавить два новых канала привлечения трафика, что позволит привлекать на 30% больше пользователей(гипотеза №0);\n",
    "Показать на главной странице баннеры с актуальными акциями и распродажами, чтобы увеличить конверсию(гипотеза №6).\n",
    "\n",
    "\n",
    "**Основные положения анализа результатов A/B-теста:**\n",
    "\n",
    "- Из таблицы orders было исключено 58 пользователей, попавших в обе группы тестирования;\n",
    "- За весь наблюдаемый период выручка в обеих группах увеличивается на протяжении всего теста. В группе B есть резкий всплеск 19-08-2019, который обусловлен аномально большим заказом № 425 на 1,29 млн.\n",
    "\n",
    "Кумулятивный средний чек группы В выше среднего чека группы А на почти на 30% к концу теста;\n",
    "\n",
    "Кумулятивное среднее количество заказов на посетителя  группы В выше среднего количества заказов на посетителя группы А примерно на 13% к концу теста;\n",
    "\n",
    "Не более 5% от всех пользователей оформляли больше чем 1 заказ, 1% пользователей оформляли заказ более 2 раз;\n",
    "\n",
    "Не более 5% от всех заказов имеют стоимость больше чем 26 785 у.е., 1% заказов - более 53 904 у.е.;\n",
    "\n",
    "\n",
    "Статистически значимое различие по среднему количеству заказов на посетителя  между группами присутствует как по «сырым» данным, так и по данным после фильтрации аномалий*. Относительное различие в среднем количестве заказов на посетителя  между группами (отношение среднего количества заказов на посетителя  группы В к среднему  количеству заказов на посетителя  группы А): 0.011 по «сырым» данным и 0.016 по «очищенным» данным;\n",
    "\n",
    "Нет статистически значимого различия по среднему чеку между группами ни по «сырым», ни по данным после фильтрации аномалий*. Относительное различие в среднем чеке между группами (отношение среднего чека группы В к среднему чеку группы А): 0.287 по «сырым» данным и -0.034 по «очищенным» данным;\n",
    "\n",
    "График различия среднего количества заказов на посетителя  между группами сообщает, что *результаты группы B лучше группы A и есть значительная тенденция к улучшению*.\n",
    "\n",
    "График различия среднего чека говорит о том, что результаты группы B несмотря на попытки роста имеют некоторую тенденцию к снижению, сказалось в том числе влияние крупных заказов. По «очищенным» данным средний чек группы А оказался больше среднего чека группы В.\n",
    "\n",
    "**Итог:**\n",
    "В итоге можно принять решение остановить тестирование и констатировать успех и победу группы B : группа B значительно лучше (эффективнее) группы A по среднему количеству заказов на посетителя , хотя по среднему чеку группы примерно равны.\n",
    "Выручка компании будет расти при бОльшем проценте конверсии из посетителей в покупателей, что и показывают результаты группы В, даже при меньшем среднем чеке."
   ]
  },
  {
   "cell_type": "markdown",
   "id": "7a90414c",
   "metadata": {},
   "source": [
    "<div class=\"alert alert-danger\">\n",
    "    <b>❌ Комментарий ревьюера:</b>\n",
    "    \n",
    "Все верно, нужно только заменить \"конверсию\".\n",
    "</div>"
   ]
  },
  {
   "cell_type": "markdown",
   "id": "ad289c86",
   "metadata": {},
   "source": [
    "<div class=\"alert alert-info\">\n",
    "<b> Комментарий студента</b>\n",
    "\n",
    "</Вывод скорректировала> "
   ]
  },
  {
   "cell_type": "markdown",
   "id": "5d0a265a",
   "metadata": {},
   "source": [
    "<div class=\"alert alert-success\">\n",
    "    <b>✅ Комментарий ревьюера V2:</b>\n",
    "\n",
    "Проект принят! 🎉\n",
    "    \n",
    "Спасибо за отличный проект, Арина! Успехов в дальнейшем обучении!\n",
    "</div>"
   ]
  },
  {
   "cell_type": "code",
   "execution_count": null,
   "id": "ee64b398",
   "metadata": {},
   "outputs": [],
   "source": []
  }
 ],
 "metadata": {
  "ExecuteTimeLog": [
   {
    "duration": 1183,
    "start_time": "2023-03-30T23:14:10.044Z"
   },
   {
    "duration": 238,
    "start_time": "2023-03-30T23:14:11.229Z"
   },
   {
    "duration": 3,
    "start_time": "2023-03-30T23:14:11.468Z"
   },
   {
    "duration": 33,
    "start_time": "2023-03-30T23:14:11.473Z"
   },
   {
    "duration": 7,
    "start_time": "2023-03-30T23:14:11.507Z"
   },
   {
    "duration": 35,
    "start_time": "2023-03-30T23:14:11.515Z"
   },
   {
    "duration": 7,
    "start_time": "2023-03-30T23:14:11.552Z"
   },
   {
    "duration": 13,
    "start_time": "2023-03-30T23:14:11.560Z"
   },
   {
    "duration": 26,
    "start_time": "2023-03-30T23:14:11.574Z"
   },
   {
    "duration": 4,
    "start_time": "2023-03-30T23:14:11.602Z"
   },
   {
    "duration": 43,
    "start_time": "2023-03-30T23:14:11.607Z"
   },
   {
    "duration": 11,
    "start_time": "2023-03-30T23:14:11.651Z"
   },
   {
    "duration": 15,
    "start_time": "2023-03-30T23:14:11.663Z"
   },
   {
    "duration": 11,
    "start_time": "2023-03-30T23:14:11.680Z"
   },
   {
    "duration": 7,
    "start_time": "2023-03-30T23:14:11.692Z"
   },
   {
    "duration": 7,
    "start_time": "2023-03-30T23:14:11.700Z"
   },
   {
    "duration": 8,
    "start_time": "2023-03-30T23:14:11.708Z"
   },
   {
    "duration": 38,
    "start_time": "2023-03-30T23:14:11.717Z"
   },
   {
    "duration": 9,
    "start_time": "2023-03-30T23:14:11.756Z"
   },
   {
    "duration": 241,
    "start_time": "2023-03-30T23:14:11.766Z"
   },
   {
    "duration": 253,
    "start_time": "2023-03-30T23:14:12.008Z"
   },
   {
    "duration": 8,
    "start_time": "2023-03-30T23:14:12.263Z"
   },
   {
    "duration": 14,
    "start_time": "2023-03-30T23:14:12.273Z"
   },
   {
    "duration": 5,
    "start_time": "2023-03-30T23:14:12.289Z"
   },
   {
    "duration": 200,
    "start_time": "2023-03-30T23:14:12.295Z"
   },
   {
    "duration": 295,
    "start_time": "2023-03-30T23:14:12.496Z"
   },
   {
    "duration": 192,
    "start_time": "2023-03-30T23:14:12.793Z"
   },
   {
    "duration": 282,
    "start_time": "2023-03-30T23:14:12.988Z"
   },
   {
    "duration": 9,
    "start_time": "2023-03-30T23:14:13.272Z"
   },
   {
    "duration": 128,
    "start_time": "2023-03-30T23:14:13.282Z"
   },
   {
    "duration": 4,
    "start_time": "2023-03-30T23:14:13.411Z"
   },
   {
    "duration": 135,
    "start_time": "2023-03-30T23:14:13.416Z"
   },
   {
    "duration": 192,
    "start_time": "2023-03-30T23:14:13.553Z"
   },
   {
    "duration": 3,
    "start_time": "2023-03-30T23:14:13.747Z"
   },
   {
    "duration": 187,
    "start_time": "2023-03-30T23:14:13.752Z"
   },
   {
    "duration": 129,
    "start_time": "2023-03-30T23:14:13.941Z"
   },
   {
    "duration": 10,
    "start_time": "2023-03-30T23:14:14.072Z"
   },
   {
    "duration": 9,
    "start_time": "2023-03-30T23:14:14.084Z"
   },
   {
    "duration": 23,
    "start_time": "2023-03-30T23:14:14.095Z"
   },
   {
    "duration": 38,
    "start_time": "2023-03-30T23:14:14.120Z"
   },
   {
    "duration": 84,
    "start_time": "2023-03-31T07:54:27.665Z"
   },
   {
    "duration": 1464,
    "start_time": "2023-03-31T09:05:12.734Z"
   },
   {
    "duration": 227,
    "start_time": "2023-03-31T09:05:14.200Z"
   },
   {
    "duration": 3,
    "start_time": "2023-03-31T09:05:14.429Z"
   },
   {
    "duration": 58,
    "start_time": "2023-03-31T09:05:14.433Z"
   },
   {
    "duration": 10,
    "start_time": "2023-03-31T09:05:14.492Z"
   },
   {
    "duration": 63,
    "start_time": "2023-03-31T09:05:14.504Z"
   },
   {
    "duration": 11,
    "start_time": "2023-03-31T09:05:14.569Z"
   },
   {
    "duration": 29,
    "start_time": "2023-03-31T09:05:14.582Z"
   },
   {
    "duration": 47,
    "start_time": "2023-03-31T09:05:14.613Z"
   },
   {
    "duration": 4,
    "start_time": "2023-03-31T09:05:14.663Z"
   },
   {
    "duration": 25,
    "start_time": "2023-03-31T09:05:14.669Z"
   },
   {
    "duration": 11,
    "start_time": "2023-03-31T09:05:14.696Z"
   },
   {
    "duration": 16,
    "start_time": "2023-03-31T09:05:14.708Z"
   },
   {
    "duration": 31,
    "start_time": "2023-03-31T09:05:14.725Z"
   },
   {
    "duration": 9,
    "start_time": "2023-03-31T09:05:14.757Z"
   },
   {
    "duration": 7,
    "start_time": "2023-03-31T09:05:14.767Z"
   },
   {
    "duration": 12,
    "start_time": "2023-03-31T09:05:14.776Z"
   },
   {
    "duration": 8,
    "start_time": "2023-03-31T09:05:14.790Z"
   },
   {
    "duration": 19,
    "start_time": "2023-03-31T09:05:14.800Z"
   },
   {
    "duration": 270,
    "start_time": "2023-03-31T09:05:14.821Z"
   },
   {
    "duration": 256,
    "start_time": "2023-03-31T09:05:15.092Z"
   },
   {
    "duration": 8,
    "start_time": "2023-03-31T09:05:15.350Z"
   },
   {
    "duration": 19,
    "start_time": "2023-03-31T09:05:15.360Z"
   },
   {
    "duration": 6,
    "start_time": "2023-03-31T09:05:15.381Z"
   },
   {
    "duration": 215,
    "start_time": "2023-03-31T09:05:15.389Z"
   },
   {
    "duration": 359,
    "start_time": "2023-03-31T09:05:15.605Z"
   },
   {
    "duration": 205,
    "start_time": "2023-03-31T09:05:15.965Z"
   },
   {
    "duration": 114,
    "start_time": "2023-03-31T09:05:16.173Z"
   },
   {
    "duration": 0,
    "start_time": "2023-03-31T09:05:16.289Z"
   },
   {
    "duration": 0,
    "start_time": "2023-03-31T09:05:16.290Z"
   },
   {
    "duration": 0,
    "start_time": "2023-03-31T09:05:16.291Z"
   },
   {
    "duration": 0,
    "start_time": "2023-03-31T09:05:16.292Z"
   },
   {
    "duration": 0,
    "start_time": "2023-03-31T09:05:16.293Z"
   },
   {
    "duration": 0,
    "start_time": "2023-03-31T09:05:16.294Z"
   },
   {
    "duration": 0,
    "start_time": "2023-03-31T09:05:16.294Z"
   },
   {
    "duration": 0,
    "start_time": "2023-03-31T09:05:16.295Z"
   },
   {
    "duration": 0,
    "start_time": "2023-03-31T09:05:16.296Z"
   },
   {
    "duration": 0,
    "start_time": "2023-03-31T09:05:16.297Z"
   },
   {
    "duration": 0,
    "start_time": "2023-03-31T09:05:16.298Z"
   },
   {
    "duration": 0,
    "start_time": "2023-03-31T09:05:16.299Z"
   },
   {
    "duration": 257,
    "start_time": "2023-03-31T09:12:23.598Z"
   },
   {
    "duration": 68,
    "start_time": "2023-03-31T09:14:20.430Z"
   },
   {
    "duration": 90,
    "start_time": "2023-03-31T09:16:05.353Z"
   },
   {
    "duration": 1086,
    "start_time": "2023-03-31T09:30:35.051Z"
   },
   {
    "duration": 75,
    "start_time": "2023-03-31T09:30:36.139Z"
   },
   {
    "duration": 4,
    "start_time": "2023-03-31T09:30:36.215Z"
   },
   {
    "duration": 60,
    "start_time": "2023-03-31T09:30:36.221Z"
   },
   {
    "duration": 8,
    "start_time": "2023-03-31T09:30:36.283Z"
   },
   {
    "duration": 47,
    "start_time": "2023-03-31T09:30:36.293Z"
   },
   {
    "duration": 12,
    "start_time": "2023-03-31T09:30:36.341Z"
   },
   {
    "duration": 55,
    "start_time": "2023-03-31T09:30:36.355Z"
   },
   {
    "duration": 39,
    "start_time": "2023-03-31T09:30:36.411Z"
   },
   {
    "duration": 5,
    "start_time": "2023-03-31T09:30:36.452Z"
   },
   {
    "duration": 29,
    "start_time": "2023-03-31T09:30:36.458Z"
   },
   {
    "duration": 33,
    "start_time": "2023-03-31T09:30:36.488Z"
   },
   {
    "duration": 35,
    "start_time": "2023-03-31T09:30:36.522Z"
   },
   {
    "duration": 28,
    "start_time": "2023-03-31T09:30:36.558Z"
   },
   {
    "duration": 39,
    "start_time": "2023-03-31T09:30:36.587Z"
   },
   {
    "duration": 32,
    "start_time": "2023-03-31T09:30:36.627Z"
   },
   {
    "duration": 27,
    "start_time": "2023-03-31T09:30:36.660Z"
   },
   {
    "duration": 32,
    "start_time": "2023-03-31T09:30:36.688Z"
   },
   {
    "duration": 21,
    "start_time": "2023-03-31T09:30:36.721Z"
   },
   {
    "duration": 251,
    "start_time": "2023-03-31T09:30:36.743Z"
   },
   {
    "duration": 259,
    "start_time": "2023-03-31T09:30:36.995Z"
   },
   {
    "duration": 8,
    "start_time": "2023-03-31T09:30:37.256Z"
   },
   {
    "duration": 28,
    "start_time": "2023-03-31T09:30:37.266Z"
   },
   {
    "duration": 12,
    "start_time": "2023-03-31T09:30:37.296Z"
   },
   {
    "duration": 195,
    "start_time": "2023-03-31T09:30:37.309Z"
   },
   {
    "duration": 261,
    "start_time": "2023-03-31T09:30:37.505Z"
   },
   {
    "duration": 199,
    "start_time": "2023-03-31T09:30:37.767Z"
   },
   {
    "duration": 294,
    "start_time": "2023-03-31T09:30:37.969Z"
   },
   {
    "duration": 10,
    "start_time": "2023-03-31T09:30:38.264Z"
   },
   {
    "duration": 135,
    "start_time": "2023-03-31T09:30:38.275Z"
   },
   {
    "duration": 4,
    "start_time": "2023-03-31T09:30:38.412Z"
   },
   {
    "duration": 155,
    "start_time": "2023-03-31T09:30:38.418Z"
   },
   {
    "duration": 189,
    "start_time": "2023-03-31T09:30:38.574Z"
   },
   {
    "duration": 4,
    "start_time": "2023-03-31T09:30:38.764Z"
   },
   {
    "duration": 9,
    "start_time": "2023-03-31T09:30:38.770Z"
   },
   {
    "duration": 79,
    "start_time": "2023-03-31T09:30:38.781Z"
   },
   {
    "duration": 0,
    "start_time": "2023-03-31T09:30:38.861Z"
   },
   {
    "duration": 0,
    "start_time": "2023-03-31T09:30:38.863Z"
   },
   {
    "duration": 0,
    "start_time": "2023-03-31T09:30:38.863Z"
   },
   {
    "duration": 0,
    "start_time": "2023-03-31T09:30:38.865Z"
   },
   {
    "duration": 130,
    "start_time": "2023-03-31T09:31:06.487Z"
   },
   {
    "duration": 1023,
    "start_time": "2023-03-31T09:41:56.681Z"
   },
   {
    "duration": 76,
    "start_time": "2023-03-31T09:41:57.706Z"
   },
   {
    "duration": 3,
    "start_time": "2023-03-31T09:41:57.783Z"
   },
   {
    "duration": 46,
    "start_time": "2023-03-31T09:41:57.788Z"
   },
   {
    "duration": 7,
    "start_time": "2023-03-31T09:41:57.835Z"
   },
   {
    "duration": 30,
    "start_time": "2023-03-31T09:41:57.843Z"
   },
   {
    "duration": 7,
    "start_time": "2023-03-31T09:41:57.874Z"
   },
   {
    "duration": 14,
    "start_time": "2023-03-31T09:41:57.883Z"
   },
   {
    "duration": 31,
    "start_time": "2023-03-31T09:41:57.898Z"
   },
   {
    "duration": 4,
    "start_time": "2023-03-31T09:41:57.948Z"
   },
   {
    "duration": 29,
    "start_time": "2023-03-31T09:41:57.953Z"
   },
   {
    "duration": 9,
    "start_time": "2023-03-31T09:41:57.983Z"
   },
   {
    "duration": 14,
    "start_time": "2023-03-31T09:41:57.994Z"
   },
   {
    "duration": 13,
    "start_time": "2023-03-31T09:41:58.009Z"
   },
   {
    "duration": 7,
    "start_time": "2023-03-31T09:41:58.023Z"
   },
   {
    "duration": 18,
    "start_time": "2023-03-31T09:41:58.031Z"
   },
   {
    "duration": 8,
    "start_time": "2023-03-31T09:41:58.050Z"
   },
   {
    "duration": 10,
    "start_time": "2023-03-31T09:41:58.059Z"
   },
   {
    "duration": 9,
    "start_time": "2023-03-31T09:41:58.070Z"
   },
   {
    "duration": 242,
    "start_time": "2023-03-31T09:41:58.080Z"
   },
   {
    "duration": 253,
    "start_time": "2023-03-31T09:41:58.323Z"
   },
   {
    "duration": 10,
    "start_time": "2023-03-31T09:41:58.578Z"
   },
   {
    "duration": 14,
    "start_time": "2023-03-31T09:41:58.589Z"
   },
   {
    "duration": 6,
    "start_time": "2023-03-31T09:41:58.605Z"
   },
   {
    "duration": 207,
    "start_time": "2023-03-31T09:41:58.613Z"
   },
   {
    "duration": 304,
    "start_time": "2023-03-31T09:41:58.821Z"
   },
   {
    "duration": 199,
    "start_time": "2023-03-31T09:41:59.127Z"
   },
   {
    "duration": 328,
    "start_time": "2023-03-31T09:41:59.329Z"
   },
   {
    "duration": 11,
    "start_time": "2023-03-31T09:41:59.659Z"
   },
   {
    "duration": 152,
    "start_time": "2023-03-31T09:41:59.672Z"
   },
   {
    "duration": 5,
    "start_time": "2023-03-31T09:41:59.826Z"
   },
   {
    "duration": 137,
    "start_time": "2023-03-31T09:41:59.832Z"
   },
   {
    "duration": 190,
    "start_time": "2023-03-31T09:41:59.970Z"
   },
   {
    "duration": 3,
    "start_time": "2023-03-31T09:42:00.161Z"
   },
   {
    "duration": 34,
    "start_time": "2023-03-31T09:42:00.165Z"
   },
   {
    "duration": 164,
    "start_time": "2023-03-31T09:42:00.200Z"
   },
   {
    "duration": 8,
    "start_time": "2023-03-31T09:42:00.365Z"
   },
   {
    "duration": 28,
    "start_time": "2023-03-31T09:42:00.375Z"
   },
   {
    "duration": 127,
    "start_time": "2023-03-31T09:42:00.404Z"
   },
   {
    "duration": 0,
    "start_time": "2023-03-31T09:42:00.532Z"
   },
   {
    "duration": 238,
    "start_time": "2023-03-31T09:44:35.803Z"
   },
   {
    "duration": 23,
    "start_time": "2023-03-31T09:44:43.801Z"
   },
   {
    "duration": 1047,
    "start_time": "2023-03-31T09:45:32.852Z"
   },
   {
    "duration": 76,
    "start_time": "2023-03-31T09:45:33.900Z"
   },
   {
    "duration": 3,
    "start_time": "2023-03-31T09:45:33.978Z"
   },
   {
    "duration": 40,
    "start_time": "2023-03-31T09:45:33.983Z"
   },
   {
    "duration": 6,
    "start_time": "2023-03-31T09:45:34.025Z"
   },
   {
    "duration": 35,
    "start_time": "2023-03-31T09:45:34.032Z"
   },
   {
    "duration": 7,
    "start_time": "2023-03-31T09:45:34.069Z"
   },
   {
    "duration": 24,
    "start_time": "2023-03-31T09:45:34.077Z"
   },
   {
    "duration": 44,
    "start_time": "2023-03-31T09:45:34.103Z"
   },
   {
    "duration": 6,
    "start_time": "2023-03-31T09:45:34.150Z"
   },
   {
    "duration": 26,
    "start_time": "2023-03-31T09:45:34.157Z"
   },
   {
    "duration": 10,
    "start_time": "2023-03-31T09:45:34.184Z"
   },
   {
    "duration": 26,
    "start_time": "2023-03-31T09:45:34.195Z"
   },
   {
    "duration": 18,
    "start_time": "2023-03-31T09:45:34.222Z"
   },
   {
    "duration": 37,
    "start_time": "2023-03-31T09:45:34.241Z"
   },
   {
    "duration": 31,
    "start_time": "2023-03-31T09:45:34.279Z"
   },
   {
    "duration": 15,
    "start_time": "2023-03-31T09:45:34.311Z"
   },
   {
    "duration": 10,
    "start_time": "2023-03-31T09:45:34.327Z"
   },
   {
    "duration": 15,
    "start_time": "2023-03-31T09:45:34.338Z"
   },
   {
    "duration": 282,
    "start_time": "2023-03-31T09:45:34.354Z"
   },
   {
    "duration": 261,
    "start_time": "2023-03-31T09:45:34.638Z"
   },
   {
    "duration": 8,
    "start_time": "2023-03-31T09:45:34.900Z"
   },
   {
    "duration": 16,
    "start_time": "2023-03-31T09:45:34.910Z"
   },
   {
    "duration": 9,
    "start_time": "2023-03-31T09:45:34.927Z"
   },
   {
    "duration": 207,
    "start_time": "2023-03-31T09:45:34.948Z"
   },
   {
    "duration": 286,
    "start_time": "2023-03-31T09:45:35.157Z"
   },
   {
    "duration": 200,
    "start_time": "2023-03-31T09:45:35.449Z"
   },
   {
    "duration": 313,
    "start_time": "2023-03-31T09:45:35.651Z"
   },
   {
    "duration": 9,
    "start_time": "2023-03-31T09:45:35.966Z"
   },
   {
    "duration": 139,
    "start_time": "2023-03-31T09:45:35.976Z"
   },
   {
    "duration": 4,
    "start_time": "2023-03-31T09:45:36.116Z"
   },
   {
    "duration": 144,
    "start_time": "2023-03-31T09:45:36.122Z"
   },
   {
    "duration": 184,
    "start_time": "2023-03-31T09:45:36.267Z"
   },
   {
    "duration": 4,
    "start_time": "2023-03-31T09:45:36.452Z"
   },
   {
    "duration": 22,
    "start_time": "2023-03-31T09:45:36.458Z"
   },
   {
    "duration": 157,
    "start_time": "2023-03-31T09:45:36.482Z"
   },
   {
    "duration": 10,
    "start_time": "2023-03-31T09:45:36.641Z"
   },
   {
    "duration": 25,
    "start_time": "2023-03-31T09:45:36.652Z"
   },
   {
    "duration": 40,
    "start_time": "2023-03-31T09:45:36.679Z"
   },
   {
    "duration": 15,
    "start_time": "2023-03-31T09:45:36.721Z"
   },
   {
    "duration": 1248,
    "start_time": "2023-03-31T09:47:13.952Z"
   },
   {
    "duration": 87,
    "start_time": "2023-03-31T09:47:15.202Z"
   },
   {
    "duration": 4,
    "start_time": "2023-03-31T09:47:15.290Z"
   },
   {
    "duration": 57,
    "start_time": "2023-03-31T09:47:15.296Z"
   },
   {
    "duration": 7,
    "start_time": "2023-03-31T09:47:15.355Z"
   },
   {
    "duration": 38,
    "start_time": "2023-03-31T09:47:15.363Z"
   },
   {
    "duration": 8,
    "start_time": "2023-03-31T09:47:15.402Z"
   },
   {
    "duration": 24,
    "start_time": "2023-03-31T09:47:15.411Z"
   },
   {
    "duration": 41,
    "start_time": "2023-03-31T09:47:15.437Z"
   },
   {
    "duration": 4,
    "start_time": "2023-03-31T09:47:15.480Z"
   },
   {
    "duration": 16,
    "start_time": "2023-03-31T09:47:15.486Z"
   },
   {
    "duration": 16,
    "start_time": "2023-03-31T09:47:15.503Z"
   },
   {
    "duration": 28,
    "start_time": "2023-03-31T09:47:15.521Z"
   },
   {
    "duration": 29,
    "start_time": "2023-03-31T09:47:15.550Z"
   },
   {
    "duration": 13,
    "start_time": "2023-03-31T09:47:15.581Z"
   },
   {
    "duration": 25,
    "start_time": "2023-03-31T09:47:15.595Z"
   },
   {
    "duration": 17,
    "start_time": "2023-03-31T09:47:15.622Z"
   },
   {
    "duration": 13,
    "start_time": "2023-03-31T09:47:15.640Z"
   },
   {
    "duration": 21,
    "start_time": "2023-03-31T09:47:15.655Z"
   },
   {
    "duration": 239,
    "start_time": "2023-03-31T09:47:15.679Z"
   },
   {
    "duration": 266,
    "start_time": "2023-03-31T09:47:15.919Z"
   },
   {
    "duration": 8,
    "start_time": "2023-03-31T09:47:16.187Z"
   },
   {
    "duration": 18,
    "start_time": "2023-03-31T09:47:16.197Z"
   },
   {
    "duration": 5,
    "start_time": "2023-03-31T09:47:16.216Z"
   },
   {
    "duration": 200,
    "start_time": "2023-03-31T09:47:16.222Z"
   },
   {
    "duration": 296,
    "start_time": "2023-03-31T09:47:16.424Z"
   },
   {
    "duration": 198,
    "start_time": "2023-03-31T09:47:16.721Z"
   },
   {
    "duration": 340,
    "start_time": "2023-03-31T09:47:16.923Z"
   },
   {
    "duration": 11,
    "start_time": "2023-03-31T09:47:17.265Z"
   },
   {
    "duration": 140,
    "start_time": "2023-03-31T09:47:17.278Z"
   },
   {
    "duration": 4,
    "start_time": "2023-03-31T09:47:17.420Z"
   },
   {
    "duration": 140,
    "start_time": "2023-03-31T09:47:17.426Z"
   },
   {
    "duration": 192,
    "start_time": "2023-03-31T09:47:17.567Z"
   },
   {
    "duration": 4,
    "start_time": "2023-03-31T09:47:17.761Z"
   },
   {
    "duration": 17,
    "start_time": "2023-03-31T09:47:17.766Z"
   },
   {
    "duration": 136,
    "start_time": "2023-03-31T09:47:17.784Z"
   },
   {
    "duration": 10,
    "start_time": "2023-03-31T09:47:17.921Z"
   },
   {
    "duration": 21,
    "start_time": "2023-03-31T09:47:17.932Z"
   },
   {
    "duration": 23,
    "start_time": "2023-03-31T09:47:17.955Z"
   },
   {
    "duration": 11,
    "start_time": "2023-03-31T09:47:17.980Z"
   },
   {
    "duration": 86,
    "start_time": "2023-03-31T09:48:04.806Z"
   }
  ],
  "kernelspec": {
   "display_name": "Python 3 (ipykernel)",
   "language": "python",
   "name": "python3"
  },
  "language_info": {
   "codemirror_mode": {
    "name": "ipython",
    "version": 3
   },
   "file_extension": ".py",
   "mimetype": "text/x-python",
   "name": "python",
   "nbconvert_exporter": "python",
   "pygments_lexer": "ipython3",
   "version": "3.9.5"
  },
  "toc": {
   "base_numbering": 1,
   "nav_menu": {},
   "number_sections": true,
   "sideBar": true,
   "skip_h1_title": true,
   "title_cell": "Table of Contents",
   "title_sidebar": "Contents",
   "toc_cell": false,
   "toc_position": {},
   "toc_section_display": true,
   "toc_window_display": false
  }
 },
 "nbformat": 4,
 "nbformat_minor": 5
}
